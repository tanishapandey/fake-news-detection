{
  "nbformat": 4,
  "nbformat_minor": 0,
  "metadata": {
    "colab": {
      "name": "Weibo_Final_Model_multiplicative.ipynb",
      "provenance": [],
      "collapsed_sections": [],
      "toc_visible": true
    },
    "kernelspec": {
      "name": "python3",
      "display_name": "Python 3"
    },
    "accelerator": "GPU",
    "widgets": {
      "application/vnd.jupyter.widget-state+json": {
        "52c40f9e67b44c6fad122dd35182f78f": {
          "model_module": "@jupyter-widgets/controls",
          "model_name": "HBoxModel",
          "model_module_version": "1.5.0",
          "state": {
            "_view_name": "HBoxView",
            "_dom_classes": [],
            "_model_name": "HBoxModel",
            "_view_module": "@jupyter-widgets/controls",
            "_model_module_version": "1.5.0",
            "_view_count": null,
            "_view_module_version": "1.5.0",
            "box_style": "",
            "layout": "IPY_MODEL_c578099f7a1b44f4816a04b44c80f2aa",
            "_model_module": "@jupyter-widgets/controls",
            "children": [
              "IPY_MODEL_0a4a6ac24b2d48f2ad097d2d77789c3f",
              "IPY_MODEL_870d9c66eba14f94b06c631d1c60672b"
            ]
          }
        },
        "c578099f7a1b44f4816a04b44c80f2aa": {
          "model_module": "@jupyter-widgets/base",
          "model_name": "LayoutModel",
          "model_module_version": "1.2.0",
          "state": {
            "_view_name": "LayoutView",
            "grid_template_rows": null,
            "right": null,
            "justify_content": null,
            "_view_module": "@jupyter-widgets/base",
            "overflow": null,
            "_model_module_version": "1.2.0",
            "_view_count": null,
            "flex_flow": null,
            "width": null,
            "min_width": null,
            "border": null,
            "align_items": null,
            "bottom": null,
            "_model_module": "@jupyter-widgets/base",
            "top": null,
            "grid_column": null,
            "overflow_y": null,
            "overflow_x": null,
            "grid_auto_flow": null,
            "grid_area": null,
            "grid_template_columns": null,
            "flex": null,
            "_model_name": "LayoutModel",
            "justify_items": null,
            "grid_row": null,
            "max_height": null,
            "align_content": null,
            "visibility": null,
            "align_self": null,
            "height": null,
            "min_height": null,
            "padding": null,
            "grid_auto_rows": null,
            "grid_gap": null,
            "max_width": null,
            "order": null,
            "_view_module_version": "1.2.0",
            "grid_template_areas": null,
            "object_position": null,
            "object_fit": null,
            "grid_auto_columns": null,
            "margin": null,
            "display": null,
            "left": null
          }
        },
        "0a4a6ac24b2d48f2ad097d2d77789c3f": {
          "model_module": "@jupyter-widgets/controls",
          "model_name": "FloatProgressModel",
          "model_module_version": "1.5.0",
          "state": {
            "_view_name": "ProgressView",
            "style": "IPY_MODEL_835a62cd974348a9adbe10539356af24",
            "_dom_classes": [],
            "description": "Downloading: 100%",
            "_model_name": "FloatProgressModel",
            "bar_style": "success",
            "max": 109540,
            "_view_module": "@jupyter-widgets/controls",
            "_model_module_version": "1.5.0",
            "value": 109540,
            "_view_count": null,
            "_view_module_version": "1.5.0",
            "orientation": "horizontal",
            "min": 0,
            "description_tooltip": null,
            "_model_module": "@jupyter-widgets/controls",
            "layout": "IPY_MODEL_1351062e3f2b4647884e4abeb073c95f"
          }
        },
        "870d9c66eba14f94b06c631d1c60672b": {
          "model_module": "@jupyter-widgets/controls",
          "model_name": "HTMLModel",
          "model_module_version": "1.5.0",
          "state": {
            "_view_name": "HTMLView",
            "style": "IPY_MODEL_68f57b6b57d9445f93fa7c4492450a05",
            "_dom_classes": [],
            "description": "",
            "_model_name": "HTMLModel",
            "placeholder": "​",
            "_view_module": "@jupyter-widgets/controls",
            "_model_module_version": "1.5.0",
            "value": " 110k/110k [00:00&lt;00:00, 191kB/s]",
            "_view_count": null,
            "_view_module_version": "1.5.0",
            "description_tooltip": null,
            "_model_module": "@jupyter-widgets/controls",
            "layout": "IPY_MODEL_a92c6460ac5b41699a36665c71353d5b"
          }
        },
        "835a62cd974348a9adbe10539356af24": {
          "model_module": "@jupyter-widgets/controls",
          "model_name": "ProgressStyleModel",
          "model_module_version": "1.5.0",
          "state": {
            "_view_name": "StyleView",
            "_model_name": "ProgressStyleModel",
            "description_width": "initial",
            "_view_module": "@jupyter-widgets/base",
            "_model_module_version": "1.5.0",
            "_view_count": null,
            "_view_module_version": "1.2.0",
            "bar_color": null,
            "_model_module": "@jupyter-widgets/controls"
          }
        },
        "1351062e3f2b4647884e4abeb073c95f": {
          "model_module": "@jupyter-widgets/base",
          "model_name": "LayoutModel",
          "model_module_version": "1.2.0",
          "state": {
            "_view_name": "LayoutView",
            "grid_template_rows": null,
            "right": null,
            "justify_content": null,
            "_view_module": "@jupyter-widgets/base",
            "overflow": null,
            "_model_module_version": "1.2.0",
            "_view_count": null,
            "flex_flow": null,
            "width": null,
            "min_width": null,
            "border": null,
            "align_items": null,
            "bottom": null,
            "_model_module": "@jupyter-widgets/base",
            "top": null,
            "grid_column": null,
            "overflow_y": null,
            "overflow_x": null,
            "grid_auto_flow": null,
            "grid_area": null,
            "grid_template_columns": null,
            "flex": null,
            "_model_name": "LayoutModel",
            "justify_items": null,
            "grid_row": null,
            "max_height": null,
            "align_content": null,
            "visibility": null,
            "align_self": null,
            "height": null,
            "min_height": null,
            "padding": null,
            "grid_auto_rows": null,
            "grid_gap": null,
            "max_width": null,
            "order": null,
            "_view_module_version": "1.2.0",
            "grid_template_areas": null,
            "object_position": null,
            "object_fit": null,
            "grid_auto_columns": null,
            "margin": null,
            "display": null,
            "left": null
          }
        },
        "68f57b6b57d9445f93fa7c4492450a05": {
          "model_module": "@jupyter-widgets/controls",
          "model_name": "DescriptionStyleModel",
          "model_module_version": "1.5.0",
          "state": {
            "_view_name": "StyleView",
            "_model_name": "DescriptionStyleModel",
            "description_width": "",
            "_view_module": "@jupyter-widgets/base",
            "_model_module_version": "1.5.0",
            "_view_count": null,
            "_view_module_version": "1.2.0",
            "_model_module": "@jupyter-widgets/controls"
          }
        },
        "a92c6460ac5b41699a36665c71353d5b": {
          "model_module": "@jupyter-widgets/base",
          "model_name": "LayoutModel",
          "model_module_version": "1.2.0",
          "state": {
            "_view_name": "LayoutView",
            "grid_template_rows": null,
            "right": null,
            "justify_content": null,
            "_view_module": "@jupyter-widgets/base",
            "overflow": null,
            "_model_module_version": "1.2.0",
            "_view_count": null,
            "flex_flow": null,
            "width": null,
            "min_width": null,
            "border": null,
            "align_items": null,
            "bottom": null,
            "_model_module": "@jupyter-widgets/base",
            "top": null,
            "grid_column": null,
            "overflow_y": null,
            "overflow_x": null,
            "grid_auto_flow": null,
            "grid_area": null,
            "grid_template_columns": null,
            "flex": null,
            "_model_name": "LayoutModel",
            "justify_items": null,
            "grid_row": null,
            "max_height": null,
            "align_content": null,
            "visibility": null,
            "align_self": null,
            "height": null,
            "min_height": null,
            "padding": null,
            "grid_auto_rows": null,
            "grid_gap": null,
            "max_width": null,
            "order": null,
            "_view_module_version": "1.2.0",
            "grid_template_areas": null,
            "object_position": null,
            "object_fit": null,
            "grid_auto_columns": null,
            "margin": null,
            "display": null,
            "left": null
          }
        },
        "0f2ec43be50249ffb8a23b5e6f19f83e": {
          "model_module": "@jupyter-widgets/controls",
          "model_name": "HBoxModel",
          "model_module_version": "1.5.0",
          "state": {
            "_view_name": "HBoxView",
            "_dom_classes": [],
            "_model_name": "HBoxModel",
            "_view_module": "@jupyter-widgets/controls",
            "_model_module_version": "1.5.0",
            "_view_count": null,
            "_view_module_version": "1.5.0",
            "box_style": "",
            "layout": "IPY_MODEL_97167c73d6624c7cadae502a36113660",
            "_model_module": "@jupyter-widgets/controls",
            "children": [
              "IPY_MODEL_f283a905da1b4bd88e510e79c83599f7",
              "IPY_MODEL_a1d4f5bd614a4fb5bbb2b15b27219a55"
            ]
          }
        },
        "97167c73d6624c7cadae502a36113660": {
          "model_module": "@jupyter-widgets/base",
          "model_name": "LayoutModel",
          "model_module_version": "1.2.0",
          "state": {
            "_view_name": "LayoutView",
            "grid_template_rows": null,
            "right": null,
            "justify_content": null,
            "_view_module": "@jupyter-widgets/base",
            "overflow": null,
            "_model_module_version": "1.2.0",
            "_view_count": null,
            "flex_flow": null,
            "width": null,
            "min_width": null,
            "border": null,
            "align_items": null,
            "bottom": null,
            "_model_module": "@jupyter-widgets/base",
            "top": null,
            "grid_column": null,
            "overflow_y": null,
            "overflow_x": null,
            "grid_auto_flow": null,
            "grid_area": null,
            "grid_template_columns": null,
            "flex": null,
            "_model_name": "LayoutModel",
            "justify_items": null,
            "grid_row": null,
            "max_height": null,
            "align_content": null,
            "visibility": null,
            "align_self": null,
            "height": null,
            "min_height": null,
            "padding": null,
            "grid_auto_rows": null,
            "grid_gap": null,
            "max_width": null,
            "order": null,
            "_view_module_version": "1.2.0",
            "grid_template_areas": null,
            "object_position": null,
            "object_fit": null,
            "grid_auto_columns": null,
            "margin": null,
            "display": null,
            "left": null
          }
        },
        "f283a905da1b4bd88e510e79c83599f7": {
          "model_module": "@jupyter-widgets/controls",
          "model_name": "FloatProgressModel",
          "model_module_version": "1.5.0",
          "state": {
            "_view_name": "ProgressView",
            "style": "IPY_MODEL_99375ca69ae4478facbd9993d624087d",
            "_dom_classes": [],
            "description": "Downloading: 100%",
            "_model_name": "FloatProgressModel",
            "bar_style": "success",
            "max": 624,
            "_view_module": "@jupyter-widgets/controls",
            "_model_module_version": "1.5.0",
            "value": 624,
            "_view_count": null,
            "_view_module_version": "1.5.0",
            "orientation": "horizontal",
            "min": 0,
            "description_tooltip": null,
            "_model_module": "@jupyter-widgets/controls",
            "layout": "IPY_MODEL_b46e10dc90a3484a8fe953d320288299"
          }
        },
        "a1d4f5bd614a4fb5bbb2b15b27219a55": {
          "model_module": "@jupyter-widgets/controls",
          "model_name": "HTMLModel",
          "model_module_version": "1.5.0",
          "state": {
            "_view_name": "HTMLView",
            "style": "IPY_MODEL_340807bd041f44c1b1413df1fc33164b",
            "_dom_classes": [],
            "description": "",
            "_model_name": "HTMLModel",
            "placeholder": "​",
            "_view_module": "@jupyter-widgets/controls",
            "_model_module_version": "1.5.0",
            "value": " 624/624 [00:00&lt;00:00, 1.90kB/s]",
            "_view_count": null,
            "_view_module_version": "1.5.0",
            "description_tooltip": null,
            "_model_module": "@jupyter-widgets/controls",
            "layout": "IPY_MODEL_e5b5bf41fc094196b0a2ff669229e08f"
          }
        },
        "99375ca69ae4478facbd9993d624087d": {
          "model_module": "@jupyter-widgets/controls",
          "model_name": "ProgressStyleModel",
          "model_module_version": "1.5.0",
          "state": {
            "_view_name": "StyleView",
            "_model_name": "ProgressStyleModel",
            "description_width": "initial",
            "_view_module": "@jupyter-widgets/base",
            "_model_module_version": "1.5.0",
            "_view_count": null,
            "_view_module_version": "1.2.0",
            "bar_color": null,
            "_model_module": "@jupyter-widgets/controls"
          }
        },
        "b46e10dc90a3484a8fe953d320288299": {
          "model_module": "@jupyter-widgets/base",
          "model_name": "LayoutModel",
          "model_module_version": "1.2.0",
          "state": {
            "_view_name": "LayoutView",
            "grid_template_rows": null,
            "right": null,
            "justify_content": null,
            "_view_module": "@jupyter-widgets/base",
            "overflow": null,
            "_model_module_version": "1.2.0",
            "_view_count": null,
            "flex_flow": null,
            "width": null,
            "min_width": null,
            "border": null,
            "align_items": null,
            "bottom": null,
            "_model_module": "@jupyter-widgets/base",
            "top": null,
            "grid_column": null,
            "overflow_y": null,
            "overflow_x": null,
            "grid_auto_flow": null,
            "grid_area": null,
            "grid_template_columns": null,
            "flex": null,
            "_model_name": "LayoutModel",
            "justify_items": null,
            "grid_row": null,
            "max_height": null,
            "align_content": null,
            "visibility": null,
            "align_self": null,
            "height": null,
            "min_height": null,
            "padding": null,
            "grid_auto_rows": null,
            "grid_gap": null,
            "max_width": null,
            "order": null,
            "_view_module_version": "1.2.0",
            "grid_template_areas": null,
            "object_position": null,
            "object_fit": null,
            "grid_auto_columns": null,
            "margin": null,
            "display": null,
            "left": null
          }
        },
        "340807bd041f44c1b1413df1fc33164b": {
          "model_module": "@jupyter-widgets/controls",
          "model_name": "DescriptionStyleModel",
          "model_module_version": "1.5.0",
          "state": {
            "_view_name": "StyleView",
            "_model_name": "DescriptionStyleModel",
            "description_width": "",
            "_view_module": "@jupyter-widgets/base",
            "_model_module_version": "1.5.0",
            "_view_count": null,
            "_view_module_version": "1.2.0",
            "_model_module": "@jupyter-widgets/controls"
          }
        },
        "e5b5bf41fc094196b0a2ff669229e08f": {
          "model_module": "@jupyter-widgets/base",
          "model_name": "LayoutModel",
          "model_module_version": "1.2.0",
          "state": {
            "_view_name": "LayoutView",
            "grid_template_rows": null,
            "right": null,
            "justify_content": null,
            "_view_module": "@jupyter-widgets/base",
            "overflow": null,
            "_model_module_version": "1.2.0",
            "_view_count": null,
            "flex_flow": null,
            "width": null,
            "min_width": null,
            "border": null,
            "align_items": null,
            "bottom": null,
            "_model_module": "@jupyter-widgets/base",
            "top": null,
            "grid_column": null,
            "overflow_y": null,
            "overflow_x": null,
            "grid_auto_flow": null,
            "grid_area": null,
            "grid_template_columns": null,
            "flex": null,
            "_model_name": "LayoutModel",
            "justify_items": null,
            "grid_row": null,
            "max_height": null,
            "align_content": null,
            "visibility": null,
            "align_self": null,
            "height": null,
            "min_height": null,
            "padding": null,
            "grid_auto_rows": null,
            "grid_gap": null,
            "max_width": null,
            "order": null,
            "_view_module_version": "1.2.0",
            "grid_template_areas": null,
            "object_position": null,
            "object_fit": null,
            "grid_auto_columns": null,
            "margin": null,
            "display": null,
            "left": null
          }
        }
      }
    }
  },
  "cells": [
    {
      "cell_type": "code",
      "metadata": {
        "colab": {
          "base_uri": "https://localhost:8080/"
        },
        "id": "xT57z3Kq6E7z",
        "outputId": "3a9b23f2-c5fa-4849-eb60-697e68deb307"
      },
      "source": [
        "from google.colab import drive\n",
        "drive.mount('/content/drive')"
      ],
      "execution_count": null,
      "outputs": [
        {
          "output_type": "stream",
          "text": [
            "Mounted at /content/drive\n"
          ],
          "name": "stdout"
        }
      ]
    },
    {
      "cell_type": "code",
      "metadata": {
        "colab": {
          "base_uri": "https://localhost:8080/"
        },
        "id": "fsa87LLn6aAw",
        "outputId": "a6e4b6ba-4517-440b-e16e-581f3bb75d78"
      },
      "source": [
        "! pip install transformers"
      ],
      "execution_count": null,
      "outputs": [
        {
          "output_type": "stream",
          "text": [
            "Collecting transformers\n",
            "\u001b[?25l  Downloading https://files.pythonhosted.org/packages/cd/40/866cbfac4601e0f74c7303d533a9c5d4a53858bd402e08e3e294dd271f25/transformers-4.2.1-py3-none-any.whl (1.8MB)\n",
            "\u001b[K     |████████████████████████████████| 1.8MB 4.2MB/s \n",
            "\u001b[?25hRequirement already satisfied: numpy in /usr/local/lib/python3.6/dist-packages (from transformers) (1.19.5)\n",
            "Requirement already satisfied: dataclasses; python_version < \"3.7\" in /usr/local/lib/python3.6/dist-packages (from transformers) (0.8)\n",
            "Collecting tokenizers==0.9.4\n",
            "\u001b[?25l  Downloading https://files.pythonhosted.org/packages/0f/1c/e789a8b12e28be5bc1ce2156cf87cb522b379be9cadc7ad8091a4cc107c4/tokenizers-0.9.4-cp36-cp36m-manylinux2010_x86_64.whl (2.9MB)\n",
            "\u001b[K     |████████████████████████████████| 2.9MB 37.1MB/s \n",
            "\u001b[?25hRequirement already satisfied: packaging in /usr/local/lib/python3.6/dist-packages (from transformers) (20.8)\n",
            "Requirement already satisfied: regex!=2019.12.17 in /usr/local/lib/python3.6/dist-packages (from transformers) (2019.12.20)\n",
            "Collecting sacremoses\n",
            "\u001b[?25l  Downloading https://files.pythonhosted.org/packages/7d/34/09d19aff26edcc8eb2a01bed8e98f13a1537005d31e95233fd48216eed10/sacremoses-0.0.43.tar.gz (883kB)\n",
            "\u001b[K     |████████████████████████████████| 890kB 35.0MB/s \n",
            "\u001b[?25hRequirement already satisfied: tqdm>=4.27 in /usr/local/lib/python3.6/dist-packages (from transformers) (4.41.1)\n",
            "Requirement already satisfied: importlib-metadata; python_version < \"3.8\" in /usr/local/lib/python3.6/dist-packages (from transformers) (3.3.0)\n",
            "Requirement already satisfied: filelock in /usr/local/lib/python3.6/dist-packages (from transformers) (3.0.12)\n",
            "Requirement already satisfied: requests in /usr/local/lib/python3.6/dist-packages (from transformers) (2.23.0)\n",
            "Requirement already satisfied: pyparsing>=2.0.2 in /usr/local/lib/python3.6/dist-packages (from packaging->transformers) (2.4.7)\n",
            "Requirement already satisfied: six in /usr/local/lib/python3.6/dist-packages (from sacremoses->transformers) (1.15.0)\n",
            "Requirement already satisfied: click in /usr/local/lib/python3.6/dist-packages (from sacremoses->transformers) (7.1.2)\n",
            "Requirement already satisfied: joblib in /usr/local/lib/python3.6/dist-packages (from sacremoses->transformers) (1.0.0)\n",
            "Requirement already satisfied: typing-extensions>=3.6.4; python_version < \"3.8\" in /usr/local/lib/python3.6/dist-packages (from importlib-metadata; python_version < \"3.8\"->transformers) (3.7.4.3)\n",
            "Requirement already satisfied: zipp>=0.5 in /usr/local/lib/python3.6/dist-packages (from importlib-metadata; python_version < \"3.8\"->transformers) (3.4.0)\n",
            "Requirement already satisfied: chardet<4,>=3.0.2 in /usr/local/lib/python3.6/dist-packages (from requests->transformers) (3.0.4)\n",
            "Requirement already satisfied: certifi>=2017.4.17 in /usr/local/lib/python3.6/dist-packages (from requests->transformers) (2020.12.5)\n",
            "Requirement already satisfied: idna<3,>=2.5 in /usr/local/lib/python3.6/dist-packages (from requests->transformers) (2.10)\n",
            "Requirement already satisfied: urllib3!=1.25.0,!=1.25.1,<1.26,>=1.21.1 in /usr/local/lib/python3.6/dist-packages (from requests->transformers) (1.24.3)\n",
            "Building wheels for collected packages: sacremoses\n",
            "  Building wheel for sacremoses (setup.py) ... \u001b[?25l\u001b[?25hdone\n",
            "  Created wheel for sacremoses: filename=sacremoses-0.0.43-cp36-none-any.whl size=893261 sha256=8cce2b9802c7bbaa73cdd4fd09643055d40e1b08faeb73efd0d51ecb3cd30112\n",
            "  Stored in directory: /root/.cache/pip/wheels/29/3c/fd/7ce5c3f0666dab31a50123635e6fb5e19ceb42ce38d4e58f45\n",
            "Successfully built sacremoses\n",
            "Installing collected packages: tokenizers, sacremoses, transformers\n",
            "Successfully installed sacremoses-0.0.43 tokenizers-0.9.4 transformers-4.2.1\n"
          ],
          "name": "stdout"
        }
      ]
    },
    {
      "cell_type": "code",
      "metadata": {
        "id": "soV3Z14B7CKz"
      },
      "source": [
        "import pandas as pd\n",
        "import random\n",
        "import math\n",
        "import numpy as np\n",
        "import torch\n",
        "import torch.nn as nn\n",
        "import torch.nn.functional as F\n",
        "import torch.autograd as autograd\n",
        "from torch.nn.utils.rnn import pack_padded_sequence, pad_packed_sequence\n",
        "from torch.nn import Parameter\n",
        "from transformers import BertModel\n",
        "from transformers import BertConfig\n",
        "from transformers import BertTokenizer\n",
        "from keras.preprocessing.sequence import pad_sequences\n",
        "import torch.optim as optim\n",
        "import copy"
      ],
      "execution_count": null,
      "outputs": []
    },
    {
      "cell_type": "code",
      "metadata": {
        "id": "7Do3_Jim-LqF"
      },
      "source": [
        "from transformers import BertLayer\n",
        "import pickle"
      ],
      "execution_count": null,
      "outputs": []
    },
    {
      "cell_type": "code",
      "metadata": {
        "id": "N8sMHFHp7FcS"
      },
      "source": [
        "device = torch.device(\"cuda:0\" if torch.cuda.is_available() else \"cpu\")"
      ],
      "execution_count": null,
      "outputs": []
    },
    {
      "cell_type": "code",
      "metadata": {
        "id": "mE_-QaN0DX6X"
      },
      "source": [
        "def get_df(file):\n",
        "    return pd.read_csv(file, sep='|',header = None)"
      ],
      "execution_count": null,
      "outputs": []
    },
    {
      "cell_type": "code",
      "metadata": {
        "id": "QECKknXvD9CD"
      },
      "source": [
        "train_df_fake = get_df('/content/drive/My Drive/WeiboRumorSet/WeiboRumorSet/tweets/train_rumor.txt')\n",
        "train_df_real = get_df('/content/drive/My Drive/WeiboRumorSet/WeiboRumorSet/tweets/train_nonrumor.txt')\n",
        "test_df_fake = get_df('/content/drive/My Drive/WeiboRumorSet/WeiboRumorSet/tweets/test_rumor.txt')\n",
        "test_df_real = get_df('/content/drive/My Drive/WeiboRumorSet/WeiboRumorSet/tweets/test_nonrumor.txt')"
      ],
      "execution_count": null,
      "outputs": []
    },
    {
      "cell_type": "code",
      "metadata": {
        "colab": {
          "base_uri": "https://localhost:8080/",
          "height": 526
        },
        "id": "dRKcctPoLdF4",
        "outputId": "69c7d49c-560d-4620-df2b-6023310f12f3"
      },
      "source": [
        "train_df_fake"
      ],
      "execution_count": null,
      "outputs": [
        {
          "output_type": "execute_result",
          "data": {
            "text/html": [
              "<div>\n",
              "<style scoped>\n",
              "    .dataframe tbody tr th:only-of-type {\n",
              "        vertical-align: middle;\n",
              "    }\n",
              "\n",
              "    .dataframe tbody tr th {\n",
              "        vertical-align: top;\n",
              "    }\n",
              "\n",
              "    .dataframe thead th {\n",
              "        text-align: right;\n",
              "    }\n",
              "</style>\n",
              "<table border=\"1\" class=\"dataframe\">\n",
              "  <thead>\n",
              "    <tr style=\"text-align: right;\">\n",
              "      <th></th>\n",
              "      <th>0</th>\n",
              "      <th>1</th>\n",
              "      <th>2</th>\n",
              "      <th>3</th>\n",
              "      <th>4</th>\n",
              "      <th>5</th>\n",
              "      <th>6</th>\n",
              "      <th>7</th>\n",
              "      <th>8</th>\n",
              "      <th>9</th>\n",
              "      <th>10</th>\n",
              "      <th>11</th>\n",
              "      <th>12</th>\n",
              "      <th>13</th>\n",
              "      <th>14</th>\n",
              "    </tr>\n",
              "  </thead>\n",
              "  <tbody>\n",
              "    <tr>\n",
              "      <th>0</th>\n",
              "      <td>3511947309647762</td>\n",
              "      <td>地球超级爆料</td>\n",
              "      <td>http://weibo.com/2803550292/z50NQEtP4</td>\n",
              "      <td>NaN</td>\n",
              "      <td>2012-11-13 16:55</td>\n",
              "      <td>true</td>\n",
              "      <td>79</td>\n",
              "      <td>18</td>\n",
              "      <td>0</td>\n",
              "      <td>2803550292</td>\n",
              "      <td>0.0</td>\n",
              "      <td>5047.0</td>\n",
              "      <td>1770.0</td>\n",
              "      <td>1979.0</td>\n",
              "      <td>微博 weibo.com</td>\n",
              "    </tr>\n",
              "    <tr>\n",
              "      <th>1</th>\n",
              "      <td>http://ww1.sinaimg.cn/large/a71ac854gw1dytin2z...</td>\n",
              "      <td>NaN</td>\n",
              "      <td>NaN</td>\n",
              "      <td>NaN</td>\n",
              "      <td>NaN</td>\n",
              "      <td>NaN</td>\n",
              "      <td>NaN</td>\n",
              "      <td>NaN</td>\n",
              "      <td>NaN</td>\n",
              "      <td>NaN</td>\n",
              "      <td>NaN</td>\n",
              "      <td>NaN</td>\n",
              "      <td>NaN</td>\n",
              "      <td>NaN</td>\n",
              "      <td>NaN</td>\n",
              "    </tr>\n",
              "    <tr>\n",
              "      <th>2</th>\n",
              "      <td>震惊，转发求证：【想都不敢想 ，在美国一桶金龙鱼食用油只要8元人民币】 一桶食用油相当于中国...</td>\n",
              "      <td>NaN</td>\n",
              "      <td>NaN</td>\n",
              "      <td>NaN</td>\n",
              "      <td>NaN</td>\n",
              "      <td>NaN</td>\n",
              "      <td>NaN</td>\n",
              "      <td>NaN</td>\n",
              "      <td>NaN</td>\n",
              "      <td>NaN</td>\n",
              "      <td>NaN</td>\n",
              "      <td>NaN</td>\n",
              "      <td>NaN</td>\n",
              "      <td>NaN</td>\n",
              "      <td>NaN</td>\n",
              "    </tr>\n",
              "    <tr>\n",
              "      <th>3</th>\n",
              "      <td>3576100079039606</td>\n",
              "      <td>Noodles_Liu</td>\n",
              "      <td>http://weibo.com/1000432103/zvVI3BVC6</td>\n",
              "      <td>NaN</td>\n",
              "      <td>2013-05-09 17:36</td>\n",
              "      <td>true</td>\n",
              "      <td>1</td>\n",
              "      <td>0</td>\n",
              "      <td>0</td>\n",
              "      <td>1000432103</td>\n",
              "      <td>0.0</td>\n",
              "      <td>9049.0</td>\n",
              "      <td>490.0</td>\n",
              "      <td>28017.0</td>\n",
              "      <td>iPhone客户端</td>\n",
              "    </tr>\n",
              "    <tr>\n",
              "      <th>4</th>\n",
              "      <td>http://ww1.sinaimg.cn/large/3ba161e7jw1e4i6j4e...</td>\n",
              "      <td>NaN</td>\n",
              "      <td>NaN</td>\n",
              "      <td>NaN</td>\n",
              "      <td>NaN</td>\n",
              "      <td>NaN</td>\n",
              "      <td>NaN</td>\n",
              "      <td>NaN</td>\n",
              "      <td>NaN</td>\n",
              "      <td>NaN</td>\n",
              "      <td>NaN</td>\n",
              "      <td>NaN</td>\n",
              "      <td>NaN</td>\n",
              "      <td>NaN</td>\n",
              "      <td>NaN</td>\n",
              "    </tr>\n",
              "    <tr>\n",
              "      <th>...</th>\n",
              "      <td>...</td>\n",
              "      <td>...</td>\n",
              "      <td>...</td>\n",
              "      <td>...</td>\n",
              "      <td>...</td>\n",
              "      <td>...</td>\n",
              "      <td>...</td>\n",
              "      <td>...</td>\n",
              "      <td>...</td>\n",
              "      <td>...</td>\n",
              "      <td>...</td>\n",
              "      <td>...</td>\n",
              "      <td>...</td>\n",
              "      <td>...</td>\n",
              "      <td>...</td>\n",
              "    </tr>\n",
              "    <tr>\n",
              "      <th>11189</th>\n",
              "      <td>3795205020509978</td>\n",
              "      <td>雯雯兜兜2</td>\n",
              "      <td>http://weibo.com/5221338222/BDWIu28Fs</td>\n",
              "      <td>NaN</td>\n",
              "      <td>2015-01-04 07:30</td>\n",
              "      <td>true</td>\n",
              "      <td>0</td>\n",
              "      <td>4</td>\n",
              "      <td>11942</td>\n",
              "      <td>5221338222</td>\n",
              "      <td>0.0</td>\n",
              "      <td>146.0</td>\n",
              "      <td>169.0</td>\n",
              "      <td>622.0</td>\n",
              "      <td>iPhone 5s</td>\n",
              "    </tr>\n",
              "    <tr>\n",
              "      <th>11190</th>\n",
              "      <td>http://ww2.sinaimg.cn/large/a716fd45jw1enx4x69...</td>\n",
              "      <td>http://ww4.sinaimg.cn/large/a716fd45jw1enx4x6d...</td>\n",
              "      <td>http://ww3.sinaimg.cn/large/a716fd45jw1enx4x6k...</td>\n",
              "      <td>http://ww1.sinaimg.cn/large/a716fd45jw1enx4x6q...</td>\n",
              "      <td>http://ww4.sinaimg.cn/large/a716fd45jw1enx4x6r...</td>\n",
              "      <td>http://ww4.sinaimg.cn/large/a716fd45jw1enx4x70...</td>\n",
              "      <td>http://ww1.sinaimg.cn/large/a716fd45jw1enx4x71...</td>\n",
              "      <td>http://ww1.sinaimg.cn/large/a716fd45jw1enx4x75...</td>\n",
              "      <td>http://ww1.sinaimg.cn/large/a716fd45jw1enx4x7e...</td>\n",
              "      <td>NaN</td>\n",
              "      <td>NaN</td>\n",
              "      <td>NaN</td>\n",
              "      <td>NaN</td>\n",
              "      <td>NaN</td>\n",
              "      <td>NaN</td>\n",
              "    </tr>\n",
              "    <tr>\n",
              "      <th>11191</th>\n",
              "      <td>3720633525700857</td>\n",
              "      <td>D-雨中伞</td>\n",
              "      <td>http://weibo.com/3071526677/B8ELSnV3j</td>\n",
              "      <td>NaN</td>\n",
              "      <td>2014-01-02 17:01</td>\n",
              "      <td>true</td>\n",
              "      <td>0</td>\n",
              "      <td>0</td>\n",
              "      <td>968</td>\n",
              "      <td>3071526677</td>\n",
              "      <td>0.0</td>\n",
              "      <td>96.0</td>\n",
              "      <td>108.0</td>\n",
              "      <td>16.0</td>\n",
              "      <td>iPhone客户端</td>\n",
              "    </tr>\n",
              "    <tr>\n",
              "      <th>11192</th>\n",
              "      <td>http://ww4.sinaimg.cn/large/668669eagw1ec59jtc...</td>\n",
              "      <td>http://ww3.sinaimg.cn/large/668669eagw1ec59k3d...</td>\n",
              "      <td>http://ww3.sinaimg.cn/large/668669eagw1ec59k4k...</td>\n",
              "      <td>http://ww3.sinaimg.cn/large/668669eagw1ec59k75...</td>\n",
              "      <td>http://ww4.sinaimg.cn/large/668669eagw1ec59k9w...</td>\n",
              "      <td>http://ww2.sinaimg.cn/large/668669eagw1ec59kdv...</td>\n",
              "      <td>http://ww4.sinaimg.cn/large/668669eagw1ec59kxd...</td>\n",
              "      <td>http://ww2.sinaimg.cn/large/668669eagw1ec59kzu...</td>\n",
              "      <td>http://ww1.sinaimg.cn/large/668669eagw1ec59l1t...</td>\n",
              "      <td>NaN</td>\n",
              "      <td>NaN</td>\n",
              "      <td>NaN</td>\n",
              "      <td>NaN</td>\n",
              "      <td>NaN</td>\n",
              "      <td>NaN</td>\n",
              "    </tr>\n",
              "    <tr>\n",
              "      <th>11193</th>\n",
              "      <td>@朱秋霞77:寻人 13969597919帮忙扩散，今天上午一个三岁多小女孩在高新开发区怡馨...</td>\n",
              "      <td>NaN</td>\n",
              "      <td>NaN</td>\n",
              "      <td>NaN</td>\n",
              "      <td>NaN</td>\n",
              "      <td>NaN</td>\n",
              "      <td>NaN</td>\n",
              "      <td>NaN</td>\n",
              "      <td>NaN</td>\n",
              "      <td>NaN</td>\n",
              "      <td>NaN</td>\n",
              "      <td>NaN</td>\n",
              "      <td>NaN</td>\n",
              "      <td>NaN</td>\n",
              "      <td>NaN</td>\n",
              "    </tr>\n",
              "  </tbody>\n",
              "</table>\n",
              "<p>11194 rows × 15 columns</p>\n",
              "</div>"
            ],
            "text/plain": [
              "                                                      0   ...            14\n",
              "0                                       3511947309647762  ...  微博 weibo.com\n",
              "1      http://ww1.sinaimg.cn/large/a71ac854gw1dytin2z...  ...           NaN\n",
              "2      震惊，转发求证：【想都不敢想 ，在美国一桶金龙鱼食用油只要8元人民币】 一桶食用油相当于中国...  ...           NaN\n",
              "3                                       3576100079039606  ...     iPhone客户端\n",
              "4      http://ww1.sinaimg.cn/large/3ba161e7jw1e4i6j4e...  ...           NaN\n",
              "...                                                  ...  ...           ...\n",
              "11189                                   3795205020509978  ...     iPhone 5s\n",
              "11190  http://ww2.sinaimg.cn/large/a716fd45jw1enx4x69...  ...           NaN\n",
              "11191                                   3720633525700857  ...     iPhone客户端\n",
              "11192  http://ww4.sinaimg.cn/large/668669eagw1ec59jtc...  ...           NaN\n",
              "11193  @朱秋霞77:寻人 13969597919帮忙扩散，今天上午一个三岁多小女孩在高新开发区怡馨...  ...           NaN\n",
              "\n",
              "[11194 rows x 15 columns]"
            ]
          },
          "metadata": {
            "tags": []
          },
          "execution_count": 8
        }
      ]
    },
    {
      "cell_type": "code",
      "metadata": {
        "id": "XeesQVhmEN-G"
      },
      "source": [
        "train_fake = train_df_fake[0].tolist()\n",
        "train_real = train_df_real[0].tolist()\n",
        "test_fake = test_df_fake[0].tolist()\n",
        "test_real = test_df_real[0].tolist()"
      ],
      "execution_count": null,
      "outputs": []
    },
    {
      "cell_type": "code",
      "metadata": {
        "id": "ZXSZwwNFAPwZ"
      },
      "source": [
        "def fix_offset(list_):\n",
        "    fixed_flag = False\n",
        "\n",
        "    while not fixed_flag:\n",
        "        exit_flag=False\n",
        "        temp = copy.deepcopy(list_)\n",
        "        for i,v in enumerate(temp):\n",
        "            if v!=None:\n",
        "                if 'sinaimg.cn' in v:\n",
        "                    if list_[i+1] !=None:\n",
        "                        if list_[i+1].isdigit():\n",
        "                            list_.insert(i+1,None)\n",
        "                            exit_flag=True\n",
        "                            break\n",
        "        if not exit_flag:\n",
        "            fixed_flag=True\n",
        "            \n",
        "    return list_"
      ],
      "execution_count": null,
      "outputs": []
    },
    {
      "cell_type": "code",
      "metadata": {
        "id": "EVcK9wT4ASoB"
      },
      "source": [
        "train_fake = fix_offset(train_fake) \n",
        "train_real = fix_offset(train_real)\n",
        "test_fake = fix_offset(test_fake)\n",
        "test_real = fix_offset(test_real)"
      ],
      "execution_count": null,
      "outputs": []
    },
    {
      "cell_type": "code",
      "metadata": {
        "id": "4MNsZVuuAYBX"
      },
      "source": [
        "def break_in_block(list_):\n",
        "    temp = []\n",
        "    for i in range(0,len(list_),3):\n",
        "        temp.append(list_[i:i+3])\n",
        "    return temp"
      ],
      "execution_count": null,
      "outputs": []
    },
    {
      "cell_type": "code",
      "metadata": {
        "id": "adld7d9xAZKg"
      },
      "source": [
        "train_fake = break_in_block(train_fake)\n",
        "train_real = break_in_block(train_real)\n",
        "test_fake = break_in_block(test_fake)\n",
        "test_real = break_in_block(test_real)"
      ],
      "execution_count": null,
      "outputs": []
    },
    {
      "cell_type": "code",
      "metadata": {
        "colab": {
          "base_uri": "https://localhost:8080/"
        },
        "id": "btUd790YAeVS",
        "outputId": "b6b60650-b06b-45e9-9ca8-8b543e556ad0"
      },
      "source": [
        "len(train_fake),len(train_real),len(test_fake),len(test_real)"
      ],
      "execution_count": null,
      "outputs": [
        {
          "output_type": "execute_result",
          "data": {
            "text/plain": [
              "(3748, 3783, 1000, 996)"
            ]
          },
          "metadata": {
            "tags": []
          },
          "execution_count": 14
        }
      ]
    },
    {
      "cell_type": "code",
      "metadata": {
        "colab": {
          "base_uri": "https://localhost:8080/"
        },
        "id": "sv1ye6miMglo",
        "outputId": "7147d899-a9fb-43e6-abf5-6e0d7ffcbbe9"
      },
      "source": [
        "train_fake[0]"
      ],
      "execution_count": null,
      "outputs": [
        {
          "output_type": "execute_result",
          "data": {
            "text/plain": [
              "['3511947309647762',\n",
              " 'http://ww1.sinaimg.cn/large/a71ac854gw1dytin2zmk9j.jpg',\n",
              " '震惊，转发求证：【想都不敢想 ，在美国一桶金龙鱼食用油只要8元人民币】 一桶食用油相当于中国超市40多元(现在估计已经涨到五六十元了)的金龙鱼，在纽约沃尔玛感恩节时是1.6美元，圣诞节降至1.3美元。(折合人民币8.58元，而且油是绿色纯天然的，不是转基因的)，为什么中国一桶食用油要卖几十上百元？']"
            ]
          },
          "metadata": {
            "tags": []
          },
          "execution_count": 15
        }
      ]
    },
    {
      "cell_type": "code",
      "metadata": {
        "id": "A7xAnDugAiMw"
      },
      "source": [
        "def get_image_and_text_list(blocks_list):\n",
        "    image_list = []\n",
        "    text_list = []\n",
        "    for i in blocks_list:\n",
        "        if i[-1] !=None:\n",
        "            image_list.append(i[1])\n",
        "            text_list.append(i[-1])\n",
        "    image_list = [i.split('/')[-1] for i in image_list]\n",
        "    return image_list, text_list"
      ],
      "execution_count": null,
      "outputs": []
    },
    {
      "cell_type": "code",
      "metadata": {
        "id": "SSqmQPhtAk30"
      },
      "source": [
        "train_fake_image,train_fake_text = get_image_and_text_list(train_fake)\n",
        "train_real_image,train_real_text = get_image_and_text_list(train_real)\n",
        "test_fake_image,test_fake_text = get_image_and_text_list(test_fake)\n",
        "test_real_image,test_real_text = get_image_and_text_list(test_real)"
      ],
      "execution_count": null,
      "outputs": []
    },
    {
      "cell_type": "code",
      "metadata": {
        "id": "4xTCSD2yAoCS"
      },
      "source": [
        "train_fake_Y = [0]*len(train_fake_image)\n",
        "train_real_Y = [1]*len(train_real_image)\n",
        "test_fake_Y = [0]*len(test_fake_image)\n",
        "test_real_Y = [1]*len(test_real_image)"
      ],
      "execution_count": null,
      "outputs": []
    },
    {
      "cell_type": "code",
      "metadata": {
        "id": "OMolhYaBAr2X"
      },
      "source": [
        "train_images = train_fake_image+train_real_image\n",
        "train_text = train_fake_text + train_real_text\n",
        "trainY = train_fake_Y+train_real_Y\n",
        "\n",
        "test_images = test_fake_image+test_real_image\n",
        "test_text = test_fake_text+test_real_text\n",
        "testY = test_fake_Y+test_real_Y"
      ],
      "execution_count": null,
      "outputs": []
    },
    {
      "cell_type": "code",
      "metadata": {
        "colab": {
          "base_uri": "https://localhost:8080/"
        },
        "id": "PWZ31XxGAvCh",
        "outputId": "40160806-ee76-461c-ad90-823b83c432de"
      },
      "source": [
        "len(train_images),len(train_text),len(trainY),len(test_images),len(test_text),len(testY)"
      ],
      "execution_count": null,
      "outputs": [
        {
          "output_type": "execute_result",
          "data": {
            "text/plain": [
              "(7481, 7481, 7481, 1930, 1930, 1930)"
            ]
          },
          "metadata": {
            "tags": []
          },
          "execution_count": 20
        }
      ]
    },
    {
      "cell_type": "code",
      "metadata": {
        "id": "AUKFw8V9AzAc"
      },
      "source": [
        "train_images = np.array(train_images)\n",
        "train_text = np.array(train_text)\n",
        "trainY = np.array(trainY)\n",
        "test_images = np.array(test_images)\n",
        "test_text = np.array(test_text)\n",
        "testY = np.array(testY)"
      ],
      "execution_count": null,
      "outputs": []
    },
    {
      "cell_type": "code",
      "metadata": {
        "id": "cbFEYcqFuYv6"
      },
      "source": [
        "from os import walk\n",
        "def get_total_images() :\n",
        "  mypath = \"/content/drive/My Drive/multi-modal/weibo/airsplay/feat_rumor/\"\n",
        "  mypath1 = \"/content/drive/My Drive/multi-modal/weibo/airsplay/feat_nonrumor/\"\n",
        "  img_feat = []\n",
        "  for (dirpath, dirnames, filenames) in walk(mypath):\n",
        "      img_feat.extend(filenames)\n",
        "      break\n",
        "  print(\"Read feat rumor\")\n",
        "  for (dirpath, dirnames, filenames) in walk(mypath1):\n",
        "      img_feat.extend(filenames)\n",
        "      break \n",
        "  print(\"Read feat nonrumor\")\n",
        "  mypath3 = \"/content/drive/My Drive/WeiboRumorSet/WeiboRumorSet/rumor_images/\"\n",
        "  images = []\n",
        "  for (dirpath, dirnames, filenames) in walk(mypath3):\n",
        "      images.extend(filenames)\n",
        "      break\n",
        "  print(\"Read feat rumor\")\n",
        "  mypath4 = \"/content/drive/My Drive/WeiboRumorSet/WeiboRumorSet/nonrumor_images/\"\n",
        "  for (dirpath, dirnames, filenames) in walk(mypath4):\n",
        "      images.extend(filenames)\n",
        "      break\n",
        "  print(\"Read feat non rumor\")\n",
        "  img_dict = {}\n",
        "  for img in images :\n",
        "    img_dict[img[:-4]] = img\n",
        "  total_img = []\n",
        "  for img in img_feat :\n",
        "    total_img.append(img_dict[img[:-4]])\n",
        "  return total_img"
      ],
      "execution_count": null,
      "outputs": []
    },
    {
      "cell_type": "code",
      "metadata": {
        "colab": {
          "base_uri": "https://localhost:8080/"
        },
        "id": "eB3MPIbTwwGr",
        "outputId": "6581bd4f-cfee-4fc1-ab2c-d5279a7e1190"
      },
      "source": [
        "total_images = get_total_images()"
      ],
      "execution_count": null,
      "outputs": [
        {
          "output_type": "stream",
          "text": [
            "Read feat rumor\n",
            "Read feat nonrumor\n",
            "Read feat rumor\n",
            "Read feat non rumor\n"
          ],
          "name": "stdout"
        }
      ]
    },
    {
      "cell_type": "code",
      "metadata": {
        "id": "eXhrocIuA325"
      },
      "source": [
        "def index_to_delete(list_, total_images):\n",
        "    # list_images_dir = listdir('WeiboRumorSet/images/')\n",
        "    gif_list = ['957e1cf2tw1e5foxts295g206o03p4qp.gif','a716fd45jw1ev0cgf8j46g209505zh4i.gif','005vnhZYgw1evupo8ttddg308w06o4qp.gif','7da75521gw1ele2jvi85rg2096056u0x.gif']\n",
        "    index = []\n",
        "    for i,v in enumerate(list_):\n",
        "        if v not in total_images:\n",
        "            index.append(i)\n",
        "        # if v in gif_list:\n",
        "        #     index.append(i)\n",
        "    return index"
      ],
      "execution_count": null,
      "outputs": []
    },
    {
      "cell_type": "code",
      "metadata": {
        "colab": {
          "base_uri": "https://localhost:8080/"
        },
        "id": "QKBr_zCQA6sR",
        "outputId": "6d5bae40-45f6-4ff2-85eb-a65a695e6d51"
      },
      "source": [
        "train_delete_index =index_to_delete(train_images, total_images)\n",
        "test_delete_index = index_to_delete(test_images, total_images)\n",
        "len(train_delete_index)+len(test_delete_index)"
      ],
      "execution_count": null,
      "outputs": [
        {
          "output_type": "execute_result",
          "data": {
            "text/plain": [
              "4147"
            ]
          },
          "metadata": {
            "tags": []
          },
          "execution_count": 25
        }
      ]
    },
    {
      "cell_type": "code",
      "metadata": {
        "id": "IrrLkVhU1rUP"
      },
      "source": [
        "train_images = np.delete(train_images,train_delete_index)\n",
        "train_text = np.delete(train_text,train_delete_index)\n",
        "trainY = np.delete(trainY,train_delete_index)\n",
        "test_images = np.delete(test_images,test_delete_index)\n",
        "test_text = np.delete(test_text,test_delete_index)\n",
        "testY = np.delete(testY,test_delete_index)"
      ],
      "execution_count": null,
      "outputs": []
    },
    {
      "cell_type": "code",
      "metadata": {
        "id": "YZ-nCMzMA9q_"
      },
      "source": [
        "shuffle_index= np.arange(len(train_images))\n",
        "np.random.shuffle(shuffle_index)\n",
        "train_images = train_images[shuffle_index]\n",
        "train_text = train_text[shuffle_index]\n",
        "trainY = trainY[shuffle_index]"
      ],
      "execution_count": null,
      "outputs": []
    },
    {
      "cell_type": "code",
      "metadata": {
        "colab": {
          "base_uri": "https://localhost:8080/"
        },
        "id": "5D2Xp4G1CD2h",
        "outputId": "3ace8531-ebc0-4146-868b-213fb947fc1b"
      },
      "source": [
        "len(train_images),len(train_text),len(trainY),len(test_images),len(test_text),len(testY)"
      ],
      "execution_count": null,
      "outputs": [
        {
          "output_type": "execute_result",
          "data": {
            "text/plain": [
              "(4140, 4140, 4140, 1124, 1124, 1124)"
            ]
          },
          "metadata": {
            "tags": []
          },
          "execution_count": 28
        }
      ]
    },
    {
      "cell_type": "code",
      "metadata": {
        "colab": {
          "base_uri": "https://localhost:8080/"
        },
        "id": "PjHkb6c_u1lQ",
        "outputId": "5063f5c8-1370-42c8-900c-5c9998db8a78"
      },
      "source": [
        "print(train_images[0])"
      ],
      "execution_count": null,
      "outputs": [
        {
          "output_type": "stream",
          "text": [
            "691a88dejw1e3vzjeo5yqj208i0bk0u5.jpg\n"
          ],
          "name": "stdout"
        }
      ]
    },
    {
      "cell_type": "code",
      "metadata": {
        "colab": {
          "base_uri": "https://localhost:8080/"
        },
        "id": "oLKO_gM42gMz",
        "outputId": "094f955b-f390-492a-d26a-e99733f09b27"
      },
      "source": [
        "dict_class = {}\n",
        "mypath = \"/content/drive/My Drive/multi-modal/weibo/airsplay/feat_rumor/\"\n",
        "mypath1 = \"/content/drive/My Drive/multi-modal/weibo/airsplay/feat_nonrumor/\"\n",
        "img_feat = []\n",
        "for (dirpath, dirnames, filenames) in walk(mypath):\n",
        "    img_feat.extend(filenames)\n",
        "    break\n",
        "for img in img_feat :\n",
        "  dict_class[img[:-4]] = \"rumor\"\n",
        "print(\"Read feat rumor\")\n",
        "img_feat1 = []\n",
        "for (dirpath, dirnames, filenames) in walk(mypath1):\n",
        "    img_feat1.extend(filenames)\n",
        "    break \n",
        "for img in img_feat1 :\n",
        "  dict_class[img[:-4]] = \"nonrumor\""
      ],
      "execution_count": null,
      "outputs": [
        {
          "output_type": "stream",
          "text": [
            "Read feat rumor\n"
          ],
          "name": "stdout"
        }
      ]
    },
    {
      "cell_type": "code",
      "metadata": {
        "id": "OOItB7SNNfvO"
      },
      "source": [
        "dict_feat = {}"
      ],
      "execution_count": null,
      "outputs": []
    },
    {
      "cell_type": "code",
      "metadata": {
        "id": "BqsQmmxODbkG"
      },
      "source": [
        "for img in train_images :\n",
        "  key = img[:-4]\n",
        "  if (key not in dict_feat) :\n",
        "    if (dict_class[key]==\"rumor\") :\n",
        "      dict_feat[key] = pickle.load(open(\"/content/drive/My Drive/multi-modal/weibo/airsplay/feat_rumor/\"+key+\".pkl\",\"rb\"))\n",
        "    else :\n",
        "      dict_feat[key] = pickle.load(open(\"/content/drive/My Drive/multi-modal/weibo/airsplay/feat_nonrumor/\"+key+\".pkl\",\"rb\"))"
      ],
      "execution_count": null,
      "outputs": []
    },
    {
      "cell_type": "code",
      "metadata": {
        "id": "oMVKKXC3uPSU"
      },
      "source": [
        "for img in test_images :\n",
        "  key = img[:-4]\n",
        "  if (key not in dict_feat) :\n",
        "    if (dict_class[key]==\"rumor\") :\n",
        "      dict_feat[key] = pickle.load(open(\"/content/drive/My Drive/multi-modal/weibo/airsplay/feat_rumor/\"+key+\".pkl\",\"rb\"))\n",
        "    else :\n",
        "      dict_feat[key] = pickle.load(open(\"/content/drive/My Drive/multi-modal/weibo/airsplay/feat_nonrumor/\"+key+\".pkl\",\"rb\"))"
      ],
      "execution_count": null,
      "outputs": []
    },
    {
      "cell_type": "code",
      "metadata": {
        "colab": {
          "base_uri": "https://localhost:8080/"
        },
        "id": "bBAmI0VaKKDQ",
        "outputId": "4b3a3a15-e8a7-4fc8-e390-f3641ae5c44c"
      },
      "source": [
        "len(list(dict_feat.keys()))"
      ],
      "execution_count": null,
      "outputs": [
        {
          "output_type": "execute_result",
          "data": {
            "text/plain": [
              "5264"
            ]
          },
          "metadata": {
            "tags": []
          },
          "execution_count": 34
        }
      ]
    },
    {
      "cell_type": "code",
      "metadata": {
        "colab": {
          "base_uri": "https://localhost:8080/"
        },
        "id": "2nOXTCrxNgx_",
        "outputId": "88a3bbb3-9010-4dd9-b6c3-2422060b5a54"
      },
      "source": [
        "c=0\n",
        "shape_not_match = []\n",
        "for key in dict_feat :\n",
        "  if(dict_feat[key].shape[0]!=36) :\n",
        "    shape_not_match.append(key)\n",
        "    c+=1\n",
        "print(c)\n",
        "print(len(shape_not_match))"
      ],
      "execution_count": null,
      "outputs": [
        {
          "output_type": "stream",
          "text": [
            "675\n",
            "675\n"
          ],
          "name": "stdout"
        }
      ]
    },
    {
      "cell_type": "code",
      "metadata": {
        "id": "zAV8oux0OcvB"
      },
      "source": [
        "# dict_feat"
      ],
      "execution_count": null,
      "outputs": []
    },
    {
      "cell_type": "code",
      "metadata": {
        "id": "5uqTN0eCNRJ_"
      },
      "source": [
        "def index_to_delete_shape(images, shape_not_match) :\n",
        "  index = []\n",
        "  for i in range(len(images)) :\n",
        "    main_image = images[i]\n",
        "    if ((main_image[:-4] in shape_not_match)) :\n",
        "      index.append(i)\n",
        "  return index"
      ],
      "execution_count": null,
      "outputs": []
    },
    {
      "cell_type": "code",
      "metadata": {
        "colab": {
          "base_uri": "https://localhost:8080/"
        },
        "id": "x3Ha1kysNrwq",
        "outputId": "c6a2bc1c-8862-4376-beb0-5903465baa29"
      },
      "source": [
        "train_delete_index =index_to_delete_shape(train_images, shape_not_match)\n",
        "test_delete_index = index_to_delete_shape(test_images, shape_not_match)\n",
        "len(train_delete_index)+len(test_delete_index)"
      ],
      "execution_count": null,
      "outputs": [
        {
          "output_type": "execute_result",
          "data": {
            "text/plain": [
              "675"
            ]
          },
          "metadata": {
            "tags": []
          },
          "execution_count": 37
        }
      ]
    },
    {
      "cell_type": "code",
      "metadata": {
        "id": "meUZEMgKN1hF"
      },
      "source": [
        "train_images1 = np.delete(train_images,train_delete_index)\n",
        "train_text1 = np.delete(train_text,train_delete_index)\n",
        "trainY1 = np.delete(trainY,train_delete_index)\n",
        "test_images1 = np.delete(test_images,test_delete_index)\n",
        "test_text1 = np.delete(test_text,test_delete_index)\n",
        "testY1 = np.delete(testY,test_delete_index)"
      ],
      "execution_count": null,
      "outputs": []
    },
    {
      "cell_type": "code",
      "metadata": {
        "colab": {
          "base_uri": "https://localhost:8080/"
        },
        "id": "RNmM4FJq3XSN",
        "outputId": "83c087e1-af9d-42c3-c2b0-5a1abcbd5eed"
      },
      "source": [
        "len(train_images1),len(train_text1),len(trainY1),len(test_images1),len(test_text1),len(testY1)"
      ],
      "execution_count": null,
      "outputs": [
        {
          "output_type": "execute_result",
          "data": {
            "text/plain": [
              "(3617, 3617, 3617, 972, 972, 972)"
            ]
          },
          "metadata": {
            "tags": []
          },
          "execution_count": 39
        }
      ]
    },
    {
      "cell_type": "code",
      "metadata": {
        "colab": {
          "base_uri": "https://localhost:8080/"
        },
        "id": "8CVPIWdp7AJ0",
        "outputId": "df0e9952-e07c-47f8-b437-9ba0bccfa004"
      },
      "source": [
        "# fin_train_img = []\n",
        "# c=0\n",
        "# ids_train = []\n",
        "# for i in range(len(train_images)) :\n",
        "#   main_image = train_images[i]\n",
        "#   if((main_image[:-4] not in shape_not_match)) :\n",
        "#     fin_train_img.append(main_image)\n",
        "#     ids_train.append(i)\n",
        "#     c+=1\n",
        "\n",
        "# print(c)\n",
        "# print(len(ids_train))\n",
        "# print(len(fin_train_img))"
      ],
      "execution_count": null,
      "outputs": [
        {
          "output_type": "stream",
          "text": [
            "3617\n",
            "3617\n",
            "3617\n"
          ],
          "name": "stdout"
        }
      ]
    },
    {
      "cell_type": "code",
      "metadata": {
        "id": "Dbxf3Q7bNr2p"
      },
      "source": [
        "# dict_feat_test = {}\n",
        "\n",
        "# for file_name in pickle_img_test :\n",
        "#   dict_feat_test[file_name[:-4]] =  pickle.load(open(\"/content/drive/My Drive/multi-modal/mediaeval/airsplay/feat_test/\"+file_name,\"rb\"))"
      ],
      "execution_count": null,
      "outputs": []
    },
    {
      "cell_type": "code",
      "metadata": {
        "colab": {
          "base_uri": "https://localhost:8080/"
        },
        "id": "QvCqSyqpN1rF",
        "outputId": "d0f090b4-1b48-41e5-8b4d-efbd31c06b59"
      },
      "source": [
        "# c=0\n",
        "# shape_not_match_test = []\n",
        "# for key in dict_feat_test :\n",
        "#   if(dict_feat_test[key].shape[0]!=36) :\n",
        "#     shape_not_match_test.append(key)\n",
        "#     c+=1\n",
        "# print(c)\n",
        "# print(len(shape_not_match_test))"
      ],
      "execution_count": null,
      "outputs": [
        {
          "output_type": "stream",
          "text": [
            "9\n",
            "9\n"
          ],
          "name": "stdout"
        }
      ]
    },
    {
      "cell_type": "code",
      "metadata": {
        "colab": {
          "base_uri": "https://localhost:8080/"
        },
        "id": "KPsmgR5aJplz",
        "outputId": "50ecd233-70b2-4b02-8410-141dbb735543"
      },
      "source": [
        "# fin_test_img = []\n",
        "# c=0\n",
        "# ids_test = []\n",
        "# for i in range(len(test_images)) :\n",
        "#   main_image = test_images[i]\n",
        "#   if (main_image[:-4] not in shape_not_match) :\n",
        "#     fin_test_img.append(main_image)\n",
        "#     ids_test.append(i)\n",
        "#     c+=1\n",
        "\n",
        "# print(c)\n",
        "# print(len(ids_test))\n",
        "# print(len(fin_test_img))"
      ],
      "execution_count": null,
      "outputs": [
        {
          "output_type": "stream",
          "text": [
            "972\n",
            "972\n",
            "972\n"
          ],
          "name": "stdout"
        }
      ]
    },
    {
      "cell_type": "code",
      "metadata": {
        "id": "ccHkX0gn7sGT"
      },
      "source": [
        "train_input_img = torch.zeros((3617,36,2048))\n",
        "train_output_img = torch.zeros((3617,2))\n",
        "\n",
        "for i in range(len(train_images1)) :\n",
        "  main_image = train_images1[i]\n",
        "  train_input_img[i] = dict_feat[main_image[:-4]]\n",
        "  if (trainY1[i]==0) :\n",
        "    train_output_img[i][0] = 1\n",
        "  else :\n",
        "    train_output_img[i][1] = 1 "
      ],
      "execution_count": null,
      "outputs": []
    },
    {
      "cell_type": "code",
      "metadata": {
        "colab": {
          "base_uri": "https://localhost:8080/"
        },
        "id": "CF-g7sSg1jF1",
        "outputId": "ce3295d0-9319-4c4b-a3fc-5bd6fb7bdc62"
      },
      "source": [
        "len(ids_train)"
      ],
      "execution_count": null,
      "outputs": [
        {
          "output_type": "execute_result",
          "data": {
            "text/plain": [
              "3617"
            ]
          },
          "metadata": {
            "tags": []
          },
          "execution_count": 72
        }
      ]
    },
    {
      "cell_type": "code",
      "metadata": {
        "id": "oxlEkX5N8HkF"
      },
      "source": [
        "test_input_img = torch.zeros((972,36,2048))\n",
        "test_output_img = torch.zeros((972,2))\n",
        "\n",
        "for i in range(len(test_images1)) :\n",
        "  main_image = test_images1[i]\n",
        "  test_input_img[i] = dict_feat[main_image[:-4]]\n",
        "  if (testY1[i]==0) :\n",
        "    test_output_img[i][0] = 1\n",
        "  else :\n",
        "    test_output_img[i][1] = 1"
      ],
      "execution_count": null,
      "outputs": []
    },
    {
      "cell_type": "code",
      "metadata": {
        "colab": {
          "base_uri": "https://localhost:8080/"
        },
        "id": "xTj6eFRi8KcY",
        "outputId": "9e6b8e8c-0e51-45fb-f1fc-ac52d6b73368"
      },
      "source": [
        "print(len(train_input_img))\n",
        "print(len(train_output_img))"
      ],
      "execution_count": null,
      "outputs": [
        {
          "output_type": "stream",
          "text": [
            "3617\n",
            "3617\n"
          ],
          "name": "stdout"
        }
      ]
    },
    {
      "cell_type": "code",
      "metadata": {
        "id": "4YH9hZxp4oq7"
      },
      "source": [
        "def gelu(x):\n",
        "    \"\"\"Implementation of the gelu activation function.\n",
        "        For information: OpenAI GPT's gelu is slightly different (and gives slightly different results):\n",
        "        0.5 * x * (1 + torch.tanh(math.sqrt(2 / math.pi) * (x + 0.044715 * torch.pow(x, 3))))\n",
        "    \"\"\"\n",
        "    return x * 0.5 * (1.0 + torch.erf(x / math.sqrt(2.0)))\n",
        "\n",
        "class BERTLayerNorm(nn.Module):\n",
        "    def __init__(self, config, variance_epsilon=1e-12):\n",
        "        \"\"\"Construct a layernorm module in the TF style (epsilon inside the square root).\n",
        "        \"\"\"\n",
        "        super(BERTLayerNorm, self).__init__()\n",
        "        self.gamma = nn.Parameter(torch.ones(config.hidden_size))\n",
        "        self.beta = nn.Parameter(torch.zeros(config.hidden_size))\n",
        "        self.variance_epsilon = variance_epsilon\n",
        "\n",
        "    def forward(self, x):\n",
        "        u = x.mean(-1, keepdim=True)\n",
        "        s = (x - u).pow(2).mean(-1, keepdim=True)\n",
        "        x = (x - u) / torch.sqrt(s + self.variance_epsilon)\n",
        "        return self.gamma * x + self.beta\n",
        "\n",
        "class BERTSelfAttention(nn.Module):\n",
        "    def __init__(self, config):\n",
        "        super(BERTSelfAttention, self).__init__()\n",
        "        if config.hidden_size % config.num_attention_heads != 0:\n",
        "            raise ValueError(\n",
        "                \"The hidden size (%d) is not a multiple of the number of attention \"\n",
        "                \"heads (%d)\" % (config.hidden_size, config.num_attention_heads))\n",
        "        self.num_attention_heads = config.num_attention_heads\n",
        "        self.attention_head_size = int(config.hidden_size / config.num_attention_heads)\n",
        "        self.all_head_size = self.num_attention_heads * self.attention_head_size\n",
        "\n",
        "        self.query = nn.Linear(config.hidden_size, self.all_head_size)\n",
        "        self.key = nn.Linear(config.hidden_size, self.all_head_size)\n",
        "        self.value = nn.Linear(config.hidden_size, self.all_head_size)\n",
        "\n",
        "        self.dropout = nn.Dropout(config.attention_probs_dropout_prob)\n",
        "\n",
        "    def transpose_for_scores(self, x):\n",
        "        new_x_shape = x.size()[:-1] + (self.num_attention_heads, self.attention_head_size)\n",
        "        x = x.view(*new_x_shape)\n",
        "        return x.permute(0, 2, 1, 3)\n",
        "\n",
        "    def forward(self, hidden_states, attention_mask):\n",
        "        mixed_query_layer = self.query(hidden_states)\n",
        "        mixed_key_layer = self.key(hidden_states)\n",
        "        mixed_value_layer = self.value(hidden_states)\n",
        "\n",
        "        query_layer = self.transpose_for_scores(mixed_query_layer)\n",
        "        key_layer = self.transpose_for_scores(mixed_key_layer)\n",
        "        value_layer = self.transpose_for_scores(mixed_value_layer)\n",
        "\n",
        "        # Take the dot product between \"query\" and \"key\" to get the raw attention scores.\n",
        "        attention_scores = torch.matmul(query_layer, key_layer.transpose(-1, -2))\n",
        "        attention_scores = attention_scores / math.sqrt(self.attention_head_size)\n",
        "        # Apply the attention mask is (precomputed for all layers in BertModel forward() function)\n",
        "        attention_scores = attention_scores + attention_mask\n",
        "\n",
        "        # Normalize the attention scores to probabilities.\n",
        "        attention_probs = nn.Softmax(dim=-1)(attention_scores)\n",
        "\n",
        "        # This is actually dropping out entire tokens to attend to, which might\n",
        "        # seem a bit unusual, but is taken from the original Transformer paper.\n",
        "        attention_probs = self.dropout(attention_probs)\n",
        "\n",
        "        context_layer = torch.matmul(attention_probs, value_layer)\n",
        "        context_layer = context_layer.permute(0, 2, 1, 3).contiguous()\n",
        "        new_context_layer_shape = context_layer.size()[:-2] + (self.all_head_size,)\n",
        "        context_layer = context_layer.view(*new_context_layer_shape)\n",
        "        return context_layer\n",
        "\n",
        "\n",
        "class BERTSelfOutput(nn.Module):\n",
        "    def __init__(self, config):\n",
        "        super(BERTSelfOutput, self).__init__()\n",
        "        self.dense = nn.Linear(config.hidden_size, config.hidden_size)\n",
        "        self.LayerNorm = BERTLayerNorm(config)\n",
        "        self.dropout = nn.Dropout(config.hidden_dropout_prob)\n",
        "\n",
        "    def forward(self, hidden_states, input_tensor):\n",
        "        hidden_states = self.dense(hidden_states)\n",
        "        hidden_states = self.dropout(hidden_states)\n",
        "        hidden_states = self.LayerNorm(hidden_states + input_tensor)\n",
        "        return hidden_states\n",
        "\n",
        "\n",
        "class BERTAttention(nn.Module):\n",
        "    def __init__(self, config):\n",
        "        super(BERTAttention, self).__init__()\n",
        "        self.self = BERTSelfAttention(config)\n",
        "        self.output = BERTSelfOutput(config)\n",
        "\n",
        "    def forward(self, input_tensor, attention_mask):\n",
        "        self_output = self.self(input_tensor, attention_mask)\n",
        "        attention_output = self.output(self_output, input_tensor)\n",
        "        return attention_output\n",
        "\n",
        "\n",
        "class BERTIntermediate(nn.Module):\n",
        "    def __init__(self, config):\n",
        "        super(BERTIntermediate, self).__init__()\n",
        "        self.dense = nn.Linear(config.hidden_size, config.intermediate_size)\n",
        "        self.intermediate_act_fn = gelu\n",
        "\n",
        "    def forward(self, hidden_states):\n",
        "        hidden_states = self.dense(hidden_states)\n",
        "        hidden_states = self.intermediate_act_fn(hidden_states)\n",
        "        return hidden_states\n",
        "\n",
        "\n",
        "class BERTOutput(nn.Module):\n",
        "    def __init__(self, config):\n",
        "        super(BERTOutput, self).__init__()\n",
        "        self.dense = nn.Linear(config.intermediate_size, config.hidden_size)\n",
        "        self.LayerNorm = BERTLayerNorm(config)\n",
        "        self.dropout = nn.Dropout(config.hidden_dropout_prob)\n",
        "\n",
        "    def forward(self, hidden_states, input_tensor):\n",
        "        hidden_states = self.dense(hidden_states)\n",
        "        hidden_states = self.dropout(hidden_states)\n",
        "        hidden_states = self.LayerNorm(hidden_states + input_tensor)\n",
        "        return hidden_states\n",
        "\n",
        "\n",
        "class BERTLayer(nn.Module):\n",
        "    def __init__(self, config):\n",
        "        super(BERTLayer, self).__init__()\n",
        "        self.attention = BERTAttention(config)\n",
        "        self.intermediate = BERTIntermediate(config)\n",
        "        self.output = BERTOutput(config)\n",
        "\n",
        "    def forward(self, hidden_states, attention_mask):\n",
        "        attention_output = self.attention(hidden_states, attention_mask)\n",
        "        intermediate_output = self.intermediate(attention_output)\n",
        "        layer_output = self.output(intermediate_output, attention_output)\n",
        "        return layer_output"
      ],
      "execution_count": null,
      "outputs": []
    },
    {
      "cell_type": "code",
      "metadata": {
        "id": "8onzhCH36VSx"
      },
      "source": [
        "class TransformerMapping(nn.Module):\n",
        "    \"\"\" Self-attention layer for image branch\n",
        "    \"\"\"\n",
        "    def __init__(self):\n",
        "        super(TransformerMapping, self).__init__()\n",
        "        bert_config = BertConfig.from_json_file(\"t_cfg.json\")\n",
        "        self.layer = BERTLayer(bert_config)\n",
        "        self.mapping = nn.Linear(2048, 256)\n",
        "        #self.mapping2 = nn.Linear(opt.final_dims, opt.final_dims)\n",
        "        self.cls_layer = nn.Linear(256, 2)\n",
        "\n",
        "    def forward(self, x):\n",
        "        # x: (batch_size, patch_num, img_dim)\n",
        "        # print(\"x\", x.shape)\n",
        "        x = self.mapping(x) # x: (batch_size, patch_num, final_dims)\n",
        "        # print(\"x_mapping\", x.shape)\n",
        "        attention_mask = torch.ones(x.size(0), x.size(1))\n",
        "        if torch.cuda.is_available():\n",
        "            attention_mask = attention_mask.cuda()\n",
        "        extended_attention_mask = attention_mask.unsqueeze(1).unsqueeze(2)\n",
        "        extended_attention_mask = extended_attention_mask.float()\n",
        "        extended_attention_mask = (1.0 - extended_attention_mask) * -10000.0\n",
        "        hidden_states = self.layer(x, extended_attention_mask)\n",
        "        # print(\"hidden_states\",hidden_states.shape)\n",
        "        # hidden_states = self.mapping2(hidden_states)\n",
        "        embed = torch.mean(hidden_states, 1) # (batch_size, final_dims)\n",
        "        codes = F.normalize(embed, p=2, dim=1)  # (N, C)\n",
        "        codes = self.cls_layer(codes)\n",
        "        codes = F.softmax(codes, dim=1)\n",
        "        return codes"
      ],
      "execution_count": null,
      "outputs": []
    },
    {
      "cell_type": "markdown",
      "metadata": {
        "id": "lxC7f6ILgjdz"
      },
      "source": [
        "## Text embedding"
      ]
    },
    {
      "cell_type": "code",
      "metadata": {
        "id": "ickNx4HjgnPr"
      },
      "source": [
        "def freeze_layers(model):\n",
        "    for child in model.children():\n",
        "        for param in child.parameters():\n",
        "            param.requires_grad = False"
      ],
      "execution_count": null,
      "outputs": []
    },
    {
      "cell_type": "code",
      "metadata": {
        "id": "rMN-zGd8hIN-"
      },
      "source": [
        "class BertMapping(nn.Module):\n",
        "    \"\"\"\n",
        "    \"\"\"\n",
        "    def __init__(self):\n",
        "        super(BertMapping, self).__init__()\n",
        "        # bert_config = BertConfig.from_json_file(opt.bert_config_file)\n",
        "        bert_config = BertConfig.from_pretrained('bert-base-chinese')\n",
        "        self.bert = BertModel(bert_config)\n",
        "        # self.bert.load_state_dict(torch.load(opt.init_checkpoint, map_location='cpu'))\n",
        "        freeze_layers(self.bert)\n",
        "        final_dims = 256\n",
        "        Ks = [1, 2, 3]\n",
        "        in_channel = 1\n",
        "        out_channel = 512\n",
        "        embedding_dim = bert_config.hidden_size\n",
        "        self.convs1 = nn.ModuleList([nn.Conv2d(in_channel, out_channel, (K, embedding_dim)) for K in Ks])\n",
        "        self.dropout = nn.Dropout(bert_config.hidden_dropout_prob)\n",
        "        self.mapping = nn.Linear(len(Ks)*out_channel, final_dims)\n",
        "        self.cls_layer = nn.Linear(final_dims, 2)\n",
        "\n",
        "    def forward(self, input_ids, attention_mask):\n",
        "        outputs = self.bert(input_ids,attention_mask=attention_mask, return_dict=True)\n",
        "        x = outputs.last_hidden_state.unsqueeze(1)  # (batch_size, 1, token_num, embedding_dim)\n",
        "        x = [F.relu(conv(x)).squeeze(3) for conv in self.convs1]  # [(batch_size, out_channel, W), ...]*len(Ks)\n",
        "        x = [F.max_pool1d(i, i.size(2)).squeeze(2) for i in x]  # [(N, Co), ...]*len(Ks)\n",
        "        output = torch.cat(x, 1)\n",
        "\n",
        "        output = self.dropout(output)\n",
        "        code = self.mapping(output)\n",
        "        # code = F.tanh(code)\n",
        "        code = F.normalize(code, p=2, dim=1)\n",
        "        code = self.cls_layer(code)\n",
        "        code = F.softmax(code, dim=1)\n",
        "        return code"
      ],
      "execution_count": null,
      "outputs": []
    },
    {
      "cell_type": "code",
      "metadata": {
        "id": "rP9CsiAf6JeO"
      },
      "source": [
        ""
      ],
      "execution_count": null,
      "outputs": []
    },
    {
      "cell_type": "code",
      "metadata": {
        "colab": {
          "base_uri": "https://localhost:8080/",
          "height": 66,
          "referenced_widgets": [
            "52c40f9e67b44c6fad122dd35182f78f",
            "c578099f7a1b44f4816a04b44c80f2aa",
            "0a4a6ac24b2d48f2ad097d2d77789c3f",
            "870d9c66eba14f94b06c631d1c60672b",
            "835a62cd974348a9adbe10539356af24",
            "1351062e3f2b4647884e4abeb073c95f",
            "68f57b6b57d9445f93fa7c4492450a05",
            "a92c6460ac5b41699a36665c71353d5b"
          ]
        },
        "id": "FYqh0-vMIJbl",
        "outputId": "bd80f141-2ba6-4d85-b5f1-cc79b6de583a"
      },
      "source": [
        "tokenizer = BertTokenizer.from_pretrained('bert-base-chinese', do_lower_case=True)"
      ],
      "execution_count": null,
      "outputs": [
        {
          "output_type": "display_data",
          "data": {
            "application/vnd.jupyter.widget-view+json": {
              "model_id": "52c40f9e67b44c6fad122dd35182f78f",
              "version_minor": 0,
              "version_major": 2
            },
            "text/plain": [
              "HBox(children=(FloatProgress(value=0.0, description='Downloading', max=109540.0, style=ProgressStyle(descripti…"
            ]
          },
          "metadata": {
            "tags": []
          }
        },
        {
          "output_type": "stream",
          "text": [
            "\n"
          ],
          "name": "stdout"
        }
      ]
    },
    {
      "cell_type": "code",
      "metadata": {
        "id": "MVYlnuFZIi68"
      },
      "source": [
        "def get_token_ids(x_train, x_test):\n",
        "    \n",
        "    token_tr = []\n",
        "    token_tst = []\n",
        "    count = 0\n",
        "    for sent in x_train :\n",
        "        tokens = tokenizer.encode(sent, add_special_tokens = True, max_length=512)\n",
        "        token_tr.append(tokens)\n",
        "        count+=1\n",
        "        if(count%1000==0):\n",
        "            print(count)\n",
        "    \n",
        "    for sent1 in x_test :\n",
        "        tokens1 = tokenizer.encode(sent1, add_special_tokens = True, max_length=512)\n",
        "        token_tst.append(tokens1)\n",
        "        count+=1\n",
        "        if(count%1000==0):\n",
        "            print(count)\n",
        "            \n",
        "    return token_tr, token_tst "
      ],
      "execution_count": null,
      "outputs": []
    },
    {
      "cell_type": "code",
      "metadata": {
        "colab": {
          "base_uri": "https://localhost:8080/"
        },
        "id": "hUSgvPHsIYly",
        "outputId": "545f76c0-39aa-4b2a-dd78-73fd8e75e7cb"
      },
      "source": [
        "xtr_token, xtst_token = get_token_ids(train_text1, test_text1)"
      ],
      "execution_count": null,
      "outputs": [
        {
          "output_type": "stream",
          "text": [
            "Truncation was not explicitly activated but `max_length` is provided a specific value, please use `truncation=True` to explicitly truncate examples to max length. Defaulting to 'longest_first' truncation strategy. If you encode pairs of sequences (GLUE-style) with the tokenizer you can select this strategy more precisely by providing a specific strategy to `truncation`.\n"
          ],
          "name": "stderr"
        },
        {
          "output_type": "stream",
          "text": [
            "1000\n",
            "2000\n",
            "3000\n",
            "4000\n"
          ],
          "name": "stdout"
        }
      ]
    },
    {
      "cell_type": "code",
      "metadata": {
        "id": "kxiWTl7tIbY_"
      },
      "source": [
        "xtr_token = pad_sequences(xtr_token, maxlen=512, dtype=\"long\", \n",
        "                          value=0, truncating=\"post\", padding=\"post\")\n",
        "xtst_token = pad_sequences(xtst_token, maxlen=512, dtype=\"long\", \n",
        "                          value=0, truncating=\"post\", padding=\"post\")"
      ],
      "execution_count": null,
      "outputs": []
    },
    {
      "cell_type": "code",
      "metadata": {
        "id": "9aHomHaRIcVN"
      },
      "source": [
        "attention_mask_tr = []\n",
        "attention_mask_tst = []\n",
        "for sent in xtr_token:\n",
        "    att_mask = [int(token_id > 0) for token_id in sent]\n",
        "    attention_mask_tr.append(att_mask)\n",
        "\n",
        "for sent in xtst_token:\n",
        "    att_mask = [int(token_id > 0) for token_id in sent]\n",
        "    attention_mask_tst.append(att_mask)"
      ],
      "execution_count": null,
      "outputs": []
    },
    {
      "cell_type": "code",
      "metadata": {
        "id": "dRy6BroQIOD3"
      },
      "source": [
        "train_input_text = torch.tensor(xtr_token)\n",
        "test_input_text = torch.tensor(xtst_token)\n",
        "\n",
        "# train_label = torch.tensor(trainY)\n",
        "# test_label = torch.tensor(testY)\n",
        "\n",
        "train_mask = torch.tensor(attention_mask_tr)\n",
        "test_mask = torch.tensor(attention_mask_tst)"
      ],
      "execution_count": null,
      "outputs": []
    },
    {
      "cell_type": "markdown",
      "metadata": {
        "id": "jHM43U7N5h3h"
      },
      "source": [
        "## Final Model"
      ]
    },
    {
      "cell_type": "code",
      "metadata": {
        "id": "E7AooyYZ5uIF"
      },
      "source": [
        "class FinalModel(nn.Module) :\n",
        "  \"\"\"\n",
        "  \"\"\"\n",
        "  def __init__(self):\n",
        "    super(FinalModel, self).__init__()\n",
        "    self.text_enc_model = BertMapping()\n",
        "    self.img_enc_model = TransformerMapping()\n",
        "    img_dims = 256\n",
        "    text_dims = 256\n",
        "\n",
        "  def cal_coeff(self, img_prob, text_prob) :\n",
        "    logp = torch.log(img_prob)\n",
        "    logp2 = torch.log(text_prob)\n",
        "    # print(\"logp\", logp.shape, \"logp2\", logp2.shape)\n",
        "    one_p = 1 - img_prob  # Don't compute gradient here\n",
        "    one_p.detach()\n",
        "    one_p2 = 1 - text_prob # Don't compute gradient here\n",
        "    one_p2.detach()\n",
        "    # M = 2\n",
        "    # Beta = 0.5\n",
        "    coeff = torch.sqrt(one_p2) * logp + torch.sqrt(one_p) * logp2\n",
        "    return coeff\n",
        "\n",
        "\n",
        "  def forward(self, input_ids, attention_mask, img) :\n",
        "    img_enc = self.img_enc_model(img)\n",
        "    text_enc = self.text_enc_model(input_ids, attention_mask)\n",
        "    coeff = self.cal_coeff(img_enc, text_enc)\n",
        "    return coeff"
      ],
      "execution_count": null,
      "outputs": []
    },
    {
      "cell_type": "markdown",
      "metadata": {
        "id": "DzduJZMY6mWw"
      },
      "source": [
        "## Training code"
      ]
    },
    {
      "cell_type": "code",
      "metadata": {
        "colab": {
          "base_uri": "https://localhost:8080/"
        },
        "id": "_CVndhwG6lbN",
        "outputId": "d63dd0b2-2144-41fb-8c82-bacfe16a3aa8"
      },
      "source": [
        "print(len(train_output_img), sum(train_output_img))"
      ],
      "execution_count": null,
      "outputs": [
        {
          "output_type": "stream",
          "text": [
            "3617 tensor([2916.,  701.])\n"
          ],
          "name": "stdout"
        }
      ]
    },
    {
      "cell_type": "code",
      "metadata": {
        "colab": {
          "base_uri": "https://localhost:8080/"
        },
        "id": "sO5QsGJY7Cvk",
        "outputId": "6aaa1ffa-956d-4abd-d408-2d9b4c83e52e"
      },
      "source": [
        "1/701"
      ],
      "execution_count": null,
      "outputs": [
        {
          "output_type": "execute_result",
          "data": {
            "text/plain": [
              "0.0014265335235378032"
            ]
          },
          "metadata": {
            "tags": []
          },
          "execution_count": 55
        }
      ]
    },
    {
      "cell_type": "code",
      "metadata": {
        "colab": {
          "base_uri": "https://localhost:8080/"
        },
        "id": "UDdScg-37FAf",
        "outputId": "4be29202-d584-408d-d8fb-07e1ecfb9864"
      },
      "source": [
        "1/2916"
      ],
      "execution_count": null,
      "outputs": [
        {
          "output_type": "execute_result",
          "data": {
            "text/plain": [
              "0.0003429355281207133"
            ]
          },
          "metadata": {
            "tags": []
          },
          "execution_count": 56
        }
      ]
    },
    {
      "cell_type": "code",
      "metadata": {
        "id": "vYro2CHN67BW"
      },
      "source": [
        "weights = [0.0003429355281207133, 0.0014265335235378032]\n",
        "sample_weights = [weights[t.argmax().int()] for t in train_output_img]"
      ],
      "execution_count": null,
      "outputs": []
    },
    {
      "cell_type": "code",
      "metadata": {
        "id": "nQp6uxYA67BX"
      },
      "source": [
        "from torch.utils.data import TensorDataset, DataLoader, RandomSampler, SequentialSampler\n",
        "from torch.utils.data.sampler import WeightedRandomSampler\n",
        "batch_size = 32\n",
        "\n",
        "train_data = TensorDataset(train_input_text, train_mask, train_input_img,train_output_img)\n",
        "train_sampler = WeightedRandomSampler(weights=sample_weights, num_samples=3617)\n",
        "train_dataloader = DataLoader(train_data, sampler=train_sampler, batch_size=batch_size)"
      ],
      "execution_count": null,
      "outputs": []
    },
    {
      "cell_type": "code",
      "metadata": {
        "id": "rhw-X8MB67BX"
      },
      "source": [
        "test_data = TensorDataset(test_input_text, test_mask, test_input_img, test_output_img)\n",
        "test_sampler = SequentialSampler(test_data)\n",
        "test_dataloader = DataLoader(test_data, sampler=test_sampler, batch_size=batch_size)"
      ],
      "execution_count": null,
      "outputs": []
    },
    {
      "cell_type": "code",
      "metadata": {
        "id": "XQvqAXOS7gmf"
      },
      "source": [
        "def get_accuracy_from_logits(logits, labels):\n",
        "    probs = torch.sigmoid(logits.unsqueeze(-1))\n",
        "    soft_probs = (probs > 0.5).long()\n",
        "    acc = (soft_probs.squeeze() == labels).float().mean()\n",
        "    return acc"
      ],
      "execution_count": null,
      "outputs": []
    },
    {
      "cell_type": "code",
      "metadata": {
        "id": "rm8prZsx2bQb"
      },
      "source": [
        "def get_labels_from_logits(logits) :\n",
        "  probs = torch.sigmoid(logits.unsqueeze(-1))\n",
        "  soft_probs = (probs > 0.5).long()\n",
        "  labels = soft_probs.squeeze()\n",
        "  return labels"
      ],
      "execution_count": null,
      "outputs": []
    },
    {
      "cell_type": "code",
      "metadata": {
        "id": "1ESEusP72Xr9"
      },
      "source": [
        "from sklearn.metrics import classification_report\n",
        "\n",
        "def eval_model(model, val_loader) :\n",
        "  model.eval()\n",
        "  with torch.no_grad() :\n",
        "    final_out = []\n",
        "    final_lab = []\n",
        "    loss_val = 0\n",
        "    for idx, (val_input, val_mask, val_img, val_label) in enumerate(val_loader):\n",
        "      # try:\n",
        "        val_input = val_input.cuda()\n",
        "        val_mask = val_mask.cuda()\n",
        "        val_img = val_img.cuda()\n",
        "        val_label = val_label.cuda()\n",
        "        coeff = model(val_input, val_mask, val_img)\n",
        "        loss = -1*torch.mean(torch.sum(coeff*val_label,dim=1))\n",
        "        loss_val+= float(loss)\n",
        "        output = torch.argmax(coeff, dim=1)\n",
        "        # print(\"output_shape\", output.shape)\n",
        "        val_label = torch.argmax(val_label, dim=1)\n",
        "        # print(\"val_label_shape\", val_label.shape)\n",
        "        output = output.cpu().detach().numpy()\n",
        "        val_label = val_label.cpu().detach().numpy()\n",
        "        # print(output.shape)\n",
        "        # print(val_label.shape)\n",
        "        final_out.extend(list(output))\n",
        "        final_lab.extend(list(val_label))\n",
        "\n",
        "        del val_input\n",
        "        del val_label\n",
        "        del output\n",
        "        del coeff\n",
        "        del loss\n",
        "        del val_mask\n",
        "        torch.cuda.empty_cache()\n",
        "      # except:\n",
        "      #   print(\"error\") \n",
        "\n",
        "  return classification_report(final_lab, final_out), loss_val"
      ],
      "execution_count": null,
      "outputs": []
    },
    {
      "cell_type": "code",
      "metadata": {
        "id": "yUTi-eCA7la4"
      },
      "source": [
        "def train(net, opti, train_loader, num_epochs, val_loader):\n",
        "  loss_train = []\n",
        "  loss_test = []\n",
        "  for epoch in range(num_epochs):\n",
        "    loss_val = 0\n",
        "    num_lab = 0\n",
        "    sum_lab = 0\n",
        "    for it, (text, mask,img, labels) in enumerate(train_loader):\n",
        "        #Clear gradients\n",
        "        opti.zero_grad()  \n",
        "        #Converting these to cuda tensors\n",
        "        text, mask, img, labels = text.cuda(), mask.cuda(), img.cuda(), labels.cuda()\n",
        "        num_lab += labels.shape[0]\n",
        "        sum_lab += torch.sum(labels)\n",
        "\n",
        "        #Obtaining the logits from the model\n",
        "        coeff = net(text, mask, img)\n",
        "\n",
        "        # print(\"labels_shape\", labels.shape)\n",
        "        #Computing loss\n",
        "        mul_out = coeff*labels\n",
        "        # print(\"mul_out\",mul_out.shape)\n",
        "        sum_out = torch.sum(mul_out, dim=1)\n",
        "        # print(\"sum_out\" , sum_out.shape)\n",
        "        loss = -1*torch.mean(sum_out)\n",
        "        # print(loss)\n",
        "        loss_val += float(loss.data)\n",
        "\n",
        "        #Backpropagating the gradients\n",
        "        loss.backward()\n",
        "\n",
        "        #Optimization step\n",
        "        opti.step()\n",
        "\n",
        "        if (it + 1) % 20 == 0:\n",
        "            print(\"Iteration {} of epoch {} complete. Loss : {} \".format(it+1, epoch+1, loss.item()))\n",
        "\n",
        "        del text\n",
        "        del mask\n",
        "        del img\n",
        "        del labels\n",
        "        del loss\n",
        "        del mul_out\n",
        "        del sum_out\n",
        "        torch.cuda.empty_cache()\n",
        "\n",
        "    print('Epoch [{}/{}], Loss:{:.4f}'.format(epoch+1, num_epochs, loss_val))\n",
        "    loss_train.append(loss_val)\n",
        "    if((epoch+1)%1==0) :\n",
        "      report, loss_t = eval_model(net, val_loader)\n",
        "      loss_test.append(loss_t)\n",
        "      print(\"loss_test\", loss_t)\n",
        "      print(\"classification_report\")\n",
        "      print(report)\n",
        "    print(\"--------------------------------------------------------------\")\n",
        "    print(num_lab)\n",
        "    print(sum_lab)\n",
        "  return loss_train, loss_test"
      ],
      "execution_count": null,
      "outputs": []
    },
    {
      "cell_type": "code",
      "metadata": {
        "colab": {
          "base_uri": "https://localhost:8080/",
          "height": 1000,
          "referenced_widgets": [
            "0f2ec43be50249ffb8a23b5e6f19f83e",
            "97167c73d6624c7cadae502a36113660",
            "f283a905da1b4bd88e510e79c83599f7",
            "a1d4f5bd614a4fb5bbb2b15b27219a55",
            "99375ca69ae4478facbd9993d624087d",
            "b46e10dc90a3484a8fe953d320288299",
            "340807bd041f44c1b1413df1fc33164b",
            "e5b5bf41fc094196b0a2ff669229e08f"
          ]
        },
        "id": "pm7pODOr7p_M",
        "outputId": "c5ae1db8-ff9b-4fdf-cd43-2e77716b3bbd"
      },
      "source": [
        "net = FinalModel().to(device)\n",
        "# criterion = nn.BCEWithLogitsLoss()\n",
        "opti = optim.Adam(net.parameters(), lr = 1e-5)\n",
        "loss_train, loss_test = train(net, opti, train_dataloader, 20, test_dataloader)"
      ],
      "execution_count": null,
      "outputs": [
        {
          "output_type": "display_data",
          "data": {
            "application/vnd.jupyter.widget-view+json": {
              "model_id": "0f2ec43be50249ffb8a23b5e6f19f83e",
              "version_minor": 0,
              "version_major": 2
            },
            "text/plain": [
              "HBox(children=(FloatProgress(value=0.0, description='Downloading', max=624.0, style=ProgressStyle(description_…"
            ]
          },
          "metadata": {
            "tags": []
          }
        },
        {
          "output_type": "stream",
          "text": [
            "\n",
            "Iteration 20 of epoch 1 complete. Loss : 0.9707185626029968 \n",
            "Iteration 40 of epoch 1 complete. Loss : 0.9736417531967163 \n",
            "Iteration 60 of epoch 1 complete. Loss : 0.9649034738540649 \n",
            "Iteration 80 of epoch 1 complete. Loss : 0.9943276047706604 \n",
            "Iteration 100 of epoch 1 complete. Loss : 0.9665378332138062 \n",
            "Epoch [1/20], Loss:110.9994\n",
            "loss_test 30.999011278152466\n",
            "classification_report\n",
            "              precision    recall  f1-score   support\n",
            "\n",
            "           0       0.82      0.32      0.46       746\n",
            "           1       0.26      0.78      0.39       226\n",
            "\n",
            "    accuracy                           0.42       972\n",
            "   macro avg       0.54      0.55      0.42       972\n",
            "weighted avg       0.69      0.42      0.44       972\n",
            "\n",
            "--------------------------------------------------------------\n",
            "3617\n",
            "tensor(3617., device='cuda:0')\n",
            "Iteration 20 of epoch 2 complete. Loss : 0.9716498851776123 \n",
            "Iteration 40 of epoch 2 complete. Loss : 0.971420407295227 \n",
            "Iteration 60 of epoch 2 complete. Loss : 0.9751724004745483 \n",
            "Iteration 80 of epoch 2 complete. Loss : 0.9769095182418823 \n",
            "Iteration 100 of epoch 2 complete. Loss : 0.9516551494598389 \n",
            "Epoch [2/20], Loss:108.9375\n",
            "loss_test 29.325888693332672\n",
            "classification_report\n",
            "              precision    recall  f1-score   support\n",
            "\n",
            "           0       0.79      0.67      0.72       746\n",
            "           1       0.27      0.40      0.32       226\n",
            "\n",
            "    accuracy                           0.61       972\n",
            "   macro avg       0.53      0.54      0.52       972\n",
            "weighted avg       0.67      0.61      0.63       972\n",
            "\n",
            "--------------------------------------------------------------\n",
            "3617\n",
            "tensor(3617., device='cuda:0')\n",
            "Iteration 20 of epoch 3 complete. Loss : 0.9285831451416016 \n",
            "Iteration 40 of epoch 3 complete. Loss : 0.9128991961479187 \n",
            "Iteration 60 of epoch 3 complete. Loss : 0.891120195388794 \n",
            "Iteration 80 of epoch 3 complete. Loss : 0.9690214991569519 \n",
            "Iteration 100 of epoch 3 complete. Loss : 0.8850874304771423 \n",
            "Epoch [3/20], Loss:103.8910\n",
            "loss_test 29.186712741851807\n",
            "classification_report\n",
            "              precision    recall  f1-score   support\n",
            "\n",
            "           0       0.88      0.57      0.69       746\n",
            "           1       0.34      0.75      0.47       226\n",
            "\n",
            "    accuracy                           0.61       972\n",
            "   macro avg       0.61      0.66      0.58       972\n",
            "weighted avg       0.76      0.61      0.64       972\n",
            "\n",
            "--------------------------------------------------------------\n",
            "3617\n",
            "tensor(3617., device='cuda:0')\n",
            "Iteration 20 of epoch 4 complete. Loss : 0.8061697483062744 \n",
            "Iteration 40 of epoch 4 complete. Loss : 0.7357590198516846 \n",
            "Iteration 60 of epoch 4 complete. Loss : 0.8166745901107788 \n",
            "Iteration 80 of epoch 4 complete. Loss : 0.8258661031723022 \n",
            "Iteration 100 of epoch 4 complete. Loss : 0.8007138967514038 \n",
            "Epoch [4/20], Loss:92.3257\n",
            "loss_test 27.8604434132576\n",
            "classification_report\n",
            "              precision    recall  f1-score   support\n",
            "\n",
            "           0       0.89      0.64      0.75       746\n",
            "           1       0.38      0.73      0.50       226\n",
            "\n",
            "    accuracy                           0.66       972\n",
            "   macro avg       0.64      0.69      0.62       972\n",
            "weighted avg       0.77      0.66      0.69       972\n",
            "\n",
            "--------------------------------------------------------------\n",
            "3617\n",
            "tensor(3617., device='cuda:0')\n",
            "Iteration 20 of epoch 5 complete. Loss : 0.8290601968765259 \n",
            "Iteration 40 of epoch 5 complete. Loss : 0.8081989288330078 \n",
            "Iteration 60 of epoch 5 complete. Loss : 0.6830712556838989 \n",
            "Iteration 80 of epoch 5 complete. Loss : 0.712114691734314 \n",
            "Iteration 100 of epoch 5 complete. Loss : 0.7306851744651794 \n",
            "Epoch [5/20], Loss:86.1010\n",
            "loss_test 27.973537921905518\n",
            "classification_report\n",
            "              precision    recall  f1-score   support\n",
            "\n",
            "           0       0.91      0.60      0.72       746\n",
            "           1       0.38      0.80      0.51       226\n",
            "\n",
            "    accuracy                           0.65       972\n",
            "   macro avg       0.64      0.70      0.62       972\n",
            "weighted avg       0.78      0.65      0.67       972\n",
            "\n",
            "--------------------------------------------------------------\n",
            "3617\n",
            "tensor(3617., device='cuda:0')\n",
            "Iteration 20 of epoch 6 complete. Loss : 0.8620424270629883 \n",
            "Iteration 40 of epoch 6 complete. Loss : 0.7030458450317383 \n",
            "Iteration 60 of epoch 6 complete. Loss : 0.6904302835464478 \n",
            "Iteration 80 of epoch 6 complete. Loss : 0.7859535813331604 \n",
            "Iteration 100 of epoch 6 complete. Loss : 0.6451025605201721 \n",
            "Epoch [6/20], Loss:82.3690\n",
            "loss_test 25.939472198486328\n",
            "classification_report\n",
            "              precision    recall  f1-score   support\n",
            "\n",
            "           0       0.89      0.73      0.80       746\n",
            "           1       0.44      0.71      0.54       226\n",
            "\n",
            "    accuracy                           0.72       972\n",
            "   macro avg       0.67      0.72      0.67       972\n",
            "weighted avg       0.79      0.72      0.74       972\n",
            "\n",
            "--------------------------------------------------------------\n",
            "3617\n",
            "tensor(3617., device='cuda:0')\n",
            "Iteration 20 of epoch 7 complete. Loss : 0.7551490664482117 \n",
            "Iteration 40 of epoch 7 complete. Loss : 0.6154680252075195 \n",
            "Iteration 60 of epoch 7 complete. Loss : 0.7508345246315002 \n",
            "Iteration 80 of epoch 7 complete. Loss : 0.7268557548522949 \n",
            "Iteration 100 of epoch 7 complete. Loss : 0.7262778282165527 \n",
            "Epoch [7/20], Loss:79.2909\n",
            "loss_test 25.724718987941742\n",
            "classification_report\n",
            "              precision    recall  f1-score   support\n",
            "\n",
            "           0       0.92      0.72      0.80       746\n",
            "           1       0.46      0.79      0.58       226\n",
            "\n",
            "    accuracy                           0.73       972\n",
            "   macro avg       0.69      0.75      0.69       972\n",
            "weighted avg       0.81      0.73      0.75       972\n",
            "\n",
            "--------------------------------------------------------------\n",
            "3617\n",
            "tensor(3617., device='cuda:0')\n",
            "Iteration 20 of epoch 8 complete. Loss : 0.6291360855102539 \n",
            "Iteration 40 of epoch 8 complete. Loss : 0.6041079163551331 \n",
            "Iteration 60 of epoch 8 complete. Loss : 0.7334688901901245 \n",
            "Iteration 80 of epoch 8 complete. Loss : 0.6040034294128418 \n",
            "Iteration 100 of epoch 8 complete. Loss : 0.6429890394210815 \n",
            "Epoch [8/20], Loss:75.0859\n",
            "loss_test 26.69127857685089\n",
            "classification_report\n",
            "              precision    recall  f1-score   support\n",
            "\n",
            "           0       0.93      0.63      0.75       746\n",
            "           1       0.41      0.83      0.55       226\n",
            "\n",
            "    accuracy                           0.68       972\n",
            "   macro avg       0.67      0.73      0.65       972\n",
            "weighted avg       0.80      0.68      0.70       972\n",
            "\n",
            "--------------------------------------------------------------\n",
            "3617\n",
            "tensor(3617., device='cuda:0')\n",
            "Iteration 20 of epoch 9 complete. Loss : 0.6480388641357422 \n",
            "Iteration 40 of epoch 9 complete. Loss : 0.5826013684272766 \n",
            "Iteration 60 of epoch 9 complete. Loss : 0.6089082956314087 \n",
            "Iteration 80 of epoch 9 complete. Loss : 0.5859088897705078 \n",
            "Iteration 100 of epoch 9 complete. Loss : 0.5898516774177551 \n",
            "Epoch [9/20], Loss:72.4444\n",
            "loss_test 23.859050571918488\n",
            "classification_report\n",
            "              precision    recall  f1-score   support\n",
            "\n",
            "           0       0.90      0.79      0.84       746\n",
            "           1       0.50      0.70      0.58       226\n",
            "\n",
            "    accuracy                           0.77       972\n",
            "   macro avg       0.70      0.74      0.71       972\n",
            "weighted avg       0.80      0.77      0.78       972\n",
            "\n",
            "--------------------------------------------------------------\n",
            "3617\n",
            "tensor(3617., device='cuda:0')\n",
            "Iteration 20 of epoch 10 complete. Loss : 0.7172160148620605 \n",
            "Iteration 40 of epoch 10 complete. Loss : 0.6363312005996704 \n",
            "Iteration 60 of epoch 10 complete. Loss : 0.6518169045448303 \n",
            "Iteration 80 of epoch 10 complete. Loss : 0.7120161056518555 \n",
            "Iteration 100 of epoch 10 complete. Loss : 0.6216545104980469 \n",
            "Epoch [10/20], Loss:70.3241\n",
            "loss_test 23.973007202148438\n",
            "classification_report\n",
            "              precision    recall  f1-score   support\n",
            "\n",
            "           0       0.90      0.78      0.84       746\n",
            "           1       0.50      0.71      0.58       226\n",
            "\n",
            "    accuracy                           0.76       972\n",
            "   macro avg       0.70      0.74      0.71       972\n",
            "weighted avg       0.80      0.76      0.78       972\n",
            "\n",
            "--------------------------------------------------------------\n",
            "3617\n",
            "tensor(3617., device='cuda:0')\n",
            "Iteration 20 of epoch 11 complete. Loss : 0.5849833488464355 \n",
            "Iteration 40 of epoch 11 complete. Loss : 0.5420162081718445 \n",
            "Iteration 60 of epoch 11 complete. Loss : 0.5638843178749084 \n",
            "Iteration 80 of epoch 11 complete. Loss : 0.6759610176086426 \n",
            "Iteration 100 of epoch 11 complete. Loss : 0.6664450764656067 \n",
            "Epoch [11/20], Loss:68.2903\n",
            "loss_test 25.178703606128693\n",
            "classification_report\n",
            "              precision    recall  f1-score   support\n",
            "\n",
            "           0       0.92      0.71      0.80       746\n",
            "           1       0.45      0.80      0.58       226\n",
            "\n",
            "    accuracy                           0.73       972\n",
            "   macro avg       0.68      0.75      0.69       972\n",
            "weighted avg       0.81      0.73      0.75       972\n",
            "\n",
            "--------------------------------------------------------------\n",
            "3617\n",
            "tensor(3617., device='cuda:0')\n",
            "Iteration 20 of epoch 12 complete. Loss : 0.53275465965271 \n",
            "Iteration 40 of epoch 12 complete. Loss : 0.6185985803604126 \n",
            "Iteration 60 of epoch 12 complete. Loss : 0.6692624092102051 \n",
            "Iteration 80 of epoch 12 complete. Loss : 0.5019644498825073 \n",
            "Iteration 100 of epoch 12 complete. Loss : 0.6061305999755859 \n",
            "Epoch [12/20], Loss:65.4540\n",
            "loss_test 24.585479736328125\n",
            "classification_report\n",
            "              precision    recall  f1-score   support\n",
            "\n",
            "           0       0.92      0.74      0.82       746\n",
            "           1       0.47      0.79      0.59       226\n",
            "\n",
            "    accuracy                           0.75       972\n",
            "   macro avg       0.70      0.76      0.70       972\n",
            "weighted avg       0.82      0.75      0.77       972\n",
            "\n",
            "--------------------------------------------------------------\n",
            "3617\n",
            "tensor(3617., device='cuda:0')\n",
            "Iteration 20 of epoch 13 complete. Loss : 0.5386723279953003 \n",
            "Iteration 40 of epoch 13 complete. Loss : 0.4732133448123932 \n",
            "Iteration 60 of epoch 13 complete. Loss : 0.5954468846321106 \n",
            "Iteration 80 of epoch 13 complete. Loss : 0.526741623878479 \n",
            "Iteration 100 of epoch 13 complete. Loss : 0.5949380397796631 \n",
            "Epoch [13/20], Loss:62.5666\n",
            "loss_test 23.48120939731598\n",
            "classification_report\n",
            "              precision    recall  f1-score   support\n",
            "\n",
            "           0       0.91      0.78      0.84       746\n",
            "           1       0.50      0.75      0.60       226\n",
            "\n",
            "    accuracy                           0.77       972\n",
            "   macro avg       0.71      0.76      0.72       972\n",
            "weighted avg       0.82      0.77      0.78       972\n",
            "\n",
            "--------------------------------------------------------------\n",
            "3617\n",
            "tensor(3617., device='cuda:0')\n",
            "Iteration 20 of epoch 14 complete. Loss : 0.5924556851387024 \n",
            "Iteration 40 of epoch 14 complete. Loss : 0.5597586035728455 \n",
            "Iteration 60 of epoch 14 complete. Loss : 0.48949119448661804 \n",
            "Iteration 80 of epoch 14 complete. Loss : 0.5721861720085144 \n",
            "Iteration 100 of epoch 14 complete. Loss : 0.5874293446540833 \n",
            "Epoch [14/20], Loss:60.6967\n",
            "loss_test 23.794603049755096\n",
            "classification_report\n",
            "              precision    recall  f1-score   support\n",
            "\n",
            "           0       0.92      0.76      0.83       746\n",
            "           1       0.50      0.77      0.60       226\n",
            "\n",
            "    accuracy                           0.76       972\n",
            "   macro avg       0.71      0.77      0.72       972\n",
            "weighted avg       0.82      0.76      0.78       972\n",
            "\n",
            "--------------------------------------------------------------\n",
            "3617\n",
            "tensor(3617., device='cuda:0')\n",
            "Iteration 20 of epoch 15 complete. Loss : 0.5502392053604126 \n",
            "Iteration 40 of epoch 15 complete. Loss : 0.5076155662536621 \n",
            "Iteration 60 of epoch 15 complete. Loss : 0.4057045876979828 \n",
            "Iteration 80 of epoch 15 complete. Loss : 0.49763691425323486 \n",
            "Iteration 100 of epoch 15 complete. Loss : 0.5936383008956909 \n",
            "Epoch [15/20], Loss:58.2780\n",
            "loss_test 22.62709254026413\n",
            "classification_report\n",
            "              precision    recall  f1-score   support\n",
            "\n",
            "           0       0.90      0.82      0.86       746\n",
            "           1       0.54      0.69      0.60       226\n",
            "\n",
            "    accuracy                           0.79       972\n",
            "   macro avg       0.72      0.75      0.73       972\n",
            "weighted avg       0.81      0.79      0.80       972\n",
            "\n",
            "--------------------------------------------------------------\n",
            "3617\n",
            "tensor(3617., device='cuda:0')\n",
            "Iteration 20 of epoch 16 complete. Loss : 0.5344115495681763 \n",
            "Iteration 40 of epoch 16 complete. Loss : 0.5423504710197449 \n",
            "Iteration 60 of epoch 16 complete. Loss : 0.4785468280315399 \n",
            "Iteration 80 of epoch 16 complete. Loss : 0.4570710062980652 \n",
            "Iteration 100 of epoch 16 complete. Loss : 0.47992053627967834 \n",
            "Epoch [16/20], Loss:55.6995\n",
            "loss_test 21.28721410036087\n",
            "classification_report\n",
            "              precision    recall  f1-score   support\n",
            "\n",
            "           0       0.87      0.90      0.88       746\n",
            "           1       0.63      0.56      0.59       226\n",
            "\n",
            "    accuracy                           0.82       972\n",
            "   macro avg       0.75      0.73      0.74       972\n",
            "weighted avg       0.81      0.82      0.82       972\n",
            "\n",
            "--------------------------------------------------------------\n",
            "3617\n",
            "tensor(3617., device='cuda:0')\n",
            "Iteration 20 of epoch 17 complete. Loss : 0.5132558941841125 \n",
            "Iteration 40 of epoch 17 complete. Loss : 0.560772716999054 \n",
            "Iteration 60 of epoch 17 complete. Loss : 0.43013250827789307 \n",
            "Iteration 80 of epoch 17 complete. Loss : 0.488663911819458 \n",
            "Iteration 100 of epoch 17 complete. Loss : 0.42591625452041626 \n",
            "Epoch [17/20], Loss:54.3919\n",
            "loss_test 21.42352432012558\n",
            "classification_report\n",
            "              precision    recall  f1-score   support\n",
            "\n",
            "           0       0.89      0.84      0.87       746\n",
            "           1       0.56      0.67      0.61       226\n",
            "\n",
            "    accuracy                           0.80       972\n",
            "   macro avg       0.73      0.75      0.74       972\n",
            "weighted avg       0.82      0.80      0.81       972\n",
            "\n",
            "--------------------------------------------------------------\n",
            "3617\n",
            "tensor(3617., device='cuda:0')\n",
            "Iteration 20 of epoch 18 complete. Loss : 0.4696946442127228 \n",
            "Iteration 40 of epoch 18 complete. Loss : 0.5176377892494202 \n",
            "Iteration 60 of epoch 18 complete. Loss : 0.49631211161613464 \n",
            "Iteration 80 of epoch 18 complete. Loss : 0.3938159644603729 \n",
            "Iteration 100 of epoch 18 complete. Loss : 0.4204486608505249 \n",
            "Epoch [18/20], Loss:50.7217\n",
            "loss_test 20.85187476873398\n",
            "classification_report\n",
            "              precision    recall  f1-score   support\n",
            "\n",
            "           0       0.88      0.88      0.88       746\n",
            "           1       0.60      0.62      0.61       226\n",
            "\n",
            "    accuracy                           0.82       972\n",
            "   macro avg       0.74      0.75      0.75       972\n",
            "weighted avg       0.82      0.82      0.82       972\n",
            "\n",
            "--------------------------------------------------------------\n",
            "3617\n",
            "tensor(3617., device='cuda:0')\n",
            "Iteration 20 of epoch 19 complete. Loss : 0.4131265878677368 \n",
            "Iteration 40 of epoch 19 complete. Loss : 0.437081515789032 \n",
            "Iteration 60 of epoch 19 complete. Loss : 0.47897693514823914 \n",
            "Iteration 80 of epoch 19 complete. Loss : 0.4329417049884796 \n",
            "Iteration 100 of epoch 19 complete. Loss : 0.36532148718833923 \n",
            "Epoch [19/20], Loss:50.2478\n",
            "loss_test 21.143788754940033\n",
            "classification_report\n",
            "              precision    recall  f1-score   support\n",
            "\n",
            "           0       0.90      0.83      0.87       746\n",
            "           1       0.56      0.69      0.62       226\n",
            "\n",
            "    accuracy                           0.80       972\n",
            "   macro avg       0.73      0.76      0.74       972\n",
            "weighted avg       0.82      0.80      0.81       972\n",
            "\n",
            "--------------------------------------------------------------\n",
            "3617\n",
            "tensor(3617., device='cuda:0')\n",
            "Iteration 20 of epoch 20 complete. Loss : 0.45072513818740845 \n",
            "Iteration 40 of epoch 20 complete. Loss : 0.4007635712623596 \n",
            "Iteration 60 of epoch 20 complete. Loss : 0.45468395948410034 \n",
            "Iteration 80 of epoch 20 complete. Loss : 0.3764719069004059 \n",
            "Iteration 100 of epoch 20 complete. Loss : 0.4147280752658844 \n",
            "Epoch [20/20], Loss:48.1784\n",
            "loss_test 20.000290900468826\n",
            "classification_report\n",
            "              precision    recall  f1-score   support\n",
            "\n",
            "           0       0.88      0.88      0.88       746\n",
            "           1       0.61      0.62      0.61       226\n",
            "\n",
            "    accuracy                           0.82       972\n",
            "   macro avg       0.75      0.75      0.75       972\n",
            "weighted avg       0.82      0.82      0.82       972\n",
            "\n",
            "--------------------------------------------------------------\n",
            "3617\n",
            "tensor(3617., device='cuda:0')\n"
          ],
          "name": "stdout"
        }
      ]
    },
    {
      "cell_type": "code",
      "metadata": {
        "id": "PncdEkWQ7uqQ"
      },
      "source": [
        "import matplotlib.pyplot as plt"
      ],
      "execution_count": null,
      "outputs": []
    },
    {
      "cell_type": "code",
      "metadata": {
        "id": "vJgq1se87x3_",
        "colab": {
          "base_uri": "https://localhost:8080/",
          "height": 264
        },
        "outputId": "1dde1e5c-1992-4c7d-bca4-3bcd42a16d42"
      },
      "source": [
        "plt.figure()\n",
        "plt.plot(loss_train, label=\"loss_train\")\n",
        "plt.plot(loss_test, label=\"loss_test\")\n",
        "plt.plot([17,17], [0, 80])\n",
        "plt.legend()\n",
        "plt.show()"
      ],
      "execution_count": null,
      "outputs": [
        {
          "output_type": "display_data",
          "data": {
            "image/png": "[encoded data removed]",
            "text/plain": [
              "<Figure size 432x288 with 1 Axes>"
            ]
          },
          "metadata": {
            "tags": [],
            "needs_background": "light"
          }
        }
      ]
    },
    {
      "cell_type": "code",
      "metadata": {
        "id": "5vRyPmTn708w",
        "colab": {
          "base_uri": "https://localhost:8080/",
          "height": 264
        },
        "outputId": "09827606-be1b-4fac-b3f8-a2575a93c21e"
      },
      "source": [
        "plt.figure()\n",
        "plt.plot(loss_train, label=\"loss_train\")\n",
        "plt.plot(loss_test, label=\"loss_test\")\n",
        "plt.plot([17,17], [0, 111])\n",
        "plt.legend()\n",
        "plt.show()"
      ],
      "execution_count": null,
      "outputs": [
        {
          "output_type": "display_data",
          "data": {
            "image/png": "[encoded data removed]",
            "text/plain": [
              "<Figure size 432x288 with 1 Axes>"
            ]
          },
          "metadata": {
            "tags": [],
            "needs_background": "light"
          }
        }
      ]
    },
    {
      "cell_type": "code",
      "metadata": {
        "id": "km6oX8qH74T-"
      },
      "source": [
        ""
      ],
      "execution_count": null,
      "outputs": []
    },
    {
      "cell_type": "code",
      "metadata": {
        "id": "i-afK3Od77d4"
      },
      "source": [
        "print(\"classification_report\")\n",
        "print(eval_model(net, test_dataloader))\n",
        "print(\"--------------------------------------------------------------\")"
      ],
      "execution_count": null,
      "outputs": []
    },
    {
      "cell_type": "code",
      "metadata": {
        "id": "0-1t-yvp7-Xz"
      },
      "source": [
        "torch.save(net.state_dict(), \"/content/drive/My Drive/multi-modal/img_embed_dict.pt\")"
      ],
      "execution_count": null,
      "outputs": []
    }
  ]
}