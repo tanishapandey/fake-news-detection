{
  "nbformat": 4,
  "nbformat_minor": 0,
  "metadata": {
    "colab": {
      "name": "Weibo_text_embeddings.ipynb",
      "provenance": [],
      "collapsed_sections": []
    },
    "kernelspec": {
      "name": "python3",
      "display_name": "Python 3"
    },
    "accelerator": "GPU",
    "widgets": {
      "application/vnd.jupyter.widget-state+json": {
        "15ffc71e56d94e75b49eb42ddc6f3bbd": {
          "model_module": "@jupyter-widgets/controls",
          "model_name": "HBoxModel",
          "state": {
            "_view_name": "HBoxView",
            "_dom_classes": [],
            "_model_name": "HBoxModel",
            "_view_module": "@jupyter-widgets/controls",
            "_model_module_version": "1.5.0",
            "_view_count": null,
            "_view_module_version": "1.5.0",
            "box_style": "",
            "layout": "IPY_MODEL_febfeb37f71c46f2afbfae9f6621b531",
            "_model_module": "@jupyter-widgets/controls",
            "children": [
              "IPY_MODEL_02cd2498628643e985d2a1d708a51c0d",
              "IPY_MODEL_1a911b3982784874864b2eb33b8b1ce5"
            ]
          }
        },
        "febfeb37f71c46f2afbfae9f6621b531": {
          "model_module": "@jupyter-widgets/base",
          "model_name": "LayoutModel",
          "state": {
            "_view_name": "LayoutView",
            "grid_template_rows": null,
            "right": null,
            "justify_content": null,
            "_view_module": "@jupyter-widgets/base",
            "overflow": null,
            "_model_module_version": "1.2.0",
            "_view_count": null,
            "flex_flow": null,
            "width": null,
            "min_width": null,
            "border": null,
            "align_items": null,
            "bottom": null,
            "_model_module": "@jupyter-widgets/base",
            "top": null,
            "grid_column": null,
            "overflow_y": null,
            "overflow_x": null,
            "grid_auto_flow": null,
            "grid_area": null,
            "grid_template_columns": null,
            "flex": null,
            "_model_name": "LayoutModel",
            "justify_items": null,
            "grid_row": null,
            "max_height": null,
            "align_content": null,
            "visibility": null,
            "align_self": null,
            "height": null,
            "min_height": null,
            "padding": null,
            "grid_auto_rows": null,
            "grid_gap": null,
            "max_width": null,
            "order": null,
            "_view_module_version": "1.2.0",
            "grid_template_areas": null,
            "object_position": null,
            "object_fit": null,
            "grid_auto_columns": null,
            "margin": null,
            "display": null,
            "left": null
          }
        },
        "02cd2498628643e985d2a1d708a51c0d": {
          "model_module": "@jupyter-widgets/controls",
          "model_name": "FloatProgressModel",
          "state": {
            "_view_name": "ProgressView",
            "style": "IPY_MODEL_51c0a73c2aee48df9ad4b336e38c83af",
            "_dom_classes": [],
            "description": "Downloading: 100%",
            "_model_name": "FloatProgressModel",
            "bar_style": "success",
            "max": 109540,
            "_view_module": "@jupyter-widgets/controls",
            "_model_module_version": "1.5.0",
            "value": 109540,
            "_view_count": null,
            "_view_module_version": "1.5.0",
            "orientation": "horizontal",
            "min": 0,
            "description_tooltip": null,
            "_model_module": "@jupyter-widgets/controls",
            "layout": "IPY_MODEL_f0ef1cca61444f559f3d9b08fe350e39"
          }
        },
        "1a911b3982784874864b2eb33b8b1ce5": {
          "model_module": "@jupyter-widgets/controls",
          "model_name": "HTMLModel",
          "state": {
            "_view_name": "HTMLView",
            "style": "IPY_MODEL_165f10e16fc346e89a56f624e8606b69",
            "_dom_classes": [],
            "description": "",
            "_model_name": "HTMLModel",
            "placeholder": "​",
            "_view_module": "@jupyter-widgets/controls",
            "_model_module_version": "1.5.0",
            "value": " 110k/110k [00:00&lt;00:00, 1.67MB/s]",
            "_view_count": null,
            "_view_module_version": "1.5.0",
            "description_tooltip": null,
            "_model_module": "@jupyter-widgets/controls",
            "layout": "IPY_MODEL_e0045bce818745abadbfdc56df68a1cd"
          }
        },
        "51c0a73c2aee48df9ad4b336e38c83af": {
          "model_module": "@jupyter-widgets/controls",
          "model_name": "ProgressStyleModel",
          "state": {
            "_view_name": "StyleView",
            "_model_name": "ProgressStyleModel",
            "description_width": "initial",
            "_view_module": "@jupyter-widgets/base",
            "_model_module_version": "1.5.0",
            "_view_count": null,
            "_view_module_version": "1.2.0",
            "bar_color": null,
            "_model_module": "@jupyter-widgets/controls"
          }
        },
        "f0ef1cca61444f559f3d9b08fe350e39": {
          "model_module": "@jupyter-widgets/base",
          "model_name": "LayoutModel",
          "state": {
            "_view_name": "LayoutView",
            "grid_template_rows": null,
            "right": null,
            "justify_content": null,
            "_view_module": "@jupyter-widgets/base",
            "overflow": null,
            "_model_module_version": "1.2.0",
            "_view_count": null,
            "flex_flow": null,
            "width": null,
            "min_width": null,
            "border": null,
            "align_items": null,
            "bottom": null,
            "_model_module": "@jupyter-widgets/base",
            "top": null,
            "grid_column": null,
            "overflow_y": null,
            "overflow_x": null,
            "grid_auto_flow": null,
            "grid_area": null,
            "grid_template_columns": null,
            "flex": null,
            "_model_name": "LayoutModel",
            "justify_items": null,
            "grid_row": null,
            "max_height": null,
            "align_content": null,
            "visibility": null,
            "align_self": null,
            "height": null,
            "min_height": null,
            "padding": null,
            "grid_auto_rows": null,
            "grid_gap": null,
            "max_width": null,
            "order": null,
            "_view_module_version": "1.2.0",
            "grid_template_areas": null,
            "object_position": null,
            "object_fit": null,
            "grid_auto_columns": null,
            "margin": null,
            "display": null,
            "left": null
          }
        },
        "165f10e16fc346e89a56f624e8606b69": {
          "model_module": "@jupyter-widgets/controls",
          "model_name": "DescriptionStyleModel",
          "state": {
            "_view_name": "StyleView",
            "_model_name": "DescriptionStyleModel",
            "description_width": "",
            "_view_module": "@jupyter-widgets/base",
            "_model_module_version": "1.5.0",
            "_view_count": null,
            "_view_module_version": "1.2.0",
            "_model_module": "@jupyter-widgets/controls"
          }
        },
        "e0045bce818745abadbfdc56df68a1cd": {
          "model_module": "@jupyter-widgets/base",
          "model_name": "LayoutModel",
          "state": {
            "_view_name": "LayoutView",
            "grid_template_rows": null,
            "right": null,
            "justify_content": null,
            "_view_module": "@jupyter-widgets/base",
            "overflow": null,
            "_model_module_version": "1.2.0",
            "_view_count": null,
            "flex_flow": null,
            "width": null,
            "min_width": null,
            "border": null,
            "align_items": null,
            "bottom": null,
            "_model_module": "@jupyter-widgets/base",
            "top": null,
            "grid_column": null,
            "overflow_y": null,
            "overflow_x": null,
            "grid_auto_flow": null,
            "grid_area": null,
            "grid_template_columns": null,
            "flex": null,
            "_model_name": "LayoutModel",
            "justify_items": null,
            "grid_row": null,
            "max_height": null,
            "align_content": null,
            "visibility": null,
            "align_self": null,
            "height": null,
            "min_height": null,
            "padding": null,
            "grid_auto_rows": null,
            "grid_gap": null,
            "max_width": null,
            "order": null,
            "_view_module_version": "1.2.0",
            "grid_template_areas": null,
            "object_position": null,
            "object_fit": null,
            "grid_auto_columns": null,
            "margin": null,
            "display": null,
            "left": null
          }
        },
        "13bd2bb9cfc24776946d0b16e9859b3e": {
          "model_module": "@jupyter-widgets/controls",
          "model_name": "HBoxModel",
          "state": {
            "_view_name": "HBoxView",
            "_dom_classes": [],
            "_model_name": "HBoxModel",
            "_view_module": "@jupyter-widgets/controls",
            "_model_module_version": "1.5.0",
            "_view_count": null,
            "_view_module_version": "1.5.0",
            "box_style": "",
            "layout": "IPY_MODEL_8434c4f2a6994dfd98be95791dd06d6a",
            "_model_module": "@jupyter-widgets/controls",
            "children": [
              "IPY_MODEL_022c4c17ade94b4d82ea53678dc01826",
              "IPY_MODEL_9ff761c7837348a4850de42d238ea754"
            ]
          }
        },
        "8434c4f2a6994dfd98be95791dd06d6a": {
          "model_module": "@jupyter-widgets/base",
          "model_name": "LayoutModel",
          "state": {
            "_view_name": "LayoutView",
            "grid_template_rows": null,
            "right": null,
            "justify_content": null,
            "_view_module": "@jupyter-widgets/base",
            "overflow": null,
            "_model_module_version": "1.2.0",
            "_view_count": null,
            "flex_flow": null,
            "width": null,
            "min_width": null,
            "border": null,
            "align_items": null,
            "bottom": null,
            "_model_module": "@jupyter-widgets/base",
            "top": null,
            "grid_column": null,
            "overflow_y": null,
            "overflow_x": null,
            "grid_auto_flow": null,
            "grid_area": null,
            "grid_template_columns": null,
            "flex": null,
            "_model_name": "LayoutModel",
            "justify_items": null,
            "grid_row": null,
            "max_height": null,
            "align_content": null,
            "visibility": null,
            "align_self": null,
            "height": null,
            "min_height": null,
            "padding": null,
            "grid_auto_rows": null,
            "grid_gap": null,
            "max_width": null,
            "order": null,
            "_view_module_version": "1.2.0",
            "grid_template_areas": null,
            "object_position": null,
            "object_fit": null,
            "grid_auto_columns": null,
            "margin": null,
            "display": null,
            "left": null
          }
        },
        "022c4c17ade94b4d82ea53678dc01826": {
          "model_module": "@jupyter-widgets/controls",
          "model_name": "FloatProgressModel",
          "state": {
            "_view_name": "ProgressView",
            "style": "IPY_MODEL_bf0cf3d7a97f4c86bf838b2a5640630d",
            "_dom_classes": [],
            "description": "Downloading: 100%",
            "_model_name": "FloatProgressModel",
            "bar_style": "success",
            "max": 624,
            "_view_module": "@jupyter-widgets/controls",
            "_model_module_version": "1.5.0",
            "value": 624,
            "_view_count": null,
            "_view_module_version": "1.5.0",
            "orientation": "horizontal",
            "min": 0,
            "description_tooltip": null,
            "_model_module": "@jupyter-widgets/controls",
            "layout": "IPY_MODEL_b56202d7757840b388a784b0e630c6d0"
          }
        },
        "9ff761c7837348a4850de42d238ea754": {
          "model_module": "@jupyter-widgets/controls",
          "model_name": "HTMLModel",
          "state": {
            "_view_name": "HTMLView",
            "style": "IPY_MODEL_f94727f6d88d4b02bcd39ff27bbe53b6",
            "_dom_classes": [],
            "description": "",
            "_model_name": "HTMLModel",
            "placeholder": "​",
            "_view_module": "@jupyter-widgets/controls",
            "_model_module_version": "1.5.0",
            "value": " 624/624 [00:00&lt;00:00, 2.04kB/s]",
            "_view_count": null,
            "_view_module_version": "1.5.0",
            "description_tooltip": null,
            "_model_module": "@jupyter-widgets/controls",
            "layout": "IPY_MODEL_e0dc7b6627cc4858ac05ffcbebc739c7"
          }
        },
        "bf0cf3d7a97f4c86bf838b2a5640630d": {
          "model_module": "@jupyter-widgets/controls",
          "model_name": "ProgressStyleModel",
          "state": {
            "_view_name": "StyleView",
            "_model_name": "ProgressStyleModel",
            "description_width": "initial",
            "_view_module": "@jupyter-widgets/base",
            "_model_module_version": "1.5.0",
            "_view_count": null,
            "_view_module_version": "1.2.0",
            "bar_color": null,
            "_model_module": "@jupyter-widgets/controls"
          }
        },
        "b56202d7757840b388a784b0e630c6d0": {
          "model_module": "@jupyter-widgets/base",
          "model_name": "LayoutModel",
          "state": {
            "_view_name": "LayoutView",
            "grid_template_rows": null,
            "right": null,
            "justify_content": null,
            "_view_module": "@jupyter-widgets/base",
            "overflow": null,
            "_model_module_version": "1.2.0",
            "_view_count": null,
            "flex_flow": null,
            "width": null,
            "min_width": null,
            "border": null,
            "align_items": null,
            "bottom": null,
            "_model_module": "@jupyter-widgets/base",
            "top": null,
            "grid_column": null,
            "overflow_y": null,
            "overflow_x": null,
            "grid_auto_flow": null,
            "grid_area": null,
            "grid_template_columns": null,
            "flex": null,
            "_model_name": "LayoutModel",
            "justify_items": null,
            "grid_row": null,
            "max_height": null,
            "align_content": null,
            "visibility": null,
            "align_self": null,
            "height": null,
            "min_height": null,
            "padding": null,
            "grid_auto_rows": null,
            "grid_gap": null,
            "max_width": null,
            "order": null,
            "_view_module_version": "1.2.0",
            "grid_template_areas": null,
            "object_position": null,
            "object_fit": null,
            "grid_auto_columns": null,
            "margin": null,
            "display": null,
            "left": null
          }
        },
        "f94727f6d88d4b02bcd39ff27bbe53b6": {
          "model_module": "@jupyter-widgets/controls",
          "model_name": "DescriptionStyleModel",
          "state": {
            "_view_name": "StyleView",
            "_model_name": "DescriptionStyleModel",
            "description_width": "",
            "_view_module": "@jupyter-widgets/base",
            "_model_module_version": "1.5.0",
            "_view_count": null,
            "_view_module_version": "1.2.0",
            "_model_module": "@jupyter-widgets/controls"
          }
        },
        "e0dc7b6627cc4858ac05ffcbebc739c7": {
          "model_module": "@jupyter-widgets/base",
          "model_name": "LayoutModel",
          "state": {
            "_view_name": "LayoutView",
            "grid_template_rows": null,
            "right": null,
            "justify_content": null,
            "_view_module": "@jupyter-widgets/base",
            "overflow": null,
            "_model_module_version": "1.2.0",
            "_view_count": null,
            "flex_flow": null,
            "width": null,
            "min_width": null,
            "border": null,
            "align_items": null,
            "bottom": null,
            "_model_module": "@jupyter-widgets/base",
            "top": null,
            "grid_column": null,
            "overflow_y": null,
            "overflow_x": null,
            "grid_auto_flow": null,
            "grid_area": null,
            "grid_template_columns": null,
            "flex": null,
            "_model_name": "LayoutModel",
            "justify_items": null,
            "grid_row": null,
            "max_height": null,
            "align_content": null,
            "visibility": null,
            "align_self": null,
            "height": null,
            "min_height": null,
            "padding": null,
            "grid_auto_rows": null,
            "grid_gap": null,
            "max_width": null,
            "order": null,
            "_view_module_version": "1.2.0",
            "grid_template_areas": null,
            "object_position": null,
            "object_fit": null,
            "grid_auto_columns": null,
            "margin": null,
            "display": null,
            "left": null
          }
        }
      }
    }
  },
  "cells": [
    {
      "cell_type": "code",
      "metadata": {
        "colab": {
          "base_uri": "https://localhost:8080/"
        },
        "id": "Y38aRAsXDGTd",
        "outputId": "d776c8c3-b1e5-4fab-f457-8c7a441baa97"
      },
      "source": [
        "from google.colab import drive\n",
        "drive.mount('/content/drive')"
      ],
      "execution_count": null,
      "outputs": [
        {
          "output_type": "stream",
          "text": [
            "Mounted at /content/drive\n"
          ],
          "name": "stdout"
        }
      ]
    },
    {
      "cell_type": "code",
      "metadata": {
        "colab": {
          "base_uri": "https://localhost:8080/"
        },
        "id": "DAwSSGLWHEy9",
        "outputId": "db80b183-1268-4f4e-d9c3-9e1dede0d200"
      },
      "source": [
        "! pip install transformers"
      ],
      "execution_count": null,
      "outputs": [
        {
          "output_type": "stream",
          "text": [
            "Collecting transformers\n",
            "\u001b[?25l  Downloading https://files.pythonhosted.org/packages/cd/40/866cbfac4601e0f74c7303d533a9c5d4a53858bd402e08e3e294dd271f25/transformers-4.2.1-py3-none-any.whl (1.8MB)\n",
            "\u001b[K     |████████████████████████████████| 1.8MB 17.3MB/s \n",
            "\u001b[?25hRequirement already satisfied: filelock in /usr/local/lib/python3.6/dist-packages (from transformers) (3.0.12)\n",
            "Requirement already satisfied: regex!=2019.12.17 in /usr/local/lib/python3.6/dist-packages (from transformers) (2019.12.20)\n",
            "Requirement already satisfied: packaging in /usr/local/lib/python3.6/dist-packages (from transformers) (20.8)\n",
            "Requirement already satisfied: tqdm>=4.27 in /usr/local/lib/python3.6/dist-packages (from transformers) (4.41.1)\n",
            "Collecting sacremoses\n",
            "\u001b[?25l  Downloading https://files.pythonhosted.org/packages/7d/34/09d19aff26edcc8eb2a01bed8e98f13a1537005d31e95233fd48216eed10/sacremoses-0.0.43.tar.gz (883kB)\n",
            "\u001b[K     |████████████████████████████████| 890kB 57.9MB/s \n",
            "\u001b[?25hCollecting tokenizers==0.9.4\n",
            "\u001b[?25l  Downloading https://files.pythonhosted.org/packages/0f/1c/e789a8b12e28be5bc1ce2156cf87cb522b379be9cadc7ad8091a4cc107c4/tokenizers-0.9.4-cp36-cp36m-manylinux2010_x86_64.whl (2.9MB)\n",
            "\u001b[K     |████████████████████████████████| 2.9MB 49.5MB/s \n",
            "\u001b[?25hRequirement already satisfied: requests in /usr/local/lib/python3.6/dist-packages (from transformers) (2.23.0)\n",
            "Requirement already satisfied: importlib-metadata; python_version < \"3.8\" in /usr/local/lib/python3.6/dist-packages (from transformers) (3.3.0)\n",
            "Requirement already satisfied: numpy in /usr/local/lib/python3.6/dist-packages (from transformers) (1.19.5)\n",
            "Requirement already satisfied: dataclasses; python_version < \"3.7\" in /usr/local/lib/python3.6/dist-packages (from transformers) (0.8)\n",
            "Requirement already satisfied: pyparsing>=2.0.2 in /usr/local/lib/python3.6/dist-packages (from packaging->transformers) (2.4.7)\n",
            "Requirement already satisfied: six in /usr/local/lib/python3.6/dist-packages (from sacremoses->transformers) (1.15.0)\n",
            "Requirement already satisfied: click in /usr/local/lib/python3.6/dist-packages (from sacremoses->transformers) (7.1.2)\n",
            "Requirement already satisfied: joblib in /usr/local/lib/python3.6/dist-packages (from sacremoses->transformers) (1.0.0)\n",
            "Requirement already satisfied: certifi>=2017.4.17 in /usr/local/lib/python3.6/dist-packages (from requests->transformers) (2020.12.5)\n",
            "Requirement already satisfied: chardet<4,>=3.0.2 in /usr/local/lib/python3.6/dist-packages (from requests->transformers) (3.0.4)\n",
            "Requirement already satisfied: idna<3,>=2.5 in /usr/local/lib/python3.6/dist-packages (from requests->transformers) (2.10)\n",
            "Requirement already satisfied: urllib3!=1.25.0,!=1.25.1,<1.26,>=1.21.1 in /usr/local/lib/python3.6/dist-packages (from requests->transformers) (1.24.3)\n",
            "Requirement already satisfied: typing-extensions>=3.6.4; python_version < \"3.8\" in /usr/local/lib/python3.6/dist-packages (from importlib-metadata; python_version < \"3.8\"->transformers) (3.7.4.3)\n",
            "Requirement already satisfied: zipp>=0.5 in /usr/local/lib/python3.6/dist-packages (from importlib-metadata; python_version < \"3.8\"->transformers) (3.4.0)\n",
            "Building wheels for collected packages: sacremoses\n",
            "  Building wheel for sacremoses (setup.py) ... \u001b[?25l\u001b[?25hdone\n",
            "  Created wheel for sacremoses: filename=sacremoses-0.0.43-cp36-none-any.whl size=893261 sha256=580ff18c62d70a0a47ab62efd48162f9ad98f06c58864c9e18f368bd83524527\n",
            "  Stored in directory: /root/.cache/pip/wheels/29/3c/fd/7ce5c3f0666dab31a50123635e6fb5e19ceb42ce38d4e58f45\n",
            "Successfully built sacremoses\n",
            "Installing collected packages: sacremoses, tokenizers, transformers\n",
            "Successfully installed sacremoses-0.0.43 tokenizers-0.9.4 transformers-4.2.1\n"
          ],
          "name": "stdout"
        }
      ]
    },
    {
      "cell_type": "code",
      "metadata": {
        "id": "iM4wnEpnD1UN"
      },
      "source": [
        "import pandas as pd\n",
        "import random\n",
        "import math\n",
        "import numpy as np\n",
        "import torch\n",
        "import torch.nn as nn\n",
        "import torch.nn.functional as F\n",
        "import torch.autograd as autograd\n",
        "from torch.nn.utils.rnn import pack_padded_sequence, pad_packed_sequence\n",
        "from torch.nn import Parameter\n",
        "from transformers import BertModel\n",
        "from transformers import BertConfig\n",
        "from transformers import BertTokenizer\n",
        "from keras.preprocessing.sequence import pad_sequences\n",
        "import torch.optim as optim\n",
        "import copy"
      ],
      "execution_count": null,
      "outputs": []
    },
    {
      "cell_type": "code",
      "metadata": {
        "id": "TxFI8QDCLF8Z"
      },
      "source": [
        "device = torch.device(\"cuda:0\" if torch.cuda.is_available() else \"cpu\")"
      ],
      "execution_count": null,
      "outputs": []
    },
    {
      "cell_type": "code",
      "metadata": {
        "id": "mE_-QaN0DX6X"
      },
      "source": [
        "def get_df(file):\n",
        "    return pd.read_csv(file, sep='|',header = None)"
      ],
      "execution_count": null,
      "outputs": []
    },
    {
      "cell_type": "code",
      "metadata": {
        "id": "QECKknXvD9CD"
      },
      "source": [
        "train_df_fake = get_df('/content/drive/My Drive/WeiboRumorSet/WeiboRumorSet/tweets/train_rumor.txt')\n",
        "train_df_real = get_df('/content/drive/My Drive/WeiboRumorSet/WeiboRumorSet/tweets/train_nonrumor.txt')\n",
        "test_df_fake = get_df('/content/drive/My Drive/WeiboRumorSet/WeiboRumorSet/tweets/test_rumor.txt')\n",
        "test_df_real = get_df('/content/drive/My Drive/WeiboRumorSet/WeiboRumorSet/tweets/test_nonrumor.txt')"
      ],
      "execution_count": null,
      "outputs": []
    },
    {
      "cell_type": "code",
      "metadata": {
        "colab": {
          "base_uri": "https://localhost:8080/",
          "height": 526
        },
        "id": "dRKcctPoLdF4",
        "outputId": "861ffaa3-8df4-4d3a-a646-6aa81760d425"
      },
      "source": [
        "train_df_fake"
      ],
      "execution_count": null,
      "outputs": [
        {
          "output_type": "execute_result",
          "data": {
            "text/html": [
              "<div>\n",
              "<style scoped>\n",
              "    .dataframe tbody tr th:only-of-type {\n",
              "        vertical-align: middle;\n",
              "    }\n",
              "\n",
              "    .dataframe tbody tr th {\n",
              "        vertical-align: top;\n",
              "    }\n",
              "\n",
              "    .dataframe thead th {\n",
              "        text-align: right;\n",
              "    }\n",
              "</style>\n",
              "<table border=\"1\" class=\"dataframe\">\n",
              "  <thead>\n",
              "    <tr style=\"text-align: right;\">\n",
              "      <th></th>\n",
              "      <th>0</th>\n",
              "      <th>1</th>\n",
              "      <th>2</th>\n",
              "      <th>3</th>\n",
              "      <th>4</th>\n",
              "      <th>5</th>\n",
              "      <th>6</th>\n",
              "      <th>7</th>\n",
              "      <th>8</th>\n",
              "      <th>9</th>\n",
              "      <th>10</th>\n",
              "      <th>11</th>\n",
              "      <th>12</th>\n",
              "      <th>13</th>\n",
              "      <th>14</th>\n",
              "    </tr>\n",
              "  </thead>\n",
              "  <tbody>\n",
              "    <tr>\n",
              "      <th>0</th>\n",
              "      <td>3511947309647762</td>\n",
              "      <td>地球超级爆料</td>\n",
              "      <td>http://weibo.com/2803550292/z50NQEtP4</td>\n",
              "      <td>NaN</td>\n",
              "      <td>2012-11-13 16:55</td>\n",
              "      <td>true</td>\n",
              "      <td>79</td>\n",
              "      <td>18</td>\n",
              "      <td>0</td>\n",
              "      <td>2803550292</td>\n",
              "      <td>0.0</td>\n",
              "      <td>5047.0</td>\n",
              "      <td>1770.0</td>\n",
              "      <td>1979.0</td>\n",
              "      <td>微博 weibo.com</td>\n",
              "    </tr>\n",
              "    <tr>\n",
              "      <th>1</th>\n",
              "      <td>http://ww1.sinaimg.cn/large/a71ac854gw1dytin2z...</td>\n",
              "      <td>NaN</td>\n",
              "      <td>NaN</td>\n",
              "      <td>NaN</td>\n",
              "      <td>NaN</td>\n",
              "      <td>NaN</td>\n",
              "      <td>NaN</td>\n",
              "      <td>NaN</td>\n",
              "      <td>NaN</td>\n",
              "      <td>NaN</td>\n",
              "      <td>NaN</td>\n",
              "      <td>NaN</td>\n",
              "      <td>NaN</td>\n",
              "      <td>NaN</td>\n",
              "      <td>NaN</td>\n",
              "    </tr>\n",
              "    <tr>\n",
              "      <th>2</th>\n",
              "      <td>震惊，转发求证：【想都不敢想 ，在美国一桶金龙鱼食用油只要8元人民币】 一桶食用油相当于中国...</td>\n",
              "      <td>NaN</td>\n",
              "      <td>NaN</td>\n",
              "      <td>NaN</td>\n",
              "      <td>NaN</td>\n",
              "      <td>NaN</td>\n",
              "      <td>NaN</td>\n",
              "      <td>NaN</td>\n",
              "      <td>NaN</td>\n",
              "      <td>NaN</td>\n",
              "      <td>NaN</td>\n",
              "      <td>NaN</td>\n",
              "      <td>NaN</td>\n",
              "      <td>NaN</td>\n",
              "      <td>NaN</td>\n",
              "    </tr>\n",
              "    <tr>\n",
              "      <th>3</th>\n",
              "      <td>3576100079039606</td>\n",
              "      <td>Noodles_Liu</td>\n",
              "      <td>http://weibo.com/1000432103/zvVI3BVC6</td>\n",
              "      <td>NaN</td>\n",
              "      <td>2013-05-09 17:36</td>\n",
              "      <td>true</td>\n",
              "      <td>1</td>\n",
              "      <td>0</td>\n",
              "      <td>0</td>\n",
              "      <td>1000432103</td>\n",
              "      <td>0.0</td>\n",
              "      <td>9049.0</td>\n",
              "      <td>490.0</td>\n",
              "      <td>28017.0</td>\n",
              "      <td>iPhone客户端</td>\n",
              "    </tr>\n",
              "    <tr>\n",
              "      <th>4</th>\n",
              "      <td>http://ww1.sinaimg.cn/large/3ba161e7jw1e4i6j4e...</td>\n",
              "      <td>NaN</td>\n",
              "      <td>NaN</td>\n",
              "      <td>NaN</td>\n",
              "      <td>NaN</td>\n",
              "      <td>NaN</td>\n",
              "      <td>NaN</td>\n",
              "      <td>NaN</td>\n",
              "      <td>NaN</td>\n",
              "      <td>NaN</td>\n",
              "      <td>NaN</td>\n",
              "      <td>NaN</td>\n",
              "      <td>NaN</td>\n",
              "      <td>NaN</td>\n",
              "      <td>NaN</td>\n",
              "    </tr>\n",
              "    <tr>\n",
              "      <th>...</th>\n",
              "      <td>...</td>\n",
              "      <td>...</td>\n",
              "      <td>...</td>\n",
              "      <td>...</td>\n",
              "      <td>...</td>\n",
              "      <td>...</td>\n",
              "      <td>...</td>\n",
              "      <td>...</td>\n",
              "      <td>...</td>\n",
              "      <td>...</td>\n",
              "      <td>...</td>\n",
              "      <td>...</td>\n",
              "      <td>...</td>\n",
              "      <td>...</td>\n",
              "      <td>...</td>\n",
              "    </tr>\n",
              "    <tr>\n",
              "      <th>11189</th>\n",
              "      <td>3795205020509978</td>\n",
              "      <td>雯雯兜兜2</td>\n",
              "      <td>http://weibo.com/5221338222/BDWIu28Fs</td>\n",
              "      <td>NaN</td>\n",
              "      <td>2015-01-04 07:30</td>\n",
              "      <td>true</td>\n",
              "      <td>0</td>\n",
              "      <td>4</td>\n",
              "      <td>11942</td>\n",
              "      <td>5221338222</td>\n",
              "      <td>0.0</td>\n",
              "      <td>146.0</td>\n",
              "      <td>169.0</td>\n",
              "      <td>622.0</td>\n",
              "      <td>iPhone 5s</td>\n",
              "    </tr>\n",
              "    <tr>\n",
              "      <th>11190</th>\n",
              "      <td>http://ww2.sinaimg.cn/large/a716fd45jw1enx4x69...</td>\n",
              "      <td>http://ww4.sinaimg.cn/large/a716fd45jw1enx4x6d...</td>\n",
              "      <td>http://ww3.sinaimg.cn/large/a716fd45jw1enx4x6k...</td>\n",
              "      <td>http://ww1.sinaimg.cn/large/a716fd45jw1enx4x6q...</td>\n",
              "      <td>http://ww4.sinaimg.cn/large/a716fd45jw1enx4x6r...</td>\n",
              "      <td>http://ww4.sinaimg.cn/large/a716fd45jw1enx4x70...</td>\n",
              "      <td>http://ww1.sinaimg.cn/large/a716fd45jw1enx4x71...</td>\n",
              "      <td>http://ww1.sinaimg.cn/large/a716fd45jw1enx4x75...</td>\n",
              "      <td>http://ww1.sinaimg.cn/large/a716fd45jw1enx4x7e...</td>\n",
              "      <td>NaN</td>\n",
              "      <td>NaN</td>\n",
              "      <td>NaN</td>\n",
              "      <td>NaN</td>\n",
              "      <td>NaN</td>\n",
              "      <td>NaN</td>\n",
              "    </tr>\n",
              "    <tr>\n",
              "      <th>11191</th>\n",
              "      <td>3720633525700857</td>\n",
              "      <td>D-雨中伞</td>\n",
              "      <td>http://weibo.com/3071526677/B8ELSnV3j</td>\n",
              "      <td>NaN</td>\n",
              "      <td>2014-01-02 17:01</td>\n",
              "      <td>true</td>\n",
              "      <td>0</td>\n",
              "      <td>0</td>\n",
              "      <td>968</td>\n",
              "      <td>3071526677</td>\n",
              "      <td>0.0</td>\n",
              "      <td>96.0</td>\n",
              "      <td>108.0</td>\n",
              "      <td>16.0</td>\n",
              "      <td>iPhone客户端</td>\n",
              "    </tr>\n",
              "    <tr>\n",
              "      <th>11192</th>\n",
              "      <td>http://ww4.sinaimg.cn/large/668669eagw1ec59jtc...</td>\n",
              "      <td>http://ww3.sinaimg.cn/large/668669eagw1ec59k3d...</td>\n",
              "      <td>http://ww3.sinaimg.cn/large/668669eagw1ec59k4k...</td>\n",
              "      <td>http://ww3.sinaimg.cn/large/668669eagw1ec59k75...</td>\n",
              "      <td>http://ww4.sinaimg.cn/large/668669eagw1ec59k9w...</td>\n",
              "      <td>http://ww2.sinaimg.cn/large/668669eagw1ec59kdv...</td>\n",
              "      <td>http://ww4.sinaimg.cn/large/668669eagw1ec59kxd...</td>\n",
              "      <td>http://ww2.sinaimg.cn/large/668669eagw1ec59kzu...</td>\n",
              "      <td>http://ww1.sinaimg.cn/large/668669eagw1ec59l1t...</td>\n",
              "      <td>NaN</td>\n",
              "      <td>NaN</td>\n",
              "      <td>NaN</td>\n",
              "      <td>NaN</td>\n",
              "      <td>NaN</td>\n",
              "      <td>NaN</td>\n",
              "    </tr>\n",
              "    <tr>\n",
              "      <th>11193</th>\n",
              "      <td>@朱秋霞77:寻人 13969597919帮忙扩散，今天上午一个三岁多小女孩在高新开发区怡馨...</td>\n",
              "      <td>NaN</td>\n",
              "      <td>NaN</td>\n",
              "      <td>NaN</td>\n",
              "      <td>NaN</td>\n",
              "      <td>NaN</td>\n",
              "      <td>NaN</td>\n",
              "      <td>NaN</td>\n",
              "      <td>NaN</td>\n",
              "      <td>NaN</td>\n",
              "      <td>NaN</td>\n",
              "      <td>NaN</td>\n",
              "      <td>NaN</td>\n",
              "      <td>NaN</td>\n",
              "      <td>NaN</td>\n",
              "    </tr>\n",
              "  </tbody>\n",
              "</table>\n",
              "<p>11194 rows × 15 columns</p>\n",
              "</div>"
            ],
            "text/plain": [
              "                                                      0   ...            14\n",
              "0                                       3511947309647762  ...  微博 weibo.com\n",
              "1      http://ww1.sinaimg.cn/large/a71ac854gw1dytin2z...  ...           NaN\n",
              "2      震惊，转发求证：【想都不敢想 ，在美国一桶金龙鱼食用油只要8元人民币】 一桶食用油相当于中国...  ...           NaN\n",
              "3                                       3576100079039606  ...     iPhone客户端\n",
              "4      http://ww1.sinaimg.cn/large/3ba161e7jw1e4i6j4e...  ...           NaN\n",
              "...                                                  ...  ...           ...\n",
              "11189                                   3795205020509978  ...     iPhone 5s\n",
              "11190  http://ww2.sinaimg.cn/large/a716fd45jw1enx4x69...  ...           NaN\n",
              "11191                                   3720633525700857  ...     iPhone客户端\n",
              "11192  http://ww4.sinaimg.cn/large/668669eagw1ec59jtc...  ...           NaN\n",
              "11193  @朱秋霞77:寻人 13969597919帮忙扩散，今天上午一个三岁多小女孩在高新开发区怡馨...  ...           NaN\n",
              "\n",
              "[11194 rows x 15 columns]"
            ]
          },
          "metadata": {
            "tags": []
          },
          "execution_count": 9
        }
      ]
    },
    {
      "cell_type": "code",
      "metadata": {
        "id": "XeesQVhmEN-G"
      },
      "source": [
        "train_fake = train_df_fake[0].tolist()\n",
        "train_real = train_df_real[0].tolist()\n",
        "test_fake = test_df_fake[0].tolist()\n",
        "test_real = test_df_real[0].tolist()"
      ],
      "execution_count": null,
      "outputs": []
    },
    {
      "cell_type": "code",
      "metadata": {
        "id": "ZXSZwwNFAPwZ"
      },
      "source": [
        "def fix_offset(list_):\n",
        "    fixed_flag = False\n",
        "\n",
        "    while not fixed_flag:\n",
        "        exit_flag=False\n",
        "        temp = copy.deepcopy(list_)\n",
        "        for i,v in enumerate(temp):\n",
        "            if v!=None:\n",
        "                if 'sinaimg.cn' in v:\n",
        "                    if list_[i+1] !=None:\n",
        "                        if list_[i+1].isdigit():\n",
        "                            list_.insert(i+1,None)\n",
        "                            exit_flag=True\n",
        "                            break\n",
        "        if not exit_flag:\n",
        "            fixed_flag=True\n",
        "            \n",
        "    return list_"
      ],
      "execution_count": null,
      "outputs": []
    },
    {
      "cell_type": "code",
      "metadata": {
        "id": "EVcK9wT4ASoB"
      },
      "source": [
        "train_fake = fix_offset(train_fake) \n",
        "train_real = fix_offset(train_real)\n",
        "test_fake = fix_offset(test_fake)\n",
        "test_real = fix_offset(test_real)"
      ],
      "execution_count": null,
      "outputs": []
    },
    {
      "cell_type": "code",
      "metadata": {
        "id": "4MNsZVuuAYBX"
      },
      "source": [
        "def break_in_block(list_):\n",
        "    temp = []\n",
        "    for i in range(0,len(list_),3):\n",
        "        temp.append(list_[i:i+3])\n",
        "    return temp"
      ],
      "execution_count": null,
      "outputs": []
    },
    {
      "cell_type": "code",
      "metadata": {
        "id": "adld7d9xAZKg"
      },
      "source": [
        "train_fake = break_in_block(train_fake)\n",
        "train_real = break_in_block(train_real)\n",
        "test_fake = break_in_block(test_fake)\n",
        "test_real = break_in_block(test_real)"
      ],
      "execution_count": null,
      "outputs": []
    },
    {
      "cell_type": "code",
      "metadata": {
        "colab": {
          "base_uri": "https://localhost:8080/"
        },
        "id": "btUd790YAeVS",
        "outputId": "50007788-da03-4533-a885-b8e722fbe71a"
      },
      "source": [
        "len(train_fake),len(train_real),len(test_fake),len(test_real)"
      ],
      "execution_count": null,
      "outputs": [
        {
          "output_type": "execute_result",
          "data": {
            "text/plain": [
              "(3748, 3783, 1000, 996)"
            ]
          },
          "metadata": {
            "tags": []
          },
          "execution_count": 15
        }
      ]
    },
    {
      "cell_type": "code",
      "metadata": {
        "colab": {
          "base_uri": "https://localhost:8080/"
        },
        "id": "sv1ye6miMglo",
        "outputId": "f0cdd0b9-c4b4-4297-ad04-6023718811ac"
      },
      "source": [
        "train_fake[0]"
      ],
      "execution_count": null,
      "outputs": [
        {
          "output_type": "execute_result",
          "data": {
            "text/plain": [
              "['3511947309647762',\n",
              " 'http://ww1.sinaimg.cn/large/a71ac854gw1dytin2zmk9j.jpg',\n",
              " '震惊，转发求证：【想都不敢想 ，在美国一桶金龙鱼食用油只要8元人民币】 一桶食用油相当于中国超市40多元(现在估计已经涨到五六十元了)的金龙鱼，在纽约沃尔玛感恩节时是1.6美元，圣诞节降至1.3美元。(折合人民币8.58元，而且油是绿色纯天然的，不是转基因的)，为什么中国一桶食用油要卖几十上百元？']"
            ]
          },
          "metadata": {
            "tags": []
          },
          "execution_count": 16
        }
      ]
    },
    {
      "cell_type": "code",
      "metadata": {
        "id": "A7xAnDugAiMw"
      },
      "source": [
        "def get_image_and_text_list(blocks_list):\n",
        "    image_list = []\n",
        "    text_list = []\n",
        "    for i in blocks_list:\n",
        "        if i[-1] !=None:\n",
        "            image_list.append(i[1])\n",
        "            text_list.append(i[-1])\n",
        "    image_list = [i.split('/')[-1] for i in image_list]\n",
        "    return image_list, text_list"
      ],
      "execution_count": null,
      "outputs": []
    },
    {
      "cell_type": "code",
      "metadata": {
        "id": "SSqmQPhtAk30"
      },
      "source": [
        "train_fake_image,train_fake_text = get_image_and_text_list(train_fake)\n",
        "train_real_image,train_real_text = get_image_and_text_list(train_real)\n",
        "test_fake_image,test_fake_text = get_image_and_text_list(test_fake)\n",
        "test_real_image,test_real_text = get_image_and_text_list(test_real)"
      ],
      "execution_count": null,
      "outputs": []
    },
    {
      "cell_type": "code",
      "metadata": {
        "id": "4xTCSD2yAoCS"
      },
      "source": [
        "train_fake_Y = [0]*len(train_fake_image)\n",
        "train_real_Y = [1]*len(train_real_image)\n",
        "test_fake_Y = [0]*len(test_fake_image)\n",
        "test_real_Y = [1]*len(test_real_image)"
      ],
      "execution_count": null,
      "outputs": []
    },
    {
      "cell_type": "code",
      "metadata": {
        "id": "OMolhYaBAr2X"
      },
      "source": [
        "train_images = train_fake_image+train_real_image\n",
        "train_text = train_fake_text + train_real_text\n",
        "trainY = train_fake_Y+train_real_Y\n",
        "\n",
        "test_images = test_fake_image+test_real_image\n",
        "test_text = test_fake_text+test_real_text\n",
        "testY = test_fake_Y+test_real_Y"
      ],
      "execution_count": null,
      "outputs": []
    },
    {
      "cell_type": "code",
      "metadata": {
        "colab": {
          "base_uri": "https://localhost:8080/"
        },
        "id": "PWZ31XxGAvCh",
        "outputId": "785800bd-eace-4980-f516-c2a1f65682b5"
      },
      "source": [
        "len(train_images),len(train_text),len(trainY),len(test_images),len(test_text),len(testY)"
      ],
      "execution_count": null,
      "outputs": [
        {
          "output_type": "execute_result",
          "data": {
            "text/plain": [
              "(7481, 7481, 7481, 1930, 1930, 1930)"
            ]
          },
          "metadata": {
            "tags": []
          },
          "execution_count": 21
        }
      ]
    },
    {
      "cell_type": "code",
      "metadata": {
        "id": "AUKFw8V9AzAc"
      },
      "source": [
        "train_images = np.array(train_images)\n",
        "train_text = np.array(train_text)\n",
        "trainY = np.array(trainY)\n",
        "test_images = np.array(test_images)\n",
        "test_text = np.array(test_text)\n",
        "testY = np.array(testY)"
      ],
      "execution_count": null,
      "outputs": []
    },
    {
      "cell_type": "code",
      "metadata": {
        "id": "eXhrocIuA325"
      },
      "source": [
        "def index_to_delete(list_):\n",
        "    # list_images_dir = listdir('WeiboRumorSet/images/')\n",
        "    gif_list = ['957e1cf2tw1e5foxts295g206o03p4qp.gif','a716fd45jw1ev0cgf8j46g209505zh4i.gif','005vnhZYgw1evupo8ttddg308w06o4qp.gif','7da75521gw1ele2jvi85rg2096056u0x.gif']\n",
        "    index = []\n",
        "    for i,v in enumerate(list_):\n",
        "        # if v not in list_images_dir:\n",
        "        #     index.append(i)\n",
        "        if v in gif_list:\n",
        "            index.append(i)\n",
        "    return index"
      ],
      "execution_count": null,
      "outputs": []
    },
    {
      "cell_type": "code",
      "metadata": {
        "colab": {
          "base_uri": "https://localhost:8080/"
        },
        "id": "QKBr_zCQA6sR",
        "outputId": "fa1192c2-2a7f-4517-9ace-573c83a7ba54"
      },
      "source": [
        "train_delete_index =index_to_delete(train_images)\n",
        "test_delete_index = index_to_delete(test_images)\n",
        "len(train_delete_index)+len(test_delete_index)"
      ],
      "execution_count": null,
      "outputs": [
        {
          "output_type": "execute_result",
          "data": {
            "text/plain": [
              "4"
            ]
          },
          "metadata": {
            "tags": []
          },
          "execution_count": 26
        }
      ]
    },
    {
      "cell_type": "code",
      "metadata": {
        "id": "YZ-nCMzMA9q_"
      },
      "source": [
        "shuffle_index= np.arange(len(train_images))\n",
        "np.random.shuffle(shuffle_index)\n",
        "train_images = train_images[shuffle_index]\n",
        "train_text = train_text[shuffle_index]\n",
        "trainY = trainY[shuffle_index]"
      ],
      "execution_count": null,
      "outputs": []
    },
    {
      "cell_type": "code",
      "metadata": {
        "colab": {
          "base_uri": "https://localhost:8080/"
        },
        "id": "5D2Xp4G1CD2h",
        "outputId": "7533f64d-d87b-48c5-eade-23405be58494"
      },
      "source": [
        "len(train_images),len(train_text),len(trainY),len(test_images),len(test_text),len(testY)"
      ],
      "execution_count": null,
      "outputs": [
        {
          "output_type": "execute_result",
          "data": {
            "text/plain": [
              "(7481, 7481, 7481, 1930, 1930, 1930)"
            ]
          },
          "metadata": {
            "tags": []
          },
          "execution_count": 28
        }
      ]
    },
    {
      "cell_type": "code",
      "metadata": {
        "colab": {
          "base_uri": "https://localhost:8080/",
          "height": 66,
          "referenced_widgets": [
            "15ffc71e56d94e75b49eb42ddc6f3bbd",
            "febfeb37f71c46f2afbfae9f6621b531",
            "02cd2498628643e985d2a1d708a51c0d",
            "1a911b3982784874864b2eb33b8b1ce5",
            "51c0a73c2aee48df9ad4b336e38c83af",
            "f0ef1cca61444f559f3d9b08fe350e39",
            "165f10e16fc346e89a56f624e8606b69",
            "e0045bce818745abadbfdc56df68a1cd"
          ]
        },
        "id": "FYqh0-vMIJbl",
        "outputId": "88fccf0f-731e-4b2c-f22f-a67317ff657f"
      },
      "source": [
        "tokenizer = BertTokenizer.from_pretrained('bert-base-chinese', do_lower_case=True)"
      ],
      "execution_count": null,
      "outputs": [
        {
          "output_type": "display_data",
          "data": {
            "application/vnd.jupyter.widget-view+json": {
              "model_id": "15ffc71e56d94e75b49eb42ddc6f3bbd",
              "version_minor": 0,
              "version_major": 2
            },
            "text/plain": [
              "HBox(children=(FloatProgress(value=0.0, description='Downloading', max=109540.0, style=ProgressStyle(descripti…"
            ]
          },
          "metadata": {
            "tags": []
          }
        },
        {
          "output_type": "stream",
          "text": [
            "\n"
          ],
          "name": "stdout"
        }
      ]
    },
    {
      "cell_type": "code",
      "metadata": {
        "colab": {
          "base_uri": "https://localhost:8080/"
        },
        "id": "FV0OCDseN2-F",
        "outputId": "485d6bfa-7b0f-458e-e727-b532953b6d9f"
      },
      "source": [
        "# r = 0\n",
        "# f = 0\n",
        "# for x in train_df['label'] :\n",
        "#   if(x=='real') :\n",
        "#     r+=1\n",
        "#   else :\n",
        "#     f+=1\n",
        "\n",
        "# print(r)\n",
        "# print(f)"
      ],
      "execution_count": null,
      "outputs": [
        {
          "output_type": "stream",
          "text": [
            "6225\n",
            "9404\n"
          ],
          "name": "stdout"
        }
      ]
    },
    {
      "cell_type": "code",
      "metadata": {
        "id": "Ywijz88SM3aT"
      },
      "source": [
        "# x_train = train_df['post_text']\n",
        "# x_test = test_df['post_text']\n",
        "# y_train = train_df['label'].eq('real').astype(int)\n",
        "# y_test = test_df['label'].eq('real').astype(int)"
      ],
      "execution_count": null,
      "outputs": []
    },
    {
      "cell_type": "code",
      "metadata": {
        "id": "MVYlnuFZIi68"
      },
      "source": [
        "def get_token_ids(x_train, x_test):\n",
        "    \n",
        "    token_tr = []\n",
        "    token_tst = []\n",
        "    count = 0\n",
        "    for sent in x_train :\n",
        "        tokens = tokenizer.encode(sent, add_special_tokens = True, max_length=512)\n",
        "        token_tr.append(tokens)\n",
        "        count+=1\n",
        "        if(count%1000==0):\n",
        "            print(count)\n",
        "    \n",
        "    for sent1 in x_test :\n",
        "        tokens1 = tokenizer.encode(sent1, add_special_tokens = True, max_length=512)\n",
        "        token_tst.append(tokens1)\n",
        "        count+=1\n",
        "        if(count%1000==0):\n",
        "            print(count)\n",
        "            \n",
        "    return token_tr, token_tst "
      ],
      "execution_count": null,
      "outputs": []
    },
    {
      "cell_type": "code",
      "metadata": {
        "colab": {
          "base_uri": "https://localhost:8080/"
        },
        "id": "hUSgvPHsIYly",
        "outputId": "9c92c756-3813-4b04-b815-592b78d1eb7f"
      },
      "source": [
        "xtr_token, xtst_token = get_token_ids(train_text, test_text)"
      ],
      "execution_count": null,
      "outputs": [
        {
          "output_type": "stream",
          "text": [
            "Truncation was not explicitly activated but `max_length` is provided a specific value, please use `truncation=True` to explicitly truncate examples to max length. Defaulting to 'longest_first' truncation strategy. If you encode pairs of sequences (GLUE-style) with the tokenizer you can select this strategy more precisely by providing a specific strategy to `truncation`.\n"
          ],
          "name": "stderr"
        },
        {
          "output_type": "stream",
          "text": [
            "1000\n",
            "2000\n",
            "3000\n",
            "4000\n",
            "5000\n",
            "6000\n",
            "7000\n",
            "8000\n",
            "9000\n"
          ],
          "name": "stdout"
        }
      ]
    },
    {
      "cell_type": "code",
      "metadata": {
        "id": "kxiWTl7tIbY_"
      },
      "source": [
        "xtr_token = pad_sequences(xtr_token, maxlen=512, dtype=\"long\", \n",
        "                          value=0, truncating=\"post\", padding=\"post\")\n",
        "xtst_token = pad_sequences(xtst_token, maxlen=512, dtype=\"long\", \n",
        "                          value=0, truncating=\"post\", padding=\"post\")"
      ],
      "execution_count": null,
      "outputs": []
    },
    {
      "cell_type": "code",
      "metadata": {
        "id": "9aHomHaRIcVN"
      },
      "source": [
        "attention_mask_tr = []\n",
        "attention_mask_tst = []\n",
        "for sent in xtr_token:\n",
        "    att_mask = [int(token_id > 0) for token_id in sent]\n",
        "    attention_mask_tr.append(att_mask)\n",
        "\n",
        "for sent in xtst_token:\n",
        "    att_mask = [int(token_id > 0) for token_id in sent]\n",
        "    attention_mask_tst.append(att_mask)"
      ],
      "execution_count": null,
      "outputs": []
    },
    {
      "cell_type": "code",
      "metadata": {
        "id": "dRy6BroQIOD3"
      },
      "source": [
        "train_input = torch.tensor(xtr_token)\n",
        "test_input = torch.tensor(xtst_token)\n",
        "\n",
        "train_label = torch.tensor(trainY)\n",
        "test_label = torch.tensor(testY)\n",
        "\n",
        "train_mask = torch.tensor(attention_mask_tr)\n",
        "test_mask = torch.tensor(attention_mask_tst)"
      ],
      "execution_count": null,
      "outputs": []
    },
    {
      "cell_type": "code",
      "metadata": {
        "id": "MZgp_Z4-KaDY"
      },
      "source": [
        "from torch.utils.data import TensorDataset, DataLoader, RandomSampler, SequentialSampler\n",
        "batch_size = 64\n",
        "\n",
        "train_data = TensorDataset(train_input, train_mask, train_label)\n",
        "train_sampler = RandomSampler(train_data)\n",
        "train_dataloader = DataLoader(train_data, sampler=train_sampler, batch_size=batch_size)"
      ],
      "execution_count": null,
      "outputs": []
    },
    {
      "cell_type": "code",
      "metadata": {
        "id": "4Xjrprf8KfLE"
      },
      "source": [
        "# Create the DataLoader for our validation set.\n",
        "test_data = TensorDataset(test_input, test_mask, test_label)\n",
        "test_sampler = SequentialSampler(test_data)\n",
        "test_dataloader = DataLoader(test_data, sampler=test_sampler, batch_size=batch_size)"
      ],
      "execution_count": null,
      "outputs": []
    },
    {
      "cell_type": "code",
      "metadata": {
        "id": "pAO15QEyKin9"
      },
      "source": [
        "def freeze_layers(model):\n",
        "    for child in model.children():\n",
        "        for param in child.parameters():\n",
        "            param.requires_grad = False"
      ],
      "execution_count": null,
      "outputs": []
    },
    {
      "cell_type": "code",
      "metadata": {
        "id": "sgTj1A56EYgm"
      },
      "source": [
        "class BertMapping(nn.Module):\n",
        "    \"\"\"\n",
        "    \"\"\"\n",
        "    def __init__(self):\n",
        "        super(BertMapping, self).__init__()\n",
        "        # bert_config = BertConfig.from_json_file(opt.bert_config_file)\n",
        "        bert_config = BertConfig.from_pretrained('bert-base-chinese')\n",
        "        self.bert = BertModel(bert_config)\n",
        "        # self.bert.load_state_dict(torch.load(opt.init_checkpoint, map_location='cpu'))\n",
        "        freeze_layers(self.bert)\n",
        "        final_dims = 256\n",
        "        # self.txt_stru = opt.txt_stru\n",
        "\n",
        "        # if opt.txt_stru == 'pooling':\n",
        "        #     self.dropout = nn.Dropout(bert_config.hidden_dropout_prob)\n",
        "        #     self.mapping = nn.Linear(bert_config.hidden_size, opt.final_dims)\n",
        "        # elif opt.txt_stru == 'cnn':\n",
        "        Ks = [1, 2, 3]\n",
        "        in_channel = 1\n",
        "        out_channel = 512\n",
        "        embedding_dim = bert_config.hidden_size\n",
        "        self.convs1 = nn.ModuleList([nn.Conv2d(in_channel, out_channel, (K, embedding_dim)) for K in Ks])\n",
        "        self.dropout = nn.Dropout(bert_config.hidden_dropout_prob)\n",
        "        self.mapping = nn.Linear(len(Ks)*out_channel, final_dims)\n",
        "        self.cls_layer = nn.Linear(final_dims, 1)\n",
        "        # elif opt.txt_stru == 'rnn':\n",
        "        #     embedding_dim = bert_config.hidden_size\n",
        "        #     self.bi_gru = opt.bi_gru\n",
        "        #     self.rnn = nn.GRU(embedding_dim, opt.embed_size, opt.num_layers, batch_first=True, bidirectional=opt.bi_gru)\n",
        "        #     self.dropout = nn.Dropout(bert_config.hidden_dropout_prob)\n",
        "        #     self.mapping = nn.Linear(opt.embed_size, opt.final_dims)\n",
        "        # elif opt.txt_stru == 'trans':\n",
        "        #     bert_config = BertConfig.from_json_file(opt.img_trans_cfg)\n",
        "        #     self.layer = bert.BERTLayer(bert_config)\n",
        "        #     self.dropout = nn.Dropout(bert_config.hidden_dropout_prob)\n",
        "        #     self.mapping = nn.Linear(768, opt.final_dims)\n",
        "\n",
        "    def forward(self, input_ids, attention_mask):\n",
        "        outputs = self.bert(input_ids,attention_mask=attention_mask, return_dict=True)\n",
        "        # if self.txt_stru == 'pooling':\n",
        "        #     output = self.mapping(all_encoder_layers[-1])\n",
        "        #     output = torch.mean(output, 1)\n",
        "        #     code = output\n",
        "        # elif self.txt_stru == 'cnn':\n",
        "        x = outputs.last_hidden_state.unsqueeze(1)  # (batch_size, 1, token_num, embedding_dim)\n",
        "        x = [F.relu(conv(x)).squeeze(3) for conv in self.convs1]  # [(batch_size, out_channel, W), ...]*len(Ks)\n",
        "        x = [F.max_pool1d(i, i.size(2)).squeeze(2) for i in x]  # [(N, Co), ...]*len(Ks)\n",
        "        output = torch.cat(x, 1)\n",
        "        # elif self.txt_stru == 'rnn':\n",
        "        #     x = all_encoder_layers[-1]  # (batch_size, token_num, embedding_dim)\n",
        "        #     packed = pack_padded_sequence(x, lengths, batch_first=True)\n",
        "        #     # Forward propagate RNN\n",
        "        #     out, _ = self.rnn(packed)\n",
        "        #     # Reshape *final* output to (batch_size, hidden_size)\n",
        "        #     padded = pad_packed_sequence(out, batch_first=True)\n",
        "        #     cap_emb, cap_len = padded\n",
        "        #     if self.bi_gru:\n",
        "        #         cap_emb = (cap_emb[:, :, :cap_emb.size(2) / 2] + cap_emb[:, :, cap_emb.size(2) / 2:]) / 2\n",
        "        #     else:\n",
        "        #         cap_emb = cap_emb\n",
        "        #     output = torch.mean(cap_emb, 1)\n",
        "        # elif self.txt_stru == 'trans':\n",
        "\n",
        "        #     hidden_states = self.mapping(all_encoder_layers[-1])\n",
        "        #     extended_attention_mask = attention_mask.unsqueeze(1).unsqueeze(2)\n",
        "        #     extended_attention_mask = extended_attention_mask.float()\n",
        "        #     extended_attention_mask = (1.0 - extended_attention_mask) * -10000.0\n",
        "        #     hidden_states = self.layer(hidden_states, extended_attention_mask)\n",
        "        #     # output = hidden_states[:, 0, :]\n",
        "        #     output = torch.mean(hidden_states, 1)\n",
        "\n",
        "        output = self.dropout(output)\n",
        "        code = self.mapping(output)\n",
        "        # code = F.tanh(code)\n",
        "        code = F.normalize(code, p=2, dim=1)\n",
        "        code = self.cls_layer(code)\n",
        "        return code"
      ],
      "execution_count": null,
      "outputs": []
    },
    {
      "cell_type": "code",
      "metadata": {
        "id": "7MPEjydwT8oC"
      },
      "source": [
        "def get_accuracy_from_logits(logits, labels):\n",
        "    probs = torch.sigmoid(logits.unsqueeze(-1))\n",
        "    soft_probs = (probs > 0.5).long()\n",
        "    acc = (soft_probs.squeeze() == labels).float().mean()\n",
        "    return acc"
      ],
      "execution_count": null,
      "outputs": []
    },
    {
      "cell_type": "code",
      "metadata": {
        "id": "byKTE9H5qNNl"
      },
      "source": [
        "def get_labels_from_logits(logits) :\n",
        "  probs = torch.sigmoid(logits.unsqueeze(-1))\n",
        "  soft_probs = (probs > 0.5).long()\n",
        "  labels = soft_probs.squeeze()\n",
        "  return labels"
      ],
      "execution_count": null,
      "outputs": []
    },
    {
      "cell_type": "code",
      "metadata": {
        "id": "Z0G-lGsWqN-Y"
      },
      "source": [
        "from sklearn.metrics import classification_report\n",
        "\n",
        "def eval_model(model, val_loader, criterion) :\n",
        "  model.eval()\n",
        "  loss_val = 0\n",
        "  final_out = []\n",
        "  final_lab = []\n",
        "\n",
        "  for idx, (val_input, val_mask,val_label) in enumerate(val_loader):\n",
        "      val_input = val_input.cuda()\n",
        "      val_mask = val_mask.cuda()\n",
        "      val_label = val_label.cuda()\n",
        "      output = model(val_input, val_mask)\n",
        "      loss = criterion(output.squeeze(-1), val_label.float().squeeze(-1))\n",
        "      loss_val+= loss.data\n",
        "      output = get_labels_from_logits(output)\n",
        "      output = output.cpu().detach().numpy()\n",
        "      val_label = val_label.cpu().detach().numpy()\n",
        "\n",
        "      final_out.extend(list(output))\n",
        "      final_lab.extend(list(val_label))\n",
        "\n",
        "      del val_input\n",
        "      del val_label\n",
        "      del val_mask\n",
        "      del output\n",
        "      torch.cuda.empty_cache()\n",
        "\n",
        "        \n",
        "  return classification_report(final_lab, final_out), loss_val"
      ],
      "execution_count": null,
      "outputs": []
    },
    {
      "cell_type": "code",
      "metadata": {
        "id": "qv0Jc_vlH9He"
      },
      "source": [
        "def train(net, criterion, opti, train_loader, num_epochs, val_loader):\n",
        "  loss_train = []\n",
        "  loss_test = []\n",
        "  for epoch in range(num_epochs):\n",
        "    loss_val = 0\n",
        "    for it, (seq, attn_masks, labels) in enumerate(train_loader):\n",
        "        #Clear gradients\n",
        "        opti.zero_grad()  \n",
        "        #Converting these to cuda tensors\n",
        "        seq, attn_masks, labels = seq.cuda(), attn_masks.cuda(), labels.cuda()\n",
        "\n",
        "        #Obtaining the logits from the model\n",
        "        logits = net(seq, attn_masks)\n",
        "\n",
        "        #Computing loss\n",
        "        loss = criterion(logits.squeeze(-1), labels.float())\n",
        "        loss_val += loss.data\n",
        "\n",
        "        #Backpropagating the gradients\n",
        "        loss.backward()\n",
        "\n",
        "        #Optimization step\n",
        "        opti.step()\n",
        "\n",
        "        if (it + 1) % 20 == 0:\n",
        "            acc = get_accuracy_from_logits(logits, labels)\n",
        "            print(\"Iteration {} of epoch {} complete. Loss : {} Accuracy : {}\".format(it+1, epoch+1, loss.item(), acc))\n",
        "\n",
        "        del seq\n",
        "        del attn_masks\n",
        "        del labels\n",
        "        del logits\n",
        "        del loss\n",
        "        torch.cuda.empty_cache()\n",
        "\n",
        "    print('Epoch [{}/{}], Loss:{:.4f}'.format(epoch+1, num_epochs, loss_val))\n",
        "    loss_train.append(loss_val)\n",
        "    if((epoch+1)%1==0) :\n",
        "      report, loss_t = eval_model(net, val_loader, criterion)\n",
        "      loss_test.append(loss_t)\n",
        "      print(\"loss_test\", loss_t)\n",
        "      print(\"classification_report\")\n",
        "      print(report)\n",
        "    print(\"--------------------------------------------------------------\")\n",
        "  return loss_train, loss_test"
      ],
      "execution_count": null,
      "outputs": []
    },
    {
      "cell_type": "code",
      "metadata": {
        "id": "N92MQb-BQVYD",
        "colab": {
          "base_uri": "https://localhost:8080/",
          "height": 66,
          "referenced_widgets": [
            "13bd2bb9cfc24776946d0b16e9859b3e",
            "8434c4f2a6994dfd98be95791dd06d6a",
            "022c4c17ade94b4d82ea53678dc01826",
            "9ff761c7837348a4850de42d238ea754",
            "bf0cf3d7a97f4c86bf838b2a5640630d",
            "b56202d7757840b388a784b0e630c6d0",
            "f94727f6d88d4b02bcd39ff27bbe53b6",
            "e0dc7b6627cc4858ac05ffcbebc739c7"
          ]
        },
        "outputId": "65484c44-82fa-4dd8-d10d-15f5805dc314"
      },
      "source": [
        "net = BertMapping().to(device)\n",
        "criterion = nn.BCEWithLogitsLoss()\n",
        "opti = optim.Adam(net.parameters(), lr = 1e-3)"
      ],
      "execution_count": null,
      "outputs": [
        {
          "output_type": "display_data",
          "data": {
            "application/vnd.jupyter.widget-view+json": {
              "model_id": "13bd2bb9cfc24776946d0b16e9859b3e",
              "version_minor": 0,
              "version_major": 2
            },
            "text/plain": [
              "HBox(children=(FloatProgress(value=0.0, description='Downloading', max=624.0, style=ProgressStyle(description_…"
            ]
          },
          "metadata": {
            "tags": []
          }
        },
        {
          "output_type": "stream",
          "text": [
            "\n"
          ],
          "name": "stdout"
        }
      ]
    },
    {
      "cell_type": "code",
      "metadata": {
        "colab": {
          "base_uri": "https://localhost:8080/"
        },
        "id": "mmguZTojQdd7",
        "outputId": "da39dec1-108c-4aa7-d270-ea3d03cdc8d6"
      },
      "source": [
        "loss_train, loss_test = train(net, criterion, opti, train_dataloader, 20, test_dataloader)"
      ],
      "execution_count": null,
      "outputs": [
        {
          "output_type": "stream",
          "text": [
            "Iteration 20 of epoch 1 complete. Loss : 0.7104911804199219 Accuracy : 0.421875\n",
            "Iteration 40 of epoch 1 complete. Loss : 0.6933715343475342 Accuracy : 0.5\n",
            "Iteration 60 of epoch 1 complete. Loss : 0.6911643743515015 Accuracy : 0.546875\n",
            "Iteration 80 of epoch 1 complete. Loss : 0.6892325282096863 Accuracy : 0.859375\n",
            "Iteration 100 of epoch 1 complete. Loss : 0.6370540261268616 Accuracy : 0.796875\n",
            "Epoch [1/20], Loss:78.8721\n",
            "loss_test tensor(18.5252, device='cuda:0')\n",
            "classification_report\n",
            "              precision    recall  f1-score   support\n",
            "\n",
            "           0       0.69      0.73      0.71       934\n",
            "           1       0.73      0.69      0.71       996\n",
            "\n",
            "    accuracy                           0.71      1930\n",
            "   macro avg       0.71      0.71      0.71      1930\n",
            "weighted avg       0.71      0.71      0.71      1930\n",
            "\n",
            "--------------------------------------------------------------\n",
            "Iteration 20 of epoch 2 complete. Loss : 0.4600890278816223 Accuracy : 0.828125\n",
            "Iteration 40 of epoch 2 complete. Loss : 0.5069261789321899 Accuracy : 0.796875\n",
            "Iteration 60 of epoch 2 complete. Loss : 0.5343953371047974 Accuracy : 0.765625\n",
            "Iteration 80 of epoch 2 complete. Loss : 0.3157872259616852 Accuracy : 0.9375\n",
            "Iteration 100 of epoch 2 complete. Loss : 0.43837741017341614 Accuracy : 0.828125\n",
            "Epoch [2/20], Loss:53.6572\n",
            "loss_test tensor(17.0023, device='cuda:0')\n",
            "classification_report\n",
            "              precision    recall  f1-score   support\n",
            "\n",
            "           0       0.75      0.69      0.72       934\n",
            "           1       0.73      0.78      0.76       996\n",
            "\n",
            "    accuracy                           0.74      1930\n",
            "   macro avg       0.74      0.74      0.74      1930\n",
            "weighted avg       0.74      0.74      0.74      1930\n",
            "\n",
            "--------------------------------------------------------------\n",
            "Iteration 20 of epoch 3 complete. Loss : 0.48465463519096375 Accuracy : 0.796875\n",
            "Iteration 40 of epoch 3 complete. Loss : 0.30970561504364014 Accuracy : 0.890625\n",
            "Iteration 60 of epoch 3 complete. Loss : 0.39655476808547974 Accuracy : 0.84375\n",
            "Iteration 80 of epoch 3 complete. Loss : 0.3750324547290802 Accuracy : 0.859375\n",
            "Iteration 100 of epoch 3 complete. Loss : 0.5448544025421143 Accuracy : 0.71875\n",
            "Epoch [3/20], Loss:44.0632\n",
            "loss_test tensor(16.7415, device='cuda:0')\n",
            "classification_report\n",
            "              precision    recall  f1-score   support\n",
            "\n",
            "           0       0.86      0.53      0.66       934\n",
            "           1       0.68      0.92      0.78       996\n",
            "\n",
            "    accuracy                           0.73      1930\n",
            "   macro avg       0.77      0.73      0.72      1930\n",
            "weighted avg       0.77      0.73      0.72      1930\n",
            "\n",
            "--------------------------------------------------------------\n",
            "Iteration 20 of epoch 4 complete. Loss : 0.2374567985534668 Accuracy : 0.921875\n",
            "Iteration 40 of epoch 4 complete. Loss : 0.3811371326446533 Accuracy : 0.796875\n",
            "Iteration 60 of epoch 4 complete. Loss : 0.3378342092037201 Accuracy : 0.84375\n",
            "Iteration 80 of epoch 4 complete. Loss : 0.3059077262878418 Accuracy : 0.890625\n",
            "Iteration 100 of epoch 4 complete. Loss : 0.38220304250717163 Accuracy : 0.8125\n",
            "Epoch [4/20], Loss:37.9426\n",
            "loss_test tensor(15.0774, device='cuda:0')\n",
            "classification_report\n",
            "              precision    recall  f1-score   support\n",
            "\n",
            "           0       0.81      0.71      0.76       934\n",
            "           1       0.76      0.84      0.80       996\n",
            "\n",
            "    accuracy                           0.78      1930\n",
            "   macro avg       0.78      0.78      0.78      1930\n",
            "weighted avg       0.78      0.78      0.78      1930\n",
            "\n",
            "--------------------------------------------------------------\n",
            "Iteration 20 of epoch 5 complete. Loss : 0.20710694789886475 Accuracy : 0.921875\n",
            "Iteration 40 of epoch 5 complete. Loss : 0.3209696114063263 Accuracy : 0.890625\n",
            "Iteration 60 of epoch 5 complete. Loss : 0.2128608375787735 Accuracy : 0.90625\n",
            "Iteration 80 of epoch 5 complete. Loss : 0.2512917220592499 Accuracy : 0.890625\n",
            "Iteration 100 of epoch 5 complete. Loss : 0.30244821310043335 Accuracy : 0.890625\n",
            "Epoch [5/20], Loss:32.6438\n",
            "loss_test tensor(15.2800, device='cuda:0')\n",
            "classification_report\n",
            "              precision    recall  f1-score   support\n",
            "\n",
            "           0       0.86      0.60      0.71       934\n",
            "           1       0.71      0.91      0.80       996\n",
            "\n",
            "    accuracy                           0.76      1930\n",
            "   macro avg       0.79      0.76      0.75      1930\n",
            "weighted avg       0.78      0.76      0.75      1930\n",
            "\n",
            "--------------------------------------------------------------\n",
            "Iteration 20 of epoch 6 complete. Loss : 0.2361603081226349 Accuracy : 0.90625\n",
            "Iteration 40 of epoch 6 complete. Loss : 0.14981038868427277 Accuracy : 0.953125\n",
            "Iteration 60 of epoch 6 complete. Loss : 0.21981719136238098 Accuracy : 0.90625\n",
            "Iteration 80 of epoch 6 complete. Loss : 0.18289333581924438 Accuracy : 0.921875\n",
            "Iteration 100 of epoch 6 complete. Loss : 0.37336692214012146 Accuracy : 0.828125\n",
            "Epoch [6/20], Loss:28.8912\n",
            "loss_test tensor(13.4626, device='cuda:0')\n",
            "classification_report\n",
            "              precision    recall  f1-score   support\n",
            "\n",
            "           0       0.80      0.77      0.78       934\n",
            "           1       0.79      0.82      0.81       996\n",
            "\n",
            "    accuracy                           0.79      1930\n",
            "   macro avg       0.80      0.79      0.79      1930\n",
            "weighted avg       0.80      0.79      0.79      1930\n",
            "\n",
            "--------------------------------------------------------------\n",
            "Iteration 20 of epoch 7 complete. Loss : 0.15128134191036224 Accuracy : 0.9375\n",
            "Iteration 40 of epoch 7 complete. Loss : 0.2966209948062897 Accuracy : 0.859375\n",
            "Iteration 60 of epoch 7 complete. Loss : 0.115674689412117 Accuracy : 0.953125\n",
            "Iteration 80 of epoch 7 complete. Loss : 0.2977743446826935 Accuracy : 0.875\n",
            "Iteration 100 of epoch 7 complete. Loss : 0.1668492555618286 Accuracy : 0.953125\n",
            "Epoch [7/20], Loss:23.2378\n",
            "loss_test tensor(17.1918, device='cuda:0')\n",
            "classification_report\n",
            "              precision    recall  f1-score   support\n",
            "\n",
            "           0       0.87      0.63      0.73       934\n",
            "           1       0.72      0.91      0.81       996\n",
            "\n",
            "    accuracy                           0.78      1930\n",
            "   macro avg       0.80      0.77      0.77      1930\n",
            "weighted avg       0.80      0.78      0.77      1930\n",
            "\n",
            "--------------------------------------------------------------\n",
            "Iteration 20 of epoch 8 complete. Loss : 0.20040194690227509 Accuracy : 0.921875\n",
            "Iteration 40 of epoch 8 complete. Loss : 0.27308937907218933 Accuracy : 0.921875\n",
            "Iteration 60 of epoch 8 complete. Loss : 0.2517935633659363 Accuracy : 0.890625\n",
            "Iteration 80 of epoch 8 complete. Loss : 0.15715467929840088 Accuracy : 0.921875\n",
            "Iteration 100 of epoch 8 complete. Loss : 0.17536231875419617 Accuracy : 0.9375\n",
            "Epoch [8/20], Loss:18.8029\n",
            "loss_test tensor(19.3358, device='cuda:0')\n",
            "classification_report\n",
            "              precision    recall  f1-score   support\n",
            "\n",
            "           0       0.87      0.60      0.71       934\n",
            "           1       0.71      0.92      0.80       996\n",
            "\n",
            "    accuracy                           0.76      1930\n",
            "   macro avg       0.79      0.76      0.75      1930\n",
            "weighted avg       0.79      0.76      0.76      1930\n",
            "\n",
            "--------------------------------------------------------------\n",
            "Iteration 20 of epoch 9 complete. Loss : 0.22208993136882782 Accuracy : 0.9375\n",
            "Iteration 40 of epoch 9 complete. Loss : 0.15323571860790253 Accuracy : 0.96875\n",
            "Iteration 60 of epoch 9 complete. Loss : 0.11542993783950806 Accuracy : 0.953125\n",
            "Iteration 80 of epoch 9 complete. Loss : 0.13906139135360718 Accuracy : 0.96875\n",
            "Iteration 100 of epoch 9 complete. Loss : 0.13773515820503235 Accuracy : 0.9375\n",
            "Epoch [9/20], Loss:16.9652\n",
            "loss_test tensor(18.3293, device='cuda:0')\n",
            "classification_report\n",
            "              precision    recall  f1-score   support\n",
            "\n",
            "           0       0.89      0.56      0.69       934\n",
            "           1       0.69      0.94      0.80       996\n",
            "\n",
            "    accuracy                           0.75      1930\n",
            "   macro avg       0.79      0.75      0.74      1930\n",
            "weighted avg       0.79      0.75      0.74      1930\n",
            "\n",
            "--------------------------------------------------------------\n",
            "Iteration 20 of epoch 10 complete. Loss : 0.13923734426498413 Accuracy : 0.953125\n",
            "Iteration 40 of epoch 10 complete. Loss : 0.1048118993639946 Accuracy : 0.96875\n",
            "Iteration 60 of epoch 10 complete. Loss : 0.1370398849248886 Accuracy : 0.96875\n",
            "Iteration 80 of epoch 10 complete. Loss : 0.15678620338439941 Accuracy : 0.953125\n",
            "Iteration 100 of epoch 10 complete. Loss : 0.09396293759346008 Accuracy : 0.96875\n",
            "Epoch [10/20], Loss:12.5338\n",
            "loss_test tensor(21.4245, device='cuda:0')\n",
            "classification_report\n",
            "              precision    recall  f1-score   support\n",
            "\n",
            "           0       0.84      0.68      0.75       934\n",
            "           1       0.75      0.88      0.81       996\n",
            "\n",
            "    accuracy                           0.78      1930\n",
            "   macro avg       0.79      0.78      0.78      1930\n",
            "weighted avg       0.79      0.78      0.78      1930\n",
            "\n",
            "--------------------------------------------------------------\n",
            "Iteration 20 of epoch 11 complete. Loss : 0.045311011373996735 Accuracy : 1.0\n",
            "Iteration 40 of epoch 11 complete. Loss : 0.14415770769119263 Accuracy : 0.953125\n",
            "Iteration 60 of epoch 11 complete. Loss : 0.08973011374473572 Accuracy : 0.984375\n",
            "Iteration 80 of epoch 11 complete. Loss : 0.1410103142261505 Accuracy : 0.96875\n",
            "Iteration 100 of epoch 11 complete. Loss : 0.21574705839157104 Accuracy : 0.921875\n",
            "Epoch [11/20], Loss:11.4732\n",
            "loss_test tensor(22.9339, device='cuda:0')\n",
            "classification_report\n",
            "              precision    recall  f1-score   support\n",
            "\n",
            "           0       0.87      0.60      0.71       934\n",
            "           1       0.71      0.92      0.80       996\n",
            "\n",
            "    accuracy                           0.76      1930\n",
            "   macro avg       0.79      0.76      0.76      1930\n",
            "weighted avg       0.79      0.76      0.76      1930\n",
            "\n",
            "--------------------------------------------------------------\n",
            "Iteration 20 of epoch 12 complete. Loss : 0.018602101132273674 Accuracy : 1.0\n",
            "Iteration 40 of epoch 12 complete. Loss : 0.09159088879823685 Accuracy : 0.984375\n",
            "Iteration 60 of epoch 12 complete. Loss : 0.05870535969734192 Accuracy : 0.984375\n",
            "Iteration 80 of epoch 12 complete. Loss : 0.08478052914142609 Accuracy : 0.984375\n",
            "Iteration 100 of epoch 12 complete. Loss : 0.08447398245334625 Accuracy : 0.984375\n",
            "Epoch [12/20], Loss:8.9542\n",
            "loss_test tensor(21.5255, device='cuda:0')\n",
            "classification_report\n",
            "              precision    recall  f1-score   support\n",
            "\n",
            "           0       0.79      0.74      0.76       934\n",
            "           1       0.77      0.81      0.79       996\n",
            "\n",
            "    accuracy                           0.78      1930\n",
            "   macro avg       0.78      0.78      0.78      1930\n",
            "weighted avg       0.78      0.78      0.78      1930\n",
            "\n",
            "--------------------------------------------------------------\n",
            "Iteration 20 of epoch 13 complete. Loss : 0.01451028510928154 Accuracy : 1.0\n",
            "Iteration 40 of epoch 13 complete. Loss : 0.06731779128313065 Accuracy : 0.984375\n",
            "Iteration 60 of epoch 13 complete. Loss : 0.01743878424167633 Accuracy : 1.0\n",
            "Iteration 80 of epoch 13 complete. Loss : 0.025036150589585304 Accuracy : 0.984375\n",
            "Iteration 100 of epoch 13 complete. Loss : 0.12574845552444458 Accuracy : 0.96875\n",
            "Epoch [13/20], Loss:7.5149\n",
            "loss_test tensor(23.1128, device='cuda:0')\n",
            "classification_report\n",
            "              precision    recall  f1-score   support\n",
            "\n",
            "           0       0.74      0.79      0.76       934\n",
            "           1       0.79      0.73      0.76       996\n",
            "\n",
            "    accuracy                           0.76      1930\n",
            "   macro avg       0.76      0.76      0.76      1930\n",
            "weighted avg       0.76      0.76      0.76      1930\n",
            "\n",
            "--------------------------------------------------------------\n",
            "Iteration 20 of epoch 14 complete. Loss : 0.018961995840072632 Accuracy : 1.0\n",
            "Iteration 40 of epoch 14 complete. Loss : 0.04105037450790405 Accuracy : 0.984375\n",
            "Iteration 60 of epoch 14 complete. Loss : 0.030513498932123184 Accuracy : 1.0\n",
            "Iteration 80 of epoch 14 complete. Loss : 0.0473458394408226 Accuracy : 0.984375\n",
            "Iteration 100 of epoch 14 complete. Loss : 0.028709936887025833 Accuracy : 0.984375\n",
            "Epoch [14/20], Loss:7.9602\n",
            "loss_test tensor(24.4797, device='cuda:0')\n",
            "classification_report\n",
            "              precision    recall  f1-score   support\n",
            "\n",
            "           0       0.80      0.73      0.77       934\n",
            "           1       0.77      0.83      0.80       996\n",
            "\n",
            "    accuracy                           0.78      1930\n",
            "   macro avg       0.78      0.78      0.78      1930\n",
            "weighted avg       0.78      0.78      0.78      1930\n",
            "\n",
            "--------------------------------------------------------------\n",
            "Iteration 20 of epoch 15 complete. Loss : 0.01852593757212162 Accuracy : 0.984375\n",
            "Iteration 40 of epoch 15 complete. Loss : 0.06230165809392929 Accuracy : 0.984375\n",
            "Iteration 60 of epoch 15 complete. Loss : 0.06015568971633911 Accuracy : 0.96875\n",
            "Iteration 80 of epoch 15 complete. Loss : 0.18365272879600525 Accuracy : 0.921875\n",
            "Iteration 100 of epoch 15 complete. Loss : 0.2107122391462326 Accuracy : 0.90625\n",
            "Epoch [15/20], Loss:8.8657\n",
            "loss_test tensor(21.1302, device='cuda:0')\n",
            "classification_report\n",
            "              precision    recall  f1-score   support\n",
            "\n",
            "           0       0.76      0.80      0.78       934\n",
            "           1       0.80      0.76      0.78       996\n",
            "\n",
            "    accuracy                           0.78      1930\n",
            "   macro avg       0.78      0.78      0.78      1930\n",
            "weighted avg       0.78      0.78      0.78      1930\n",
            "\n",
            "--------------------------------------------------------------\n",
            "Iteration 20 of epoch 16 complete. Loss : 0.021738816052675247 Accuracy : 1.0\n",
            "Iteration 40 of epoch 16 complete. Loss : 0.05647427216172218 Accuracy : 0.984375\n",
            "Iteration 60 of epoch 16 complete. Loss : 0.018393734470009804 Accuracy : 1.0\n",
            "Iteration 80 of epoch 16 complete. Loss : 0.04412887990474701 Accuracy : 0.984375\n",
            "Iteration 100 of epoch 16 complete. Loss : 0.018393050879240036 Accuracy : 1.0\n",
            "Epoch [16/20], Loss:6.9813\n",
            "loss_test tensor(23.4230, device='cuda:0')\n",
            "classification_report\n",
            "              precision    recall  f1-score   support\n",
            "\n",
            "           0       0.85      0.64      0.73       934\n",
            "           1       0.73      0.90      0.80       996\n",
            "\n",
            "    accuracy                           0.77      1930\n",
            "   macro avg       0.79      0.77      0.77      1930\n",
            "weighted avg       0.79      0.77      0.77      1930\n",
            "\n",
            "--------------------------------------------------------------\n",
            "Iteration 20 of epoch 17 complete. Loss : 0.016063008457422256 Accuracy : 1.0\n",
            "Iteration 40 of epoch 17 complete. Loss : 0.0055586108937859535 Accuracy : 1.0\n",
            "Iteration 60 of epoch 17 complete. Loss : 0.012726781889796257 Accuracy : 1.0\n",
            "Iteration 80 of epoch 17 complete. Loss : 0.09767670184373856 Accuracy : 0.984375\n",
            "Iteration 100 of epoch 17 complete. Loss : 0.01780662313103676 Accuracy : 1.0\n",
            "Epoch [17/20], Loss:5.0048\n",
            "loss_test tensor(24.5110, device='cuda:0')\n",
            "classification_report\n",
            "              precision    recall  f1-score   support\n",
            "\n",
            "           0       0.81      0.72      0.76       934\n",
            "           1       0.76      0.84      0.80       996\n",
            "\n",
            "    accuracy                           0.78      1930\n",
            "   macro avg       0.79      0.78      0.78      1930\n",
            "weighted avg       0.79      0.78      0.78      1930\n",
            "\n",
            "--------------------------------------------------------------\n",
            "Iteration 20 of epoch 18 complete. Loss : 0.08975327759981155 Accuracy : 0.984375\n",
            "Iteration 40 of epoch 18 complete. Loss : 0.06430467218160629 Accuracy : 0.984375\n",
            "Iteration 60 of epoch 18 complete. Loss : 0.005766006652265787 Accuracy : 1.0\n",
            "Iteration 80 of epoch 18 complete. Loss : 0.07739139348268509 Accuracy : 0.984375\n",
            "Iteration 100 of epoch 18 complete. Loss : 0.006410352885723114 Accuracy : 1.0\n",
            "Epoch [18/20], Loss:4.5076\n",
            "loss_test tensor(28.2265, device='cuda:0')\n",
            "classification_report\n",
            "              precision    recall  f1-score   support\n",
            "\n",
            "           0       0.76      0.78      0.77       934\n",
            "           1       0.79      0.77      0.78       996\n",
            "\n",
            "    accuracy                           0.78      1930\n",
            "   macro avg       0.78      0.78      0.78      1930\n",
            "weighted avg       0.78      0.78      0.78      1930\n",
            "\n",
            "--------------------------------------------------------------\n",
            "Iteration 20 of epoch 19 complete. Loss : 0.005913679953664541 Accuracy : 1.0\n",
            "Iteration 40 of epoch 19 complete. Loss : 0.005038112867623568 Accuracy : 1.0\n",
            "Iteration 60 of epoch 19 complete. Loss : 0.026213619858026505 Accuracy : 0.984375\n",
            "Iteration 80 of epoch 19 complete. Loss : 0.10392012447118759 Accuracy : 0.984375\n",
            "Iteration 100 of epoch 19 complete. Loss : 0.0924505889415741 Accuracy : 0.984375\n",
            "Epoch [19/20], Loss:4.2106\n",
            "loss_test tensor(26.0186, device='cuda:0')\n",
            "classification_report\n",
            "              precision    recall  f1-score   support\n",
            "\n",
            "           0       0.84      0.67      0.74       934\n",
            "           1       0.74      0.88      0.80       996\n",
            "\n",
            "    accuracy                           0.78      1930\n",
            "   macro avg       0.79      0.77      0.77      1930\n",
            "weighted avg       0.79      0.78      0.77      1930\n",
            "\n",
            "--------------------------------------------------------------\n",
            "Iteration 20 of epoch 20 complete. Loss : 0.0052130683325231075 Accuracy : 1.0\n",
            "Iteration 40 of epoch 20 complete. Loss : 0.004286929499357939 Accuracy : 1.0\n",
            "Iteration 60 of epoch 20 complete. Loss : 0.088028684258461 Accuracy : 0.984375\n",
            "Iteration 80 of epoch 20 complete. Loss : 0.0037184860557317734 Accuracy : 1.0\n",
            "Iteration 100 of epoch 20 complete. Loss : 0.005198248662054539 Accuracy : 1.0\n",
            "Epoch [20/20], Loss:2.6439\n",
            "loss_test tensor(29.2926, device='cuda:0')\n",
            "classification_report\n",
            "              precision    recall  f1-score   support\n",
            "\n",
            "           0       0.84      0.68      0.75       934\n",
            "           1       0.74      0.88      0.81       996\n",
            "\n",
            "    accuracy                           0.78      1930\n",
            "   macro avg       0.79      0.78      0.78      1930\n",
            "weighted avg       0.79      0.78      0.78      1930\n",
            "\n",
            "--------------------------------------------------------------\n"
          ],
          "name": "stdout"
        }
      ]
    },
    {
      "cell_type": "code",
      "metadata": {
        "id": "vCNYTArxQ74N",
        "colab": {
          "base_uri": "https://localhost:8080/",
          "height": 264
        },
        "outputId": "22f20494-04fc-42dc-ad28-75e9874a2563"
      },
      "source": [
        "import matplotlib.pyplot as plt\n",
        "plt.figure()\n",
        "plt.plot(loss_train, label=\"loss_train\")\n",
        "plt.plot(loss_test, label=\"loss_test\")\n",
        "plt.plot([5,5], [0, 80])\n",
        "plt.legend()\n",
        "plt.show()"
      ],
      "execution_count": null,
      "outputs": [
        {
          "output_type": "display_data",
          "data": {
            "image/png": "[encoded data removed]",
            "text/plain": [
              "<Figure size 432x288 with 1 Axes>"
            ]
          },
          "metadata": {
            "tags": [],
            "needs_background": "light"
          }
        }
      ]
    },
    {
      "cell_type": "code",
      "metadata": {
        "id": "-HkxYM_tpWlJ"
      },
      "source": [
        "fix_offset"
      ],
      "execution_count": null,
      "outputs": []
    },
    {
      "cell_type": "code",
      "metadata": {
        "id": "dCTJ-1hjxANJ"
      },
      "source": [
        "from sklearn.metrics import classification_report"
      ],
      "execution_count": null,
      "outputs": []
    },
    {
      "cell_type": "code",
      "metadata": {
        "colab": {
          "base_uri": "https://localhost:8080/"
        },
        "id": "_G70WgrSpd51",
        "outputId": "1888b8b9-b642-496e-cebc-0697dea3edca"
      },
      "source": [
        "print(\"classification_report\")\n",
        "print(eval_model(net, test_dataloader))\n",
        "print(\"--------------------------------------------------------------\")"
      ],
      "execution_count": null,
      "outputs": [
        {
          "output_type": "stream",
          "text": [
            "classification_report\n",
            "error\n",
            "              precision    recall  f1-score   support\n",
            "\n",
            "           0       0.56      0.90      0.69      1185\n",
            "           1       0.56      0.14      0.23       991\n",
            "\n",
            "    accuracy                           0.56      2176\n",
            "   macro avg       0.56      0.52      0.46      2176\n",
            "weighted avg       0.56      0.56      0.48      2176\n",
            "\n",
            "--------------------------------------------------------------\n"
          ],
          "name": "stdout"
        }
      ]
    },
    {
      "cell_type": "code",
      "metadata": {
        "id": "2nm-59YbsAbV"
      },
      "source": [
        "torch.save(net.state_dict(), \"/content/drive/My Drive/multi-modal/text_embed_dict.pt\")"
      ],
      "execution_count": null,
      "outputs": []
    },
    {
      "cell_type": "code",
      "metadata": {
        "id": "H9bax5_nzVcg"
      },
      "source": [
        ""
      ],
      "execution_count": null,
      "outputs": []
    }
  ]
}